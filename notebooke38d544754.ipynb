{
 "cells": [
  {
   "cell_type": "markdown",
   "id": "caed7fbc",
   "metadata": {
    "papermill": {
     "duration": 0.004269,
     "end_time": "2025-05-23T08:51:33.964134",
     "exception": false,
     "start_time": "2025-05-23T08:51:33.959865",
     "status": "completed"
    },
    "tags": []
   },
   "source": [
    "**This notebook is an exercise in the [Pandas](https://www.kaggle.com/learn/pandas) course.  You can reference the tutorial at [this link](https://www.kaggle.com/residentmario/creating-reading-and-writing).**\n",
    "\n",
    "---\n"
   ]
  },
  {
   "cell_type": "markdown",
   "id": "86abff0e",
   "metadata": {
    "papermill": {
     "duration": 0.003166,
     "end_time": "2025-05-23T08:51:33.971045",
     "exception": false,
     "start_time": "2025-05-23T08:51:33.967879",
     "status": "completed"
    },
    "tags": []
   },
   "source": [
    "# Introduction\n",
    "\n",
    "The first step in most data analytics projects is reading the data file. In this exercise, you'll create Series and DataFrame objects, both by hand and by reading data files.\n",
    "\n",
    "Run the code cell below to load libraries you will need (including code to check your answers)."
   ]
  },
  {
   "cell_type": "code",
   "execution_count": 1,
   "id": "92270721",
   "metadata": {
    "execution": {
     "iopub.execute_input": "2025-05-23T08:51:33.979132Z",
     "iopub.status.busy": "2025-05-23T08:51:33.978822Z",
     "iopub.status.idle": "2025-05-23T08:51:37.751205Z",
     "shell.execute_reply": "2025-05-23T08:51:37.750015Z"
    },
    "papermill": {
     "duration": 3.778505,
     "end_time": "2025-05-23T08:51:37.753005",
     "exception": false,
     "start_time": "2025-05-23T08:51:33.974500",
     "status": "completed"
    },
    "tags": []
   },
   "outputs": [
    {
     "name": "stdout",
     "output_type": "stream",
     "text": [
      "Setup complete.\n"
     ]
    }
   ],
   "source": [
    "import pandas as pd\n",
    "pd.set_option('display.max_rows', 5)\n",
    "from learntools.core import binder; binder.bind(globals())\n",
    "from learntools.pandas.creating_reading_and_writing import *\n",
    "print(\"Setup complete.\")"
   ]
  },
  {
   "cell_type": "markdown",
   "id": "f5e39287",
   "metadata": {
    "papermill": {
     "duration": 0.003788,
     "end_time": "2025-05-23T08:51:37.760653",
     "exception": false,
     "start_time": "2025-05-23T08:51:37.756865",
     "status": "completed"
    },
    "tags": []
   },
   "source": [
    "# Exercises"
   ]
  },
  {
   "cell_type": "markdown",
   "id": "989e5ff3",
   "metadata": {
    "papermill": {
     "duration": 0.003495,
     "end_time": "2025-05-23T08:51:37.767624",
     "exception": false,
     "start_time": "2025-05-23T08:51:37.764129",
     "status": "completed"
    },
    "tags": []
   },
   "source": [
    "## 1.\n",
    "\n",
    "In the cell below, create a DataFrame `fruits` that looks like this:\n",
    "\n",
    "![](https://storage.googleapis.com/kaggle-media/learn/images/Ax3pp2A.png)"
   ]
  },
  {
   "cell_type": "code",
   "execution_count": 2,
   "id": "38956e46",
   "metadata": {
    "execution": {
     "iopub.execute_input": "2025-05-23T08:51:37.776402Z",
     "iopub.status.busy": "2025-05-23T08:51:37.775568Z",
     "iopub.status.idle": "2025-05-23T08:51:37.795812Z",
     "shell.execute_reply": "2025-05-23T08:51:37.794865Z"
    },
    "papermill": {
     "duration": 0.02613,
     "end_time": "2025-05-23T08:51:37.797266",
     "exception": false,
     "start_time": "2025-05-23T08:51:37.771136",
     "status": "completed"
    },
    "tags": []
   },
   "outputs": [
    {
     "data": {
      "text/html": [
       "<div>\n",
       "<style scoped>\n",
       "    .dataframe tbody tr th:only-of-type {\n",
       "        vertical-align: middle;\n",
       "    }\n",
       "\n",
       "    .dataframe tbody tr th {\n",
       "        vertical-align: top;\n",
       "    }\n",
       "\n",
       "    .dataframe thead th {\n",
       "        text-align: right;\n",
       "    }\n",
       "</style>\n",
       "<table border=\"1\" class=\"dataframe\">\n",
       "  <thead>\n",
       "    <tr style=\"text-align: right;\">\n",
       "      <th></th>\n",
       "      <th>Apples</th>\n",
       "      <th>Bananas</th>\n",
       "    </tr>\n",
       "  </thead>\n",
       "  <tbody>\n",
       "    <tr>\n",
       "      <th>0</th>\n",
       "      <td>30</td>\n",
       "      <td>21</td>\n",
       "    </tr>\n",
       "  </tbody>\n",
       "</table>\n",
       "</div>"
      ],
      "text/plain": [
       "   Apples  Bananas\n",
       "0      30       21"
      ]
     },
     "execution_count": 2,
     "metadata": {},
     "output_type": "execute_result"
    }
   ],
   "source": [
    "# Your code goes here. Create a dataframe matching the above diagram and assign it to the variable fruits.\n",
    "fruits = pd.DataFrame({'Apples':[30],'Bananas':[21]})\n",
    "\n",
    "# Check your answer\n",
    "fruits"
   ]
  },
  {
   "cell_type": "markdown",
   "id": "5a37d4cb",
   "metadata": {
    "papermill": {
     "duration": 0.003596,
     "end_time": "2025-05-23T08:51:37.804879",
     "exception": false,
     "start_time": "2025-05-23T08:51:37.801283",
     "status": "completed"
    },
    "tags": []
   },
   "source": [
    "## 2.\n",
    "\n",
    "Create a dataframe `fruit_sales` that matches the diagram below:\n",
    "\n",
    "![](https://storage.googleapis.com/kaggle-media/learn/images/CHPn7ZF.png)"
   ]
  },
  {
   "cell_type": "code",
   "execution_count": 3,
   "id": "ec1b113b",
   "metadata": {
    "execution": {
     "iopub.execute_input": "2025-05-23T08:51:37.814044Z",
     "iopub.status.busy": "2025-05-23T08:51:37.813739Z",
     "iopub.status.idle": "2025-05-23T08:51:37.823767Z",
     "shell.execute_reply": "2025-05-23T08:51:37.822879Z"
    },
    "papermill": {
     "duration": 0.016149,
     "end_time": "2025-05-23T08:51:37.825225",
     "exception": false,
     "start_time": "2025-05-23T08:51:37.809076",
     "status": "completed"
    },
    "tags": []
   },
   "outputs": [
    {
     "data": {
      "text/html": [
       "<div>\n",
       "<style scoped>\n",
       "    .dataframe tbody tr th:only-of-type {\n",
       "        vertical-align: middle;\n",
       "    }\n",
       "\n",
       "    .dataframe tbody tr th {\n",
       "        vertical-align: top;\n",
       "    }\n",
       "\n",
       "    .dataframe thead th {\n",
       "        text-align: right;\n",
       "    }\n",
       "</style>\n",
       "<table border=\"1\" class=\"dataframe\">\n",
       "  <thead>\n",
       "    <tr style=\"text-align: right;\">\n",
       "      <th></th>\n",
       "      <th>Apples</th>\n",
       "      <th>Bananas</th>\n",
       "    </tr>\n",
       "  </thead>\n",
       "  <tbody>\n",
       "    <tr>\n",
       "      <th>2017 Sales</th>\n",
       "      <td>35</td>\n",
       "      <td>21</td>\n",
       "    </tr>\n",
       "    <tr>\n",
       "      <th>2018 Sales</th>\n",
       "      <td>41</td>\n",
       "      <td>34</td>\n",
       "    </tr>\n",
       "  </tbody>\n",
       "</table>\n",
       "</div>"
      ],
      "text/plain": [
       "            Apples  Bananas\n",
       "2017 Sales      35       21\n",
       "2018 Sales      41       34"
      ]
     },
     "execution_count": 3,
     "metadata": {},
     "output_type": "execute_result"
    }
   ],
   "source": [
    "import pandas as pd\n",
    "# Your code goes here. Create a dataframe matching the above diagram and assign it to the variable fruit_sales.\n",
    "df = pd.DataFrame({'Apples': [35,41],'Bananas':[21,34]}, index=['2017 Sales','2018 Sales'])\n",
    "#display df\n",
    "df"
   ]
  },
  {
   "cell_type": "code",
   "execution_count": 4,
   "id": "e1b85911",
   "metadata": {
    "execution": {
     "iopub.execute_input": "2025-05-23T08:51:37.834269Z",
     "iopub.status.busy": "2025-05-23T08:51:37.833990Z",
     "iopub.status.idle": "2025-05-23T08:51:37.838166Z",
     "shell.execute_reply": "2025-05-23T08:51:37.837079Z"
    },
    "papermill": {
     "duration": 0.01033,
     "end_time": "2025-05-23T08:51:37.839624",
     "exception": false,
     "start_time": "2025-05-23T08:51:37.829294",
     "status": "completed"
    },
    "tags": []
   },
   "outputs": [],
   "source": [
    "#q2.hint()\n",
    "#q2.solution()"
   ]
  },
  {
   "cell_type": "markdown",
   "id": "32f70104",
   "metadata": {
    "papermill": {
     "duration": 0.003737,
     "end_time": "2025-05-23T08:51:37.847370",
     "exception": false,
     "start_time": "2025-05-23T08:51:37.843633",
     "status": "completed"
    },
    "tags": []
   },
   "source": [
    "## 3.\n",
    "\n",
    "Create a variable `ingredients` with a Series that looks like:\n",
    "\n",
    "```\n",
    "Flour     4 cups\n",
    "Milk       1 cup\n",
    "Eggs     2 large\n",
    "Spam       1 can\n",
    "Name: Dinner, dtype: object\n",
    "```"
   ]
  },
  {
   "cell_type": "code",
   "execution_count": 5,
   "id": "cc6b7fb5",
   "metadata": {
    "execution": {
     "iopub.execute_input": "2025-05-23T08:51:37.856367Z",
     "iopub.status.busy": "2025-05-23T08:51:37.856052Z",
     "iopub.status.idle": "2025-05-23T08:51:37.865531Z",
     "shell.execute_reply": "2025-05-23T08:51:37.864778Z"
    },
    "papermill": {
     "duration": 0.015813,
     "end_time": "2025-05-23T08:51:37.866955",
     "exception": false,
     "start_time": "2025-05-23T08:51:37.851142",
     "status": "completed"
    },
    "tags": []
   },
   "outputs": [
    {
     "data": {
      "application/javascript": [
       "parent.postMessage({\"jupyterEvent\": \"custom.exercise_interaction\", \"data\": {\"outcomeType\": 4, \"interactionType\": 1, \"questionType\": 2, \"questionId\": \"3_RecipeSeriesCreation\", \"learnToolsVersion\": \"0.3.5\", \"valueTowardsCompletion\": 0.0, \"failureMessage\": \"\", \"exceptionClass\": \"\", \"trace\": \"\"}}, \"*\")"
      ],
      "text/plain": [
       "<IPython.core.display.Javascript object>"
      ]
     },
     "metadata": {},
     "output_type": "display_data"
    },
    {
     "data": {
      "text/markdown": [
       "<span style=\"color:#ccaa33\">Check:</span> When you've updated the starter code, `check()` will tell you whether your code is correct. You need to update the code that creates variable `ingredients`"
      ],
      "text/plain": [
       "Check: When you've updated the starter code, `check()` will tell you whether your code is correct. You need to update the code that creates variable `ingredients`"
      ]
     },
     "metadata": {},
     "output_type": "display_data"
    },
    {
     "data": {
      "text/markdown": [],
      "text/plain": [
       "<learntools.core.constants.PlaceholderValue at 0x7f878107a210>"
      ]
     },
     "execution_count": 5,
     "metadata": {},
     "output_type": "execute_result"
    }
   ],
   "source": [
    "ingredients = ____\n",
    "\n",
    "# Check your answer\n",
    "q3.check()\n",
    "ingredients"
   ]
  },
  {
   "cell_type": "code",
   "execution_count": 6,
   "id": "e8818265",
   "metadata": {
    "execution": {
     "iopub.execute_input": "2025-05-23T08:51:37.876629Z",
     "iopub.status.busy": "2025-05-23T08:51:37.876285Z",
     "iopub.status.idle": "2025-05-23T08:51:37.880358Z",
     "shell.execute_reply": "2025-05-23T08:51:37.879555Z"
    },
    "papermill": {
     "duration": 0.010736,
     "end_time": "2025-05-23T08:51:37.881983",
     "exception": false,
     "start_time": "2025-05-23T08:51:37.871247",
     "status": "completed"
    },
    "tags": []
   },
   "outputs": [],
   "source": [
    "#q3.hint()\n",
    "#q3.solution()"
   ]
  },
  {
   "cell_type": "markdown",
   "id": "3d986bd7",
   "metadata": {
    "papermill": {
     "duration": 0.004011,
     "end_time": "2025-05-23T08:51:37.890249",
     "exception": false,
     "start_time": "2025-05-23T08:51:37.886238",
     "status": "completed"
    },
    "tags": []
   },
   "source": [
    "## 4.\n",
    "\n",
    "Read the following csv dataset of wine reviews into a DataFrame called `reviews`:\n",
    "\n",
    "![](https://storage.googleapis.com/kaggle-media/learn/images/74RCZtU.png)\n",
    "\n",
    "The filepath to the csv file is `../input/wine-reviews/winemag-data_first150k.csv`. The first few lines look like:\n",
    "\n",
    "```\n",
    ",country,description,designation,points,price,province,region_1,region_2,variety,winery\n",
    "0,US,\"This tremendous 100% varietal wine[...]\",Martha's Vineyard,96,235.0,California,Napa Valley,Napa,Cabernet Sauvignon,Heitz\n",
    "1,Spain,\"Ripe aromas of fig, blackberry and[...]\",Carodorum Selección Especial Reserva,96,110.0,Northern Spain,Toro,,Tinta de Toro,Bodega Carmen Rodríguez\n",
    "```"
   ]
  },
  {
   "cell_type": "code",
   "execution_count": 7,
   "id": "313a529b",
   "metadata": {
    "execution": {
     "iopub.execute_input": "2025-05-23T08:51:37.900116Z",
     "iopub.status.busy": "2025-05-23T08:51:37.899827Z",
     "iopub.status.idle": "2025-05-23T08:51:37.908566Z",
     "shell.execute_reply": "2025-05-23T08:51:37.907737Z"
    },
    "papermill": {
     "duration": 0.01564,
     "end_time": "2025-05-23T08:51:37.909868",
     "exception": false,
     "start_time": "2025-05-23T08:51:37.894228",
     "status": "completed"
    },
    "tags": []
   },
   "outputs": [
    {
     "data": {
      "application/javascript": [
       "parent.postMessage({\"jupyterEvent\": \"custom.exercise_interaction\", \"data\": {\"outcomeType\": 4, \"interactionType\": 1, \"questionType\": 1, \"questionId\": \"4_ReadWineCsv\", \"learnToolsVersion\": \"0.3.5\", \"valueTowardsCompletion\": 0.0, \"failureMessage\": \"\", \"exceptionClass\": \"\", \"trace\": \"\"}}, \"*\")"
      ],
      "text/plain": [
       "<IPython.core.display.Javascript object>"
      ]
     },
     "metadata": {},
     "output_type": "display_data"
    },
    {
     "data": {
      "text/markdown": [
       "<span style=\"color:#ccaa33\">Check:</span> When you've updated the starter code, `check()` will tell you whether your code is correct. You need to update the code that creates variable `reviews`"
      ],
      "text/plain": [
       "Check: When you've updated the starter code, `check()` will tell you whether your code is correct. You need to update the code that creates variable `reviews`"
      ]
     },
     "metadata": {},
     "output_type": "display_data"
    },
    {
     "data": {
      "text/markdown": [],
      "text/plain": [
       "<learntools.core.constants.PlaceholderValue at 0x7f878107a210>"
      ]
     },
     "execution_count": 7,
     "metadata": {},
     "output_type": "execute_result"
    }
   ],
   "source": [
    "reviews = ____\n",
    "\n",
    "# Check your answer\n",
    "q4.check()\n",
    "reviews"
   ]
  },
  {
   "cell_type": "code",
   "execution_count": 8,
   "id": "769f1a32",
   "metadata": {
    "execution": {
     "iopub.execute_input": "2025-05-23T08:51:37.919854Z",
     "iopub.status.busy": "2025-05-23T08:51:37.919504Z",
     "iopub.status.idle": "2025-05-23T08:51:37.923777Z",
     "shell.execute_reply": "2025-05-23T08:51:37.922811Z"
    },
    "papermill": {
     "duration": 0.010849,
     "end_time": "2025-05-23T08:51:37.925252",
     "exception": false,
     "start_time": "2025-05-23T08:51:37.914403",
     "status": "completed"
    },
    "tags": []
   },
   "outputs": [],
   "source": [
    "#q4.hint()\n",
    "#q4.solution()"
   ]
  },
  {
   "cell_type": "markdown",
   "id": "d32e98c0",
   "metadata": {
    "papermill": {
     "duration": 0.004204,
     "end_time": "2025-05-23T08:51:37.933960",
     "exception": false,
     "start_time": "2025-05-23T08:51:37.929756",
     "status": "completed"
    },
    "tags": []
   },
   "source": [
    "## 5.\n",
    "\n",
    "Run the cell below to create and display a DataFrame called `animals`:"
   ]
  },
  {
   "cell_type": "code",
   "execution_count": 9,
   "id": "bf7e7168",
   "metadata": {
    "execution": {
     "iopub.execute_input": "2025-05-23T08:51:37.943762Z",
     "iopub.status.busy": "2025-05-23T08:51:37.943337Z",
     "iopub.status.idle": "2025-05-23T08:51:37.952862Z",
     "shell.execute_reply": "2025-05-23T08:51:37.951824Z"
    },
    "papermill": {
     "duration": 0.016353,
     "end_time": "2025-05-23T08:51:37.954544",
     "exception": false,
     "start_time": "2025-05-23T08:51:37.938191",
     "status": "completed"
    },
    "tags": []
   },
   "outputs": [
    {
     "data": {
      "text/html": [
       "<div>\n",
       "<style scoped>\n",
       "    .dataframe tbody tr th:only-of-type {\n",
       "        vertical-align: middle;\n",
       "    }\n",
       "\n",
       "    .dataframe tbody tr th {\n",
       "        vertical-align: top;\n",
       "    }\n",
       "\n",
       "    .dataframe thead th {\n",
       "        text-align: right;\n",
       "    }\n",
       "</style>\n",
       "<table border=\"1\" class=\"dataframe\">\n",
       "  <thead>\n",
       "    <tr style=\"text-align: right;\">\n",
       "      <th></th>\n",
       "      <th>Cows</th>\n",
       "      <th>Goats</th>\n",
       "    </tr>\n",
       "  </thead>\n",
       "  <tbody>\n",
       "    <tr>\n",
       "      <th>Year 1</th>\n",
       "      <td>12</td>\n",
       "      <td>22</td>\n",
       "    </tr>\n",
       "    <tr>\n",
       "      <th>Year 2</th>\n",
       "      <td>20</td>\n",
       "      <td>19</td>\n",
       "    </tr>\n",
       "  </tbody>\n",
       "</table>\n",
       "</div>"
      ],
      "text/plain": [
       "        Cows  Goats\n",
       "Year 1    12     22\n",
       "Year 2    20     19"
      ]
     },
     "execution_count": 9,
     "metadata": {},
     "output_type": "execute_result"
    }
   ],
   "source": [
    "animals = pd.DataFrame({'Cows': [12, 20], 'Goats': [22, 19]}, index=['Year 1', 'Year 2'])\n",
    "animals"
   ]
  },
  {
   "cell_type": "markdown",
   "id": "a20fea23",
   "metadata": {
    "papermill": {
     "duration": 0.004336,
     "end_time": "2025-05-23T08:51:37.963645",
     "exception": false,
     "start_time": "2025-05-23T08:51:37.959309",
     "status": "completed"
    },
    "tags": []
   },
   "source": [
    "In the cell below, write code to save this DataFrame to disk as a csv file with the name `cows_and_goats.csv`."
   ]
  },
  {
   "cell_type": "code",
   "execution_count": 10,
   "id": "22515b6a",
   "metadata": {
    "execution": {
     "iopub.execute_input": "2025-05-23T08:51:37.973657Z",
     "iopub.status.busy": "2025-05-23T08:51:37.973359Z",
     "iopub.status.idle": "2025-05-23T08:51:37.980392Z",
     "shell.execute_reply": "2025-05-23T08:51:37.979601Z"
    },
    "papermill": {
     "duration": 0.013747,
     "end_time": "2025-05-23T08:51:37.981817",
     "exception": false,
     "start_time": "2025-05-23T08:51:37.968070",
     "status": "completed"
    },
    "tags": []
   },
   "outputs": [
    {
     "data": {
      "application/javascript": [
       "parent.postMessage({\"jupyterEvent\": \"custom.exercise_interaction\", \"data\": {\"outcomeType\": 2, \"failureMessage\": \"Expected file to exist with name `cows_and_goats.csv`\", \"interactionType\": 1, \"questionType\": 2, \"questionId\": \"5_SaveAnimalsCsv\", \"learnToolsVersion\": \"0.3.5\", \"valueTowardsCompletion\": 0.0, \"exceptionClass\": \"\", \"trace\": \"\"}}, \"*\")"
      ],
      "text/plain": [
       "<IPython.core.display.Javascript object>"
      ]
     },
     "metadata": {},
     "output_type": "display_data"
    },
    {
     "data": {
      "text/markdown": [
       "<span style=\"color:#cc3333\">Incorrect:</span> Expected file to exist with name `cows_and_goats.csv`"
      ],
      "text/plain": [
       "Incorrect: Expected file to exist with name `cows_and_goats.csv`"
      ]
     },
     "metadata": {},
     "output_type": "display_data"
    }
   ],
   "source": [
    "# Your code goes here\n",
    "\n",
    "# Check your answer\n",
    "q5.check()"
   ]
  },
  {
   "cell_type": "code",
   "execution_count": 11,
   "id": "a71c9176",
   "metadata": {
    "execution": {
     "iopub.execute_input": "2025-05-23T08:51:37.992661Z",
     "iopub.status.busy": "2025-05-23T08:51:37.992344Z",
     "iopub.status.idle": "2025-05-23T08:51:37.996032Z",
     "shell.execute_reply": "2025-05-23T08:51:37.995291Z"
    },
    "papermill": {
     "duration": 0.010775,
     "end_time": "2025-05-23T08:51:37.997379",
     "exception": false,
     "start_time": "2025-05-23T08:51:37.986604",
     "status": "completed"
    },
    "tags": []
   },
   "outputs": [],
   "source": [
    "#q5.hint()\n",
    "#q5.solution()"
   ]
  },
  {
   "cell_type": "markdown",
   "id": "0532e604",
   "metadata": {
    "papermill": {
     "duration": 0.004498,
     "end_time": "2025-05-23T08:51:38.006730",
     "exception": false,
     "start_time": "2025-05-23T08:51:38.002232",
     "status": "completed"
    },
    "tags": []
   },
   "source": [
    "# Keep going\n",
    "\n",
    "Move on to learn about **[indexing, selecting and assigning](https://www.kaggle.com/residentmario/indexing-selecting-assigning)**."
   ]
  },
  {
   "cell_type": "markdown",
   "id": "90398bb3",
   "metadata": {
    "papermill": {
     "duration": 0.004536,
     "end_time": "2025-05-23T08:51:38.015941",
     "exception": false,
     "start_time": "2025-05-23T08:51:38.011405",
     "status": "completed"
    },
    "tags": []
   },
   "source": [
    "---\n",
    "\n",
    "\n",
    "\n",
    "\n",
    "*Have questions or comments? Visit the [course discussion forum](https://www.kaggle.com/learn/pandas/discussion) to chat with other learners.*"
   ]
  }
 ],
 "metadata": {
  "kaggle": {
   "accelerator": "none",
   "dataSources": [
    {
     "datasetId": 655,
     "sourceId": 1252,
     "sourceType": "datasetVersion"
    },
    {
     "datasetId": 2321,
     "sourceId": 3919,
     "sourceType": "datasetVersion"
    },
    {
     "datasetId": 2894,
     "sourceId": 4877,
     "sourceType": "datasetVersion"
    },
    {
     "datasetId": 3491,
     "sourceId": 5624,
     "sourceType": "datasetVersion"
    },
    {
     "datasetId": 1442,
     "sourceId": 8172,
     "sourceType": "datasetVersion"
    },
    {
     "datasetId": 9366,
     "sourceId": 13206,
     "sourceType": "datasetVersion"
    },
    {
     "datasetId": 179555,
     "sourceId": 403916,
     "sourceType": "datasetVersion"
    },
    {
     "datasetId": 4549,
     "sourceId": 466349,
     "sourceType": "datasetVersion"
    },
    {
     "datasetId": 2478,
     "sourceId": 1151655,
     "sourceType": "datasetVersion"
    },
    {
     "datasetId": 10128,
     "sourceId": 5438389,
     "sourceType": "datasetVersion"
    }
   ],
   "isGpuEnabled": false,
   "isInternetEnabled": false,
   "language": "python",
   "sourceType": "notebook"
  },
  "kernelspec": {
   "display_name": "Python 3",
   "language": "python",
   "name": "python3"
  },
  "language_info": {
   "codemirror_mode": {
    "name": "ipython",
    "version": 3
   },
   "file_extension": ".py",
   "mimetype": "text/x-python",
   "name": "python",
   "nbconvert_exporter": "python",
   "pygments_lexer": "ipython3",
   "version": "3.11.11"
  },
  "papermill": {
   "default_parameters": {},
   "duration": 9.398082,
   "end_time": "2025-05-23T08:51:38.539579",
   "environment_variables": {},
   "exception": null,
   "input_path": "__notebook__.ipynb",
   "output_path": "__notebook__.ipynb",
   "parameters": {},
   "start_time": "2025-05-23T08:51:29.141497",
   "version": "2.6.0"
  }
 },
 "nbformat": 4,
 "nbformat_minor": 5
}
