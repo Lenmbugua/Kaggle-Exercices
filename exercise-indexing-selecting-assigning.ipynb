{
 "cells": [
  {
   "cell_type": "markdown",
   "id": "3d901735",
   "metadata": {
    "papermill": {
     "duration": 0.005705,
     "end_time": "2025-05-26T08:12:47.632435",
     "exception": false,
     "start_time": "2025-05-26T08:12:47.626730",
     "status": "completed"
    },
    "tags": []
   },
   "source": [
    "**This notebook is an exercise in the [Pandas](https://www.kaggle.com/learn/pandas) course.  You can reference the tutorial at [this link](https://www.kaggle.com/residentmario/indexing-selecting-assigning).**\n",
    "\n",
    "---\n"
   ]
  },
  {
   "cell_type": "markdown",
   "id": "250ebc3a",
   "metadata": {
    "papermill": {
     "duration": 0.004661,
     "end_time": "2025-05-26T08:12:47.642185",
     "exception": false,
     "start_time": "2025-05-26T08:12:47.637524",
     "status": "completed"
    },
    "tags": []
   },
   "source": [
    "# Introduction\n",
    "\n",
    "In this set of exercises we will work with the [Wine Reviews dataset](https://www.kaggle.com/zynicide/wine-reviews). "
   ]
  },
  {
   "cell_type": "markdown",
   "id": "52032dfe",
   "metadata": {
    "papermill": {
     "duration": 0.004784,
     "end_time": "2025-05-26T08:12:47.652216",
     "exception": false,
     "start_time": "2025-05-26T08:12:47.647432",
     "status": "completed"
    },
    "tags": []
   },
   "source": [
    "Run the following cell to load your data and some utility functions (including code to check your answers)."
   ]
  },
  {
   "cell_type": "code",
   "execution_count": 1,
   "id": "87887975",
   "metadata": {
    "execution": {
     "iopub.execute_input": "2025-05-26T08:12:47.663390Z",
     "iopub.status.busy": "2025-05-26T08:12:47.662926Z",
     "iopub.status.idle": "2025-05-26T08:12:53.190860Z",
     "shell.execute_reply": "2025-05-26T08:12:53.189829Z"
    },
    "papermill": {
     "duration": 5.535485,
     "end_time": "2025-05-26T08:12:53.192557",
     "exception": false,
     "start_time": "2025-05-26T08:12:47.657072",
     "status": "completed"
    },
    "tags": []
   },
   "outputs": [
    {
     "name": "stdout",
     "output_type": "stream",
     "text": [
      "Setup complete.\n"
     ]
    }
   ],
   "source": [
    "import pandas as pd\n",
    "\n",
    "reviews = pd.read_csv(\"../input/wine-reviews/winemag-data-130k-v2.csv\", index_col=0)\n",
    "pd.set_option(\"display.max_rows\", 5)\n",
    "\n",
    "from learntools.core import binder; binder.bind(globals())\n",
    "from learntools.pandas.indexing_selecting_and_assigning import *\n",
    "print(\"Setup complete.\")"
   ]
  },
  {
   "cell_type": "markdown",
   "id": "f73409af",
   "metadata": {
    "papermill": {
     "duration": 0.004942,
     "end_time": "2025-05-26T08:12:53.203206",
     "exception": false,
     "start_time": "2025-05-26T08:12:53.198264",
     "status": "completed"
    },
    "tags": []
   },
   "source": [
    "Look at an overview of your data by running the following line."
   ]
  },
  {
   "cell_type": "code",
   "execution_count": 2,
   "id": "a4104e02",
   "metadata": {
    "execution": {
     "iopub.execute_input": "2025-05-26T08:12:53.214663Z",
     "iopub.status.busy": "2025-05-26T08:12:53.214332Z",
     "iopub.status.idle": "2025-05-26T08:12:53.242893Z",
     "shell.execute_reply": "2025-05-26T08:12:53.241661Z"
    },
    "papermill": {
     "duration": 0.036274,
     "end_time": "2025-05-26T08:12:53.244532",
     "exception": false,
     "start_time": "2025-05-26T08:12:53.208258",
     "status": "completed"
    },
    "tags": []
   },
   "outputs": [
    {
     "name": "stderr",
     "output_type": "stream",
     "text": [
      "/usr/local/lib/python3.11/dist-packages/pandas/io/formats/format.py:1458: RuntimeWarning: invalid value encountered in greater\n",
      "  has_large_values = (abs_vals > 1e6).any()\n",
      "/usr/local/lib/python3.11/dist-packages/pandas/io/formats/format.py:1459: RuntimeWarning: invalid value encountered in less\n",
      "  has_small_values = ((abs_vals < 10 ** (-self.digits)) & (abs_vals > 0)).any()\n",
      "/usr/local/lib/python3.11/dist-packages/pandas/io/formats/format.py:1459: RuntimeWarning: invalid value encountered in greater\n",
      "  has_small_values = ((abs_vals < 10 ** (-self.digits)) & (abs_vals > 0)).any()\n"
     ]
    },
    {
     "data": {
      "text/html": [
       "<div>\n",
       "<style scoped>\n",
       "    .dataframe tbody tr th:only-of-type {\n",
       "        vertical-align: middle;\n",
       "    }\n",
       "\n",
       "    .dataframe tbody tr th {\n",
       "        vertical-align: top;\n",
       "    }\n",
       "\n",
       "    .dataframe thead th {\n",
       "        text-align: right;\n",
       "    }\n",
       "</style>\n",
       "<table border=\"1\" class=\"dataframe\">\n",
       "  <thead>\n",
       "    <tr style=\"text-align: right;\">\n",
       "      <th></th>\n",
       "      <th>country</th>\n",
       "      <th>description</th>\n",
       "      <th>designation</th>\n",
       "      <th>points</th>\n",
       "      <th>price</th>\n",
       "      <th>province</th>\n",
       "      <th>region_1</th>\n",
       "      <th>region_2</th>\n",
       "      <th>taster_name</th>\n",
       "      <th>taster_twitter_handle</th>\n",
       "      <th>title</th>\n",
       "      <th>variety</th>\n",
       "      <th>winery</th>\n",
       "    </tr>\n",
       "  </thead>\n",
       "  <tbody>\n",
       "    <tr>\n",
       "      <th>0</th>\n",
       "      <td>Italy</td>\n",
       "      <td>Aromas include tropical fruit, broom, brimston...</td>\n",
       "      <td>Vulkà Bianco</td>\n",
       "      <td>87</td>\n",
       "      <td>NaN</td>\n",
       "      <td>Sicily &amp; Sardinia</td>\n",
       "      <td>Etna</td>\n",
       "      <td>NaN</td>\n",
       "      <td>Kerin O’Keefe</td>\n",
       "      <td>@kerinokeefe</td>\n",
       "      <td>Nicosia 2013 Vulkà Bianco  (Etna)</td>\n",
       "      <td>White Blend</td>\n",
       "      <td>Nicosia</td>\n",
       "    </tr>\n",
       "    <tr>\n",
       "      <th>1</th>\n",
       "      <td>Portugal</td>\n",
       "      <td>This is ripe and fruity, a wine that is smooth...</td>\n",
       "      <td>Avidagos</td>\n",
       "      <td>87</td>\n",
       "      <td>15.0</td>\n",
       "      <td>Douro</td>\n",
       "      <td>NaN</td>\n",
       "      <td>NaN</td>\n",
       "      <td>Roger Voss</td>\n",
       "      <td>@vossroger</td>\n",
       "      <td>Quinta dos Avidagos 2011 Avidagos Red (Douro)</td>\n",
       "      <td>Portuguese Red</td>\n",
       "      <td>Quinta dos Avidagos</td>\n",
       "    </tr>\n",
       "    <tr>\n",
       "      <th>2</th>\n",
       "      <td>US</td>\n",
       "      <td>Tart and snappy, the flavors of lime flesh and...</td>\n",
       "      <td>NaN</td>\n",
       "      <td>87</td>\n",
       "      <td>14.0</td>\n",
       "      <td>Oregon</td>\n",
       "      <td>Willamette Valley</td>\n",
       "      <td>Willamette Valley</td>\n",
       "      <td>Paul Gregutt</td>\n",
       "      <td>@paulgwine</td>\n",
       "      <td>Rainstorm 2013 Pinot Gris (Willamette Valley)</td>\n",
       "      <td>Pinot Gris</td>\n",
       "      <td>Rainstorm</td>\n",
       "    </tr>\n",
       "    <tr>\n",
       "      <th>3</th>\n",
       "      <td>US</td>\n",
       "      <td>Pineapple rind, lemon pith and orange blossom ...</td>\n",
       "      <td>Reserve Late Harvest</td>\n",
       "      <td>87</td>\n",
       "      <td>13.0</td>\n",
       "      <td>Michigan</td>\n",
       "      <td>Lake Michigan Shore</td>\n",
       "      <td>NaN</td>\n",
       "      <td>Alexander Peartree</td>\n",
       "      <td>NaN</td>\n",
       "      <td>St. Julian 2013 Reserve Late Harvest Riesling ...</td>\n",
       "      <td>Riesling</td>\n",
       "      <td>St. Julian</td>\n",
       "    </tr>\n",
       "    <tr>\n",
       "      <th>4</th>\n",
       "      <td>US</td>\n",
       "      <td>Much like the regular bottling from 2012, this...</td>\n",
       "      <td>Vintner's Reserve Wild Child Block</td>\n",
       "      <td>87</td>\n",
       "      <td>65.0</td>\n",
       "      <td>Oregon</td>\n",
       "      <td>Willamette Valley</td>\n",
       "      <td>Willamette Valley</td>\n",
       "      <td>Paul Gregutt</td>\n",
       "      <td>@paulgwine</td>\n",
       "      <td>Sweet Cheeks 2012 Vintner's Reserve Wild Child...</td>\n",
       "      <td>Pinot Noir</td>\n",
       "      <td>Sweet Cheeks</td>\n",
       "    </tr>\n",
       "  </tbody>\n",
       "</table>\n",
       "</div>"
      ],
      "text/plain": [
       "    country                                        description  \\\n",
       "0     Italy  Aromas include tropical fruit, broom, brimston...   \n",
       "1  Portugal  This is ripe and fruity, a wine that is smooth...   \n",
       "2        US  Tart and snappy, the flavors of lime flesh and...   \n",
       "3        US  Pineapple rind, lemon pith and orange blossom ...   \n",
       "4        US  Much like the regular bottling from 2012, this...   \n",
       "\n",
       "                          designation  points  price           province  \\\n",
       "0                        Vulkà Bianco      87    NaN  Sicily & Sardinia   \n",
       "1                            Avidagos      87   15.0              Douro   \n",
       "2                                 NaN      87   14.0             Oregon   \n",
       "3                Reserve Late Harvest      87   13.0           Michigan   \n",
       "4  Vintner's Reserve Wild Child Block      87   65.0             Oregon   \n",
       "\n",
       "              region_1           region_2         taster_name  \\\n",
       "0                 Etna                NaN       Kerin O’Keefe   \n",
       "1                  NaN                NaN          Roger Voss   \n",
       "2    Willamette Valley  Willamette Valley        Paul Gregutt   \n",
       "3  Lake Michigan Shore                NaN  Alexander Peartree   \n",
       "4    Willamette Valley  Willamette Valley        Paul Gregutt   \n",
       "\n",
       "  taster_twitter_handle                                              title  \\\n",
       "0          @kerinokeefe                  Nicosia 2013 Vulkà Bianco  (Etna)   \n",
       "1            @vossroger      Quinta dos Avidagos 2011 Avidagos Red (Douro)   \n",
       "2           @paulgwine       Rainstorm 2013 Pinot Gris (Willamette Valley)   \n",
       "3                   NaN  St. Julian 2013 Reserve Late Harvest Riesling ...   \n",
       "4           @paulgwine   Sweet Cheeks 2012 Vintner's Reserve Wild Child...   \n",
       "\n",
       "          variety               winery  \n",
       "0     White Blend              Nicosia  \n",
       "1  Portuguese Red  Quinta dos Avidagos  \n",
       "2      Pinot Gris            Rainstorm  \n",
       "3        Riesling           St. Julian  \n",
       "4      Pinot Noir         Sweet Cheeks  "
      ]
     },
     "execution_count": 2,
     "metadata": {},
     "output_type": "execute_result"
    }
   ],
   "source": [
    "reviews.head()"
   ]
  },
  {
   "cell_type": "markdown",
   "id": "dbe4ffaa",
   "metadata": {
    "papermill": {
     "duration": 0.005252,
     "end_time": "2025-05-26T08:12:53.255412",
     "exception": false,
     "start_time": "2025-05-26T08:12:53.250160",
     "status": "completed"
    },
    "tags": []
   },
   "source": [
    "# Exercises"
   ]
  },
  {
   "cell_type": "markdown",
   "id": "7b83d79b",
   "metadata": {
    "papermill": {
     "duration": 0.00508,
     "end_time": "2025-05-26T08:12:53.265852",
     "exception": false,
     "start_time": "2025-05-26T08:12:53.260772",
     "status": "completed"
    },
    "tags": []
   },
   "source": [
    "## 1.\n",
    "\n",
    "Select the `description` column from `reviews` and assign the result to the variable `desc`."
   ]
  },
  {
   "cell_type": "code",
   "execution_count": 3,
   "id": "924b61c8",
   "metadata": {
    "execution": {
     "iopub.execute_input": "2025-05-26T08:12:53.277886Z",
     "iopub.status.busy": "2025-05-26T08:12:53.277600Z",
     "iopub.status.idle": "2025-05-26T08:12:53.287225Z",
     "shell.execute_reply": "2025-05-26T08:12:53.286260Z"
    },
    "papermill": {
     "duration": 0.017595,
     "end_time": "2025-05-26T08:12:53.288866",
     "exception": false,
     "start_time": "2025-05-26T08:12:53.271271",
     "status": "completed"
    },
    "tags": []
   },
   "outputs": [
    {
     "data": {
      "text/plain": [
       "\"Aromas include tropical fruit, broom, brimstone and dried herb. The palate isn't overly expressive, offering unripened apple, citrus and dried sage alongside brisk acidity.\""
      ]
     },
     "execution_count": 3,
     "metadata": {},
     "output_type": "execute_result"
    }
   ],
   "source": [
    "# Your code here\n",
    "desc = reviews['description'][0]\n",
    "\n",
    "# Check your answer\n",
    "desc"
   ]
  },
  {
   "cell_type": "markdown",
   "id": "8f2a1261",
   "metadata": {
    "papermill": {
     "duration": 0.005253,
     "end_time": "2025-05-26T08:12:53.300267",
     "exception": false,
     "start_time": "2025-05-26T08:12:53.295014",
     "status": "completed"
    },
    "tags": []
   },
   "source": [
    "Follow-up question: what type of object is `desc`? If you're not sure, you can check by calling Python's `type` function: `type(desc)`."
   ]
  },
  {
   "cell_type": "code",
   "execution_count": 4,
   "id": "77c60215",
   "metadata": {
    "execution": {
     "iopub.execute_input": "2025-05-26T08:12:53.312118Z",
     "iopub.status.busy": "2025-05-26T08:12:53.311820Z",
     "iopub.status.idle": "2025-05-26T08:12:53.316006Z",
     "shell.execute_reply": "2025-05-26T08:12:53.315070Z"
    },
    "papermill": {
     "duration": 0.012124,
     "end_time": "2025-05-26T08:12:53.317623",
     "exception": false,
     "start_time": "2025-05-26T08:12:53.305499",
     "status": "completed"
    },
    "tags": []
   },
   "outputs": [],
   "source": [
    "#q1.hint()\n",
    "#q1.solution()"
   ]
  },
  {
   "cell_type": "markdown",
   "id": "d9eac219",
   "metadata": {
    "papermill": {
     "duration": 0.005344,
     "end_time": "2025-05-26T08:12:53.329229",
     "exception": false,
     "start_time": "2025-05-26T08:12:53.323885",
     "status": "completed"
    },
    "tags": []
   },
   "source": [
    "## 2.\n",
    "\n",
    "Select the first value from the description column of `reviews`, assigning it to variable `first_description`."
   ]
  },
  {
   "cell_type": "code",
   "execution_count": 5,
   "id": "00d2b85e",
   "metadata": {
    "execution": {
     "iopub.execute_input": "2025-05-26T08:12:53.342264Z",
     "iopub.status.busy": "2025-05-26T08:12:53.341145Z",
     "iopub.status.idle": "2025-05-26T08:12:53.351448Z",
     "shell.execute_reply": "2025-05-26T08:12:53.350447Z"
    },
    "papermill": {
     "duration": 0.01842,
     "end_time": "2025-05-26T08:12:53.353117",
     "exception": false,
     "start_time": "2025-05-26T08:12:53.334697",
     "status": "completed"
    },
    "tags": []
   },
   "outputs": [
    {
     "data": {
      "application/javascript": [
       "parent.postMessage({\"jupyterEvent\": \"custom.exercise_interaction\", \"data\": {\"outcomeType\": 4, \"interactionType\": 1, \"questionType\": 1, \"questionId\": \"2_FirstDesc\", \"learnToolsVersion\": \"0.3.5\", \"valueTowardsCompletion\": 0.0, \"failureMessage\": \"\", \"exceptionClass\": \"\", \"trace\": \"\"}}, \"*\")"
      ],
      "text/plain": [
       "<IPython.core.display.Javascript object>"
      ]
     },
     "metadata": {},
     "output_type": "display_data"
    },
    {
     "data": {
      "text/markdown": [
       "<span style=\"color:#ccaa33\">Check:</span> When you've updated the starter code, `check()` will tell you whether your code is correct. You need to update the code that creates variable `first_description`"
      ],
      "text/plain": [
       "Check: When you've updated the starter code, `check()` will tell you whether your code is correct. You need to update the code that creates variable `first_description`"
      ]
     },
     "metadata": {},
     "output_type": "display_data"
    },
    {
     "data": {
      "text/markdown": [],
      "text/plain": [
       "<learntools.core.constants.PlaceholderValue at 0x7f90f05b96d0>"
      ]
     },
     "execution_count": 5,
     "metadata": {},
     "output_type": "execute_result"
    }
   ],
   "source": [
    "first_description = ____\n",
    "\n",
    "# Check your answer\n",
    "q2.check()\n",
    "first_description"
   ]
  },
  {
   "cell_type": "code",
   "execution_count": 6,
   "id": "7df5098c",
   "metadata": {
    "execution": {
     "iopub.execute_input": "2025-05-26T08:12:53.366507Z",
     "iopub.status.busy": "2025-05-26T08:12:53.366121Z",
     "iopub.status.idle": "2025-05-26T08:12:53.370025Z",
     "shell.execute_reply": "2025-05-26T08:12:53.369227Z"
    },
    "papermill": {
     "duration": 0.012269,
     "end_time": "2025-05-26T08:12:53.371544",
     "exception": false,
     "start_time": "2025-05-26T08:12:53.359275",
     "status": "completed"
    },
    "tags": []
   },
   "outputs": [],
   "source": [
    "#q2.hint()\n",
    "#q2.solution()"
   ]
  },
  {
   "cell_type": "markdown",
   "id": "f4141378",
   "metadata": {
    "papermill": {
     "duration": 0.00556,
     "end_time": "2025-05-26T08:12:53.383135",
     "exception": false,
     "start_time": "2025-05-26T08:12:53.377575",
     "status": "completed"
    },
    "tags": []
   },
   "source": [
    "## 3. \n",
    "\n",
    "Select the first row of data (the first record) from `reviews`, assigning it to the variable `first_row`."
   ]
  },
  {
   "cell_type": "code",
   "execution_count": 7,
   "id": "af1a95bb",
   "metadata": {
    "execution": {
     "iopub.execute_input": "2025-05-26T08:12:53.396513Z",
     "iopub.status.busy": "2025-05-26T08:12:53.395569Z",
     "iopub.status.idle": "2025-05-26T08:12:53.404541Z",
     "shell.execute_reply": "2025-05-26T08:12:53.403704Z"
    },
    "papermill": {
     "duration": 0.017045,
     "end_time": "2025-05-26T08:12:53.405885",
     "exception": false,
     "start_time": "2025-05-26T08:12:53.388840",
     "status": "completed"
    },
    "tags": []
   },
   "outputs": [
    {
     "data": {
      "application/javascript": [
       "parent.postMessage({\"jupyterEvent\": \"custom.exercise_interaction\", \"data\": {\"outcomeType\": 4, \"interactionType\": 1, \"questionType\": 1, \"questionId\": \"3_FirstRow\", \"learnToolsVersion\": \"0.3.5\", \"valueTowardsCompletion\": 0.0, \"failureMessage\": \"\", \"exceptionClass\": \"\", \"trace\": \"\"}}, \"*\")"
      ],
      "text/plain": [
       "<IPython.core.display.Javascript object>"
      ]
     },
     "metadata": {},
     "output_type": "display_data"
    },
    {
     "data": {
      "text/markdown": [
       "<span style=\"color:#ccaa33\">Check:</span> When you've updated the starter code, `check()` will tell you whether your code is correct. You need to update the code that creates variable `first_row`"
      ],
      "text/plain": [
       "Check: When you've updated the starter code, `check()` will tell you whether your code is correct. You need to update the code that creates variable `first_row`"
      ]
     },
     "metadata": {},
     "output_type": "display_data"
    },
    {
     "data": {
      "text/markdown": [],
      "text/plain": [
       "<learntools.core.constants.PlaceholderValue at 0x7f90f05b96d0>"
      ]
     },
     "execution_count": 7,
     "metadata": {},
     "output_type": "execute_result"
    }
   ],
   "source": [
    "first_row = ____\n",
    "\n",
    "# Check your answer\n",
    "q3.check()\n",
    "first_row"
   ]
  },
  {
   "cell_type": "code",
   "execution_count": 8,
   "id": "23fa0162",
   "metadata": {
    "execution": {
     "iopub.execute_input": "2025-05-26T08:12:53.420519Z",
     "iopub.status.busy": "2025-05-26T08:12:53.419391Z",
     "iopub.status.idle": "2025-05-26T08:12:53.424257Z",
     "shell.execute_reply": "2025-05-26T08:12:53.423202Z"
    },
    "papermill": {
     "duration": 0.013643,
     "end_time": "2025-05-26T08:12:53.426019",
     "exception": false,
     "start_time": "2025-05-26T08:12:53.412376",
     "status": "completed"
    },
    "tags": []
   },
   "outputs": [],
   "source": [
    "#q3.hint()\n",
    "#q3.solution()"
   ]
  },
  {
   "cell_type": "markdown",
   "id": "94c4797c",
   "metadata": {
    "papermill": {
     "duration": 0.005935,
     "end_time": "2025-05-26T08:12:53.438322",
     "exception": false,
     "start_time": "2025-05-26T08:12:53.432387",
     "status": "completed"
    },
    "tags": []
   },
   "source": [
    "## 4.\n",
    "\n",
    "Select the first 10 values from the `description` column in `reviews`, assigning the result to variable `first_descriptions`.\n",
    "\n",
    "Hint: format your output as a pandas Series."
   ]
  },
  {
   "cell_type": "code",
   "execution_count": 9,
   "id": "04ef00f1",
   "metadata": {
    "execution": {
     "iopub.execute_input": "2025-05-26T08:12:53.451768Z",
     "iopub.status.busy": "2025-05-26T08:12:53.451457Z",
     "iopub.status.idle": "2025-05-26T08:12:53.461132Z",
     "shell.execute_reply": "2025-05-26T08:12:53.459961Z"
    },
    "papermill": {
     "duration": 0.018207,
     "end_time": "2025-05-26T08:12:53.462678",
     "exception": false,
     "start_time": "2025-05-26T08:12:53.444471",
     "status": "completed"
    },
    "tags": []
   },
   "outputs": [
    {
     "data": {
      "application/javascript": [
       "parent.postMessage({\"jupyterEvent\": \"custom.exercise_interaction\", \"data\": {\"outcomeType\": 4, \"interactionType\": 1, \"questionType\": 1, \"questionId\": \"4_FirstDescs\", \"learnToolsVersion\": \"0.3.5\", \"valueTowardsCompletion\": 0.0, \"failureMessage\": \"\", \"exceptionClass\": \"\", \"trace\": \"\"}}, \"*\")"
      ],
      "text/plain": [
       "<IPython.core.display.Javascript object>"
      ]
     },
     "metadata": {},
     "output_type": "display_data"
    },
    {
     "data": {
      "text/markdown": [
       "<span style=\"color:#ccaa33\">Check:</span> When you've updated the starter code, `check()` will tell you whether your code is correct. You need to update the code that creates variable `first_descriptions`"
      ],
      "text/plain": [
       "Check: When you've updated the starter code, `check()` will tell you whether your code is correct. You need to update the code that creates variable `first_descriptions`"
      ]
     },
     "metadata": {},
     "output_type": "display_data"
    },
    {
     "data": {
      "text/markdown": [],
      "text/plain": [
       "<learntools.core.constants.PlaceholderValue at 0x7f90f05b96d0>"
      ]
     },
     "execution_count": 9,
     "metadata": {},
     "output_type": "execute_result"
    }
   ],
   "source": [
    "first_descriptions = ____\n",
    "\n",
    "# Check your answer\n",
    "q4.check()\n",
    "first_descriptions"
   ]
  },
  {
   "cell_type": "code",
   "execution_count": 10,
   "id": "3e984026",
   "metadata": {
    "execution": {
     "iopub.execute_input": "2025-05-26T08:12:53.476945Z",
     "iopub.status.busy": "2025-05-26T08:12:53.476654Z",
     "iopub.status.idle": "2025-05-26T08:12:53.480950Z",
     "shell.execute_reply": "2025-05-26T08:12:53.480033Z"
    },
    "papermill": {
     "duration": 0.013025,
     "end_time": "2025-05-26T08:12:53.482408",
     "exception": false,
     "start_time": "2025-05-26T08:12:53.469383",
     "status": "completed"
    },
    "tags": []
   },
   "outputs": [],
   "source": [
    "#q4.hint()\n",
    "#q4.solution()"
   ]
  },
  {
   "cell_type": "markdown",
   "id": "f6832be4",
   "metadata": {
    "papermill": {
     "duration": 0.006139,
     "end_time": "2025-05-26T08:12:53.495116",
     "exception": false,
     "start_time": "2025-05-26T08:12:53.488977",
     "status": "completed"
    },
    "tags": []
   },
   "source": [
    "## 5.\n",
    "\n",
    "Select the records with index labels `1`, `2`, `3`, `5`, and `8`, assigning the result to the variable `sample_reviews`.\n",
    "\n",
    "In other words, generate the following DataFrame:\n",
    "\n",
    "![](https://storage.googleapis.com/kaggle-media/learn/images/sHZvI1O.png)"
   ]
  },
  {
   "cell_type": "code",
   "execution_count": 11,
   "id": "9df3d9f6",
   "metadata": {
    "execution": {
     "iopub.execute_input": "2025-05-26T08:12:53.508937Z",
     "iopub.status.busy": "2025-05-26T08:12:53.508647Z",
     "iopub.status.idle": "2025-05-26T08:12:53.517485Z",
     "shell.execute_reply": "2025-05-26T08:12:53.516479Z"
    },
    "papermill": {
     "duration": 0.017596,
     "end_time": "2025-05-26T08:12:53.519132",
     "exception": false,
     "start_time": "2025-05-26T08:12:53.501536",
     "status": "completed"
    },
    "tags": []
   },
   "outputs": [
    {
     "data": {
      "application/javascript": [
       "parent.postMessage({\"jupyterEvent\": \"custom.exercise_interaction\", \"data\": {\"outcomeType\": 4, \"interactionType\": 1, \"questionType\": 1, \"questionId\": \"5_SampleReviews\", \"learnToolsVersion\": \"0.3.5\", \"valueTowardsCompletion\": 0.0, \"failureMessage\": \"\", \"exceptionClass\": \"\", \"trace\": \"\"}}, \"*\")"
      ],
      "text/plain": [
       "<IPython.core.display.Javascript object>"
      ]
     },
     "metadata": {},
     "output_type": "display_data"
    },
    {
     "data": {
      "text/markdown": [
       "<span style=\"color:#ccaa33\">Check:</span> When you've updated the starter code, `check()` will tell you whether your code is correct. You need to update the code that creates variable `sample_reviews`"
      ],
      "text/plain": [
       "Check: When you've updated the starter code, `check()` will tell you whether your code is correct. You need to update the code that creates variable `sample_reviews`"
      ]
     },
     "metadata": {},
     "output_type": "display_data"
    },
    {
     "data": {
      "text/markdown": [],
      "text/plain": [
       "<learntools.core.constants.PlaceholderValue at 0x7f90f05b96d0>"
      ]
     },
     "execution_count": 11,
     "metadata": {},
     "output_type": "execute_result"
    }
   ],
   "source": [
    "sample_reviews = ____\n",
    "\n",
    "# Check your answer\n",
    "q5.check()\n",
    "sample_reviews"
   ]
  },
  {
   "cell_type": "code",
   "execution_count": 12,
   "id": "04a7ec10",
   "metadata": {
    "execution": {
     "iopub.execute_input": "2025-05-26T08:12:53.534184Z",
     "iopub.status.busy": "2025-05-26T08:12:53.533848Z",
     "iopub.status.idle": "2025-05-26T08:12:53.537693Z",
     "shell.execute_reply": "2025-05-26T08:12:53.536869Z"
    },
    "papermill": {
     "duration": 0.012977,
     "end_time": "2025-05-26T08:12:53.539228",
     "exception": false,
     "start_time": "2025-05-26T08:12:53.526251",
     "status": "completed"
    },
    "tags": []
   },
   "outputs": [],
   "source": [
    "#q5.hint()\n",
    "#q5.solution()"
   ]
  },
  {
   "cell_type": "markdown",
   "id": "e859701d",
   "metadata": {
    "papermill": {
     "duration": 0.00645,
     "end_time": "2025-05-26T08:12:53.552488",
     "exception": false,
     "start_time": "2025-05-26T08:12:53.546038",
     "status": "completed"
    },
    "tags": []
   },
   "source": [
    "## 6.\n",
    "\n",
    "Create a variable `df` containing the `country`, `province`, `region_1`, and `region_2` columns of the records with the index labels `0`, `1`, `10`, and `100`. In other words, generate the following DataFrame:\n",
    "\n",
    "![](https://storage.googleapis.com/kaggle-media/learn/images/FUCGiKP.png)"
   ]
  },
  {
   "cell_type": "code",
   "execution_count": 13,
   "id": "2e3bbe8a",
   "metadata": {
    "execution": {
     "iopub.execute_input": "2025-05-26T08:12:53.567516Z",
     "iopub.status.busy": "2025-05-26T08:12:53.566569Z",
     "iopub.status.idle": "2025-05-26T08:12:53.575197Z",
     "shell.execute_reply": "2025-05-26T08:12:53.574258Z"
    },
    "papermill": {
     "duration": 0.017587,
     "end_time": "2025-05-26T08:12:53.576639",
     "exception": false,
     "start_time": "2025-05-26T08:12:53.559052",
     "status": "completed"
    },
    "tags": []
   },
   "outputs": [
    {
     "data": {
      "application/javascript": [
       "parent.postMessage({\"jupyterEvent\": \"custom.exercise_interaction\", \"data\": {\"outcomeType\": 4, \"interactionType\": 1, \"questionType\": 1, \"questionId\": \"6_RowColSelect\", \"learnToolsVersion\": \"0.3.5\", \"valueTowardsCompletion\": 0.0, \"failureMessage\": \"\", \"exceptionClass\": \"\", \"trace\": \"\"}}, \"*\")"
      ],
      "text/plain": [
       "<IPython.core.display.Javascript object>"
      ]
     },
     "metadata": {},
     "output_type": "display_data"
    },
    {
     "data": {
      "text/markdown": [
       "<span style=\"color:#ccaa33\">Check:</span> When you've updated the starter code, `check()` will tell you whether your code is correct. You need to update the code that creates variable `df`"
      ],
      "text/plain": [
       "Check: When you've updated the starter code, `check()` will tell you whether your code is correct. You need to update the code that creates variable `df`"
      ]
     },
     "metadata": {},
     "output_type": "display_data"
    },
    {
     "data": {
      "text/markdown": [],
      "text/plain": [
       "<learntools.core.constants.PlaceholderValue at 0x7f90f05b96d0>"
      ]
     },
     "execution_count": 13,
     "metadata": {},
     "output_type": "execute_result"
    }
   ],
   "source": [
    "df = ____\n",
    "\n",
    "# Check your answer\n",
    "q6.check()\n",
    "df"
   ]
  },
  {
   "cell_type": "code",
   "execution_count": 14,
   "id": "eecb88bc",
   "metadata": {
    "execution": {
     "iopub.execute_input": "2025-05-26T08:12:53.592515Z",
     "iopub.status.busy": "2025-05-26T08:12:53.592050Z",
     "iopub.status.idle": "2025-05-26T08:12:53.596807Z",
     "shell.execute_reply": "2025-05-26T08:12:53.595840Z"
    },
    "papermill": {
     "duration": 0.014811,
     "end_time": "2025-05-26T08:12:53.598722",
     "exception": false,
     "start_time": "2025-05-26T08:12:53.583911",
     "status": "completed"
    },
    "tags": []
   },
   "outputs": [],
   "source": [
    "#q6.hint()\n",
    "#q6.solution()"
   ]
  },
  {
   "cell_type": "markdown",
   "id": "dd9cbd4c",
   "metadata": {
    "papermill": {
     "duration": 0.006709,
     "end_time": "2025-05-26T08:12:53.612837",
     "exception": false,
     "start_time": "2025-05-26T08:12:53.606128",
     "status": "completed"
    },
    "tags": []
   },
   "source": [
    "## 7.\n",
    "\n",
    "Create a variable `df` containing the `country` and `variety` columns of the first 100 records. \n",
    "\n",
    "Hint: you may use `loc` or `iloc`. When working on the answer this question and the several of the ones that follow, keep the following \"gotcha\" described in the tutorial:\n",
    "\n",
    "> `iloc` uses the Python stdlib indexing scheme, where the first element of the range is included and the last one excluded. \n",
    "`loc`, meanwhile, indexes inclusively. \n",
    "\n",
    "> This is particularly confusing when the DataFrame index is a simple numerical list, e.g. `0,...,1000`. In this case `df.iloc[0:1000]` will return 1000 entries, while `df.loc[0:1000]` return 1001 of them! To get 1000 elements using `loc`, you will need to go one lower and ask for `df.iloc[0:999]`. "
   ]
  },
  {
   "cell_type": "code",
   "execution_count": 15,
   "id": "4dda3568",
   "metadata": {
    "execution": {
     "iopub.execute_input": "2025-05-26T08:12:53.627860Z",
     "iopub.status.busy": "2025-05-26T08:12:53.627572Z",
     "iopub.status.idle": "2025-05-26T08:12:53.636738Z",
     "shell.execute_reply": "2025-05-26T08:12:53.635934Z"
    },
    "papermill": {
     "duration": 0.018404,
     "end_time": "2025-05-26T08:12:53.638238",
     "exception": false,
     "start_time": "2025-05-26T08:12:53.619834",
     "status": "completed"
    },
    "tags": []
   },
   "outputs": [
    {
     "data": {
      "application/javascript": [
       "parent.postMessage({\"jupyterEvent\": \"custom.exercise_interaction\", \"data\": {\"outcomeType\": 4, \"interactionType\": 1, \"questionType\": 1, \"questionId\": \"7_RowColSelect2\", \"learnToolsVersion\": \"0.3.5\", \"valueTowardsCompletion\": 0.0, \"failureMessage\": \"\", \"exceptionClass\": \"\", \"trace\": \"\"}}, \"*\")"
      ],
      "text/plain": [
       "<IPython.core.display.Javascript object>"
      ]
     },
     "metadata": {},
     "output_type": "display_data"
    },
    {
     "data": {
      "text/markdown": [
       "<span style=\"color:#ccaa33\">Check:</span> When you've updated the starter code, `check()` will tell you whether your code is correct. You need to update the code that creates variable `df`"
      ],
      "text/plain": [
       "Check: When you've updated the starter code, `check()` will tell you whether your code is correct. You need to update the code that creates variable `df`"
      ]
     },
     "metadata": {},
     "output_type": "display_data"
    },
    {
     "data": {
      "text/markdown": [],
      "text/plain": [
       "<learntools.core.constants.PlaceholderValue at 0x7f90f05b96d0>"
      ]
     },
     "execution_count": 15,
     "metadata": {},
     "output_type": "execute_result"
    }
   ],
   "source": [
    "df = ____\n",
    "\n",
    "# Check your answer\n",
    "q7.check()\n",
    "df"
   ]
  },
  {
   "cell_type": "code",
   "execution_count": 16,
   "id": "8ae4e6e7",
   "metadata": {
    "execution": {
     "iopub.execute_input": "2025-05-26T08:12:53.654410Z",
     "iopub.status.busy": "2025-05-26T08:12:53.654054Z",
     "iopub.status.idle": "2025-05-26T08:12:53.658153Z",
     "shell.execute_reply": "2025-05-26T08:12:53.657230Z"
    },
    "papermill": {
     "duration": 0.013868,
     "end_time": "2025-05-26T08:12:53.659629",
     "exception": false,
     "start_time": "2025-05-26T08:12:53.645761",
     "status": "completed"
    },
    "tags": []
   },
   "outputs": [],
   "source": [
    "#q7.hint()\n",
    "#q7.solution()"
   ]
  },
  {
   "cell_type": "markdown",
   "id": "b2dd88bc",
   "metadata": {
    "papermill": {
     "duration": 0.006947,
     "end_time": "2025-05-26T08:12:53.674150",
     "exception": false,
     "start_time": "2025-05-26T08:12:53.667203",
     "status": "completed"
    },
    "tags": []
   },
   "source": [
    "## 8.\n",
    "\n",
    "Create a DataFrame `italian_wines` containing reviews of wines made in `Italy`. Hint: `reviews.country` equals what?"
   ]
  },
  {
   "cell_type": "code",
   "execution_count": 17,
   "id": "ff6805dc",
   "metadata": {
    "execution": {
     "iopub.execute_input": "2025-05-26T08:12:53.690566Z",
     "iopub.status.busy": "2025-05-26T08:12:53.689848Z",
     "iopub.status.idle": "2025-05-26T08:12:53.697275Z",
     "shell.execute_reply": "2025-05-26T08:12:53.696310Z"
    },
    "papermill": {
     "duration": 0.017278,
     "end_time": "2025-05-26T08:12:53.698858",
     "exception": false,
     "start_time": "2025-05-26T08:12:53.681580",
     "status": "completed"
    },
    "tags": []
   },
   "outputs": [
    {
     "data": {
      "application/javascript": [
       "parent.postMessage({\"jupyterEvent\": \"custom.exercise_interaction\", \"data\": {\"outcomeType\": 4, \"interactionType\": 1, \"questionType\": 1, \"questionId\": \"8_ItalianWines\", \"learnToolsVersion\": \"0.3.5\", \"valueTowardsCompletion\": 0.0, \"failureMessage\": \"\", \"exceptionClass\": \"\", \"trace\": \"\"}}, \"*\")"
      ],
      "text/plain": [
       "<IPython.core.display.Javascript object>"
      ]
     },
     "metadata": {},
     "output_type": "display_data"
    },
    {
     "data": {
      "text/markdown": [
       "<span style=\"color:#ccaa33\">Check:</span> When you've updated the starter code, `check()` will tell you whether your code is correct. You need to update the code that creates variable `italian_wines`"
      ],
      "text/plain": [
       "Check: When you've updated the starter code, `check()` will tell you whether your code is correct. You need to update the code that creates variable `italian_wines`"
      ]
     },
     "metadata": {},
     "output_type": "display_data"
    }
   ],
   "source": [
    "italian_wines = ____\n",
    "\n",
    "# Check your answer\n",
    "q8.check()"
   ]
  },
  {
   "cell_type": "code",
   "execution_count": 18,
   "id": "bbf1ffde",
   "metadata": {
    "execution": {
     "iopub.execute_input": "2025-05-26T08:12:53.715524Z",
     "iopub.status.busy": "2025-05-26T08:12:53.715215Z",
     "iopub.status.idle": "2025-05-26T08:12:53.719372Z",
     "shell.execute_reply": "2025-05-26T08:12:53.718257Z"
    },
    "papermill": {
     "duration": 0.014525,
     "end_time": "2025-05-26T08:12:53.721082",
     "exception": false,
     "start_time": "2025-05-26T08:12:53.706557",
     "status": "completed"
    },
    "tags": []
   },
   "outputs": [],
   "source": [
    "#q8.hint()\n",
    "#q8.solution()"
   ]
  },
  {
   "cell_type": "markdown",
   "id": "6fbddb53",
   "metadata": {
    "papermill": {
     "duration": 0.007603,
     "end_time": "2025-05-26T08:12:53.804045",
     "exception": false,
     "start_time": "2025-05-26T08:12:53.796442",
     "status": "completed"
    },
    "tags": []
   },
   "source": [
    "## 9.\n",
    "\n",
    "Create a DataFrame `top_oceania_wines` containing all reviews with at least 95 points (out of 100) for wines from Australia or New Zealand."
   ]
  },
  {
   "cell_type": "code",
   "execution_count": 19,
   "id": "d9658ad5",
   "metadata": {
    "execution": {
     "iopub.execute_input": "2025-05-26T08:12:53.820755Z",
     "iopub.status.busy": "2025-05-26T08:12:53.820417Z",
     "iopub.status.idle": "2025-05-26T08:12:53.829521Z",
     "shell.execute_reply": "2025-05-26T08:12:53.828604Z"
    },
    "papermill": {
     "duration": 0.019552,
     "end_time": "2025-05-26T08:12:53.831356",
     "exception": false,
     "start_time": "2025-05-26T08:12:53.811804",
     "status": "completed"
    },
    "tags": []
   },
   "outputs": [
    {
     "data": {
      "application/javascript": [
       "parent.postMessage({\"jupyterEvent\": \"custom.exercise_interaction\", \"data\": {\"outcomeType\": 4, \"interactionType\": 1, \"questionType\": 1, \"questionId\": \"9_TopOceanicWines\", \"learnToolsVersion\": \"0.3.5\", \"valueTowardsCompletion\": 0.0, \"failureMessage\": \"\", \"exceptionClass\": \"\", \"trace\": \"\"}}, \"*\")"
      ],
      "text/plain": [
       "<IPython.core.display.Javascript object>"
      ]
     },
     "metadata": {},
     "output_type": "display_data"
    },
    {
     "data": {
      "text/markdown": [
       "<span style=\"color:#ccaa33\">Check:</span> When you've updated the starter code, `check()` will tell you whether your code is correct. You need to update the code that creates variable `top_oceania_wines`"
      ],
      "text/plain": [
       "Check: When you've updated the starter code, `check()` will tell you whether your code is correct. You need to update the code that creates variable `top_oceania_wines`"
      ]
     },
     "metadata": {},
     "output_type": "display_data"
    },
    {
     "data": {
      "text/markdown": [],
      "text/plain": [
       "<learntools.core.constants.PlaceholderValue at 0x7f90f05b96d0>"
      ]
     },
     "execution_count": 19,
     "metadata": {},
     "output_type": "execute_result"
    }
   ],
   "source": [
    "top_oceania_wines = ____\n",
    "\n",
    "# Check your answer\n",
    "q9.check()\n",
    "top_oceania_wines"
   ]
  },
  {
   "cell_type": "code",
   "execution_count": 20,
   "id": "abd4f8ac",
   "metadata": {
    "execution": {
     "iopub.execute_input": "2025-05-26T08:12:53.848842Z",
     "iopub.status.busy": "2025-05-26T08:12:53.848546Z",
     "iopub.status.idle": "2025-05-26T08:12:53.852719Z",
     "shell.execute_reply": "2025-05-26T08:12:53.851915Z"
    },
    "papermill": {
     "duration": 0.014493,
     "end_time": "2025-05-26T08:12:53.854142",
     "exception": false,
     "start_time": "2025-05-26T08:12:53.839649",
     "status": "completed"
    },
    "tags": []
   },
   "outputs": [],
   "source": [
    "#q9.hint()\n",
    "#q9.solution()"
   ]
  },
  {
   "cell_type": "markdown",
   "id": "91e59eb7",
   "metadata": {
    "papermill": {
     "duration": 0.008128,
     "end_time": "2025-05-26T08:12:53.870735",
     "exception": false,
     "start_time": "2025-05-26T08:12:53.862607",
     "status": "completed"
    },
    "tags": []
   },
   "source": [
    "# Keep going\n",
    "\n",
    "Move on to learn about **[summary functions and maps](https://www.kaggle.com/residentmario/summary-functions-and-maps)**."
   ]
  },
  {
   "cell_type": "markdown",
   "id": "ac0b7ba9",
   "metadata": {
    "papermill": {
     "duration": 0.00766,
     "end_time": "2025-05-26T08:12:53.886505",
     "exception": false,
     "start_time": "2025-05-26T08:12:53.878845",
     "status": "completed"
    },
    "tags": []
   },
   "source": [
    "---\n",
    "\n",
    "\n",
    "\n",
    "\n",
    "*Have questions or comments? Visit the [course discussion forum](https://www.kaggle.com/learn/pandas/discussion) to chat with other learners.*"
   ]
  }
 ],
 "metadata": {
  "kaggle": {
   "accelerator": "none",
   "dataSources": [
    {
     "datasetId": 655,
     "sourceId": 1252,
     "sourceType": "datasetVersion"
    },
    {
     "datasetId": 2321,
     "sourceId": 3919,
     "sourceType": "datasetVersion"
    },
    {
     "datasetId": 2894,
     "sourceId": 4877,
     "sourceType": "datasetVersion"
    },
    {
     "datasetId": 3491,
     "sourceId": 5624,
     "sourceType": "datasetVersion"
    },
    {
     "datasetId": 1442,
     "sourceId": 8172,
     "sourceType": "datasetVersion"
    },
    {
     "datasetId": 9366,
     "sourceId": 13206,
     "sourceType": "datasetVersion"
    },
    {
     "datasetId": 179555,
     "sourceId": 403916,
     "sourceType": "datasetVersion"
    },
    {
     "datasetId": 4549,
     "sourceId": 466349,
     "sourceType": "datasetVersion"
    },
    {
     "datasetId": 2478,
     "sourceId": 1151655,
     "sourceType": "datasetVersion"
    },
    {
     "datasetId": 10128,
     "sourceId": 5438389,
     "sourceType": "datasetVersion"
    }
   ],
   "isGpuEnabled": false,
   "isInternetEnabled": false,
   "language": "python",
   "sourceType": "notebook"
  },
  "kernelspec": {
   "display_name": "Python 3",
   "language": "python",
   "name": "python3"
  },
  "language_info": {
   "codemirror_mode": {
    "name": "ipython",
    "version": 3
   },
   "file_extension": ".py",
   "mimetype": "text/x-python",
   "name": "python",
   "nbconvert_exporter": "python",
   "pygments_lexer": "ipython3",
   "version": "3.11.11"
  },
  "papermill": {
   "default_parameters": {},
   "duration": 11.939026,
   "end_time": "2025-05-26T08:12:54.513922",
   "environment_variables": {},
   "exception": null,
   "input_path": "__notebook__.ipynb",
   "output_path": "__notebook__.ipynb",
   "parameters": {},
   "start_time": "2025-05-26T08:12:42.574896",
   "version": "2.6.0"
  }
 },
 "nbformat": 4,
 "nbformat_minor": 5
}
