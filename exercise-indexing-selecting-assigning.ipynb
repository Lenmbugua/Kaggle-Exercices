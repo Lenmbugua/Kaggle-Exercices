{
 "cells": [
  {
   "cell_type": "markdown",
   "id": "d06982bb",
   "metadata": {
    "papermill": {
     "duration": 0.006108,
     "end_time": "2025-05-26T08:22:40.010125",
     "exception": false,
     "start_time": "2025-05-26T08:22:40.004017",
     "status": "completed"
    },
    "tags": []
   },
   "source": [
    "**This notebook is an exercise in the [Pandas](https://www.kaggle.com/learn/pandas) course.  You can reference the tutorial at [this link](https://www.kaggle.com/residentmario/indexing-selecting-assigning).**\n",
    "\n",
    "---\n"
   ]
  },
  {
   "cell_type": "markdown",
   "id": "3b640c5d",
   "metadata": {
    "papermill": {
     "duration": 0.004851,
     "end_time": "2025-05-26T08:22:40.020567",
     "exception": false,
     "start_time": "2025-05-26T08:22:40.015716",
     "status": "completed"
    },
    "tags": []
   },
   "source": [
    "# Introduction\n",
    "\n",
    "In this set of exercises we will work with the [Wine Reviews dataset](https://www.kaggle.com/zynicide/wine-reviews). "
   ]
  },
  {
   "cell_type": "markdown",
   "id": "f653d79e",
   "metadata": {
    "papermill": {
     "duration": 0.004759,
     "end_time": "2025-05-26T08:22:40.030327",
     "exception": false,
     "start_time": "2025-05-26T08:22:40.025568",
     "status": "completed"
    },
    "tags": []
   },
   "source": [
    "Run the following cell to load your data and some utility functions (including code to check your answers)."
   ]
  },
  {
   "cell_type": "code",
   "execution_count": 1,
   "id": "ad3fe423",
   "metadata": {
    "execution": {
     "iopub.execute_input": "2025-05-26T08:22:40.042566Z",
     "iopub.status.busy": "2025-05-26T08:22:40.042107Z",
     "iopub.status.idle": "2025-05-26T08:22:45.319108Z",
     "shell.execute_reply": "2025-05-26T08:22:45.317851Z"
    },
    "papermill": {
     "duration": 5.285445,
     "end_time": "2025-05-26T08:22:45.320884",
     "exception": false,
     "start_time": "2025-05-26T08:22:40.035439",
     "status": "completed"
    },
    "tags": []
   },
   "outputs": [
    {
     "name": "stdout",
     "output_type": "stream",
     "text": [
      "Setup complete.\n"
     ]
    }
   ],
   "source": [
    "import pandas as pd\n",
    "\n",
    "reviews = pd.read_csv(\"../input/wine-reviews/winemag-data-130k-v2.csv\", index_col=0)\n",
    "pd.set_option(\"display.max_rows\", 5)\n",
    "\n",
    "from learntools.core import binder; binder.bind(globals())\n",
    "from learntools.pandas.indexing_selecting_and_assigning import *\n",
    "print(\"Setup complete.\")"
   ]
  },
  {
   "cell_type": "markdown",
   "id": "f5dbfa84",
   "metadata": {
    "papermill": {
     "duration": 0.005374,
     "end_time": "2025-05-26T08:22:45.331720",
     "exception": false,
     "start_time": "2025-05-26T08:22:45.326346",
     "status": "completed"
    },
    "tags": []
   },
   "source": [
    "Look at an overview of your data by running the following line."
   ]
  },
  {
   "cell_type": "code",
   "execution_count": 2,
   "id": "66eb38cb",
   "metadata": {
    "execution": {
     "iopub.execute_input": "2025-05-26T08:22:45.343591Z",
     "iopub.status.busy": "2025-05-26T08:22:45.343218Z",
     "iopub.status.idle": "2025-05-26T08:22:45.372318Z",
     "shell.execute_reply": "2025-05-26T08:22:45.370984Z"
    },
    "papermill": {
     "duration": 0.036785,
     "end_time": "2025-05-26T08:22:45.373862",
     "exception": false,
     "start_time": "2025-05-26T08:22:45.337077",
     "status": "completed"
    },
    "tags": []
   },
   "outputs": [
    {
     "name": "stderr",
     "output_type": "stream",
     "text": [
      "/usr/local/lib/python3.11/dist-packages/pandas/io/formats/format.py:1458: RuntimeWarning: invalid value encountered in greater\n",
      "  has_large_values = (abs_vals > 1e6).any()\n",
      "/usr/local/lib/python3.11/dist-packages/pandas/io/formats/format.py:1459: RuntimeWarning: invalid value encountered in less\n",
      "  has_small_values = ((abs_vals < 10 ** (-self.digits)) & (abs_vals > 0)).any()\n",
      "/usr/local/lib/python3.11/dist-packages/pandas/io/formats/format.py:1459: RuntimeWarning: invalid value encountered in greater\n",
      "  has_small_values = ((abs_vals < 10 ** (-self.digits)) & (abs_vals > 0)).any()\n"
     ]
    },
    {
     "data": {
      "text/html": [
       "<div>\n",
       "<style scoped>\n",
       "    .dataframe tbody tr th:only-of-type {\n",
       "        vertical-align: middle;\n",
       "    }\n",
       "\n",
       "    .dataframe tbody tr th {\n",
       "        vertical-align: top;\n",
       "    }\n",
       "\n",
       "    .dataframe thead th {\n",
       "        text-align: right;\n",
       "    }\n",
       "</style>\n",
       "<table border=\"1\" class=\"dataframe\">\n",
       "  <thead>\n",
       "    <tr style=\"text-align: right;\">\n",
       "      <th></th>\n",
       "      <th>country</th>\n",
       "      <th>description</th>\n",
       "      <th>designation</th>\n",
       "      <th>points</th>\n",
       "      <th>price</th>\n",
       "      <th>province</th>\n",
       "      <th>region_1</th>\n",
       "      <th>region_2</th>\n",
       "      <th>taster_name</th>\n",
       "      <th>taster_twitter_handle</th>\n",
       "      <th>title</th>\n",
       "      <th>variety</th>\n",
       "      <th>winery</th>\n",
       "    </tr>\n",
       "  </thead>\n",
       "  <tbody>\n",
       "    <tr>\n",
       "      <th>0</th>\n",
       "      <td>Italy</td>\n",
       "      <td>Aromas include tropical fruit, broom, brimston...</td>\n",
       "      <td>Vulkà Bianco</td>\n",
       "      <td>87</td>\n",
       "      <td>NaN</td>\n",
       "      <td>Sicily &amp; Sardinia</td>\n",
       "      <td>Etna</td>\n",
       "      <td>NaN</td>\n",
       "      <td>Kerin O’Keefe</td>\n",
       "      <td>@kerinokeefe</td>\n",
       "      <td>Nicosia 2013 Vulkà Bianco  (Etna)</td>\n",
       "      <td>White Blend</td>\n",
       "      <td>Nicosia</td>\n",
       "    </tr>\n",
       "    <tr>\n",
       "      <th>1</th>\n",
       "      <td>Portugal</td>\n",
       "      <td>This is ripe and fruity, a wine that is smooth...</td>\n",
       "      <td>Avidagos</td>\n",
       "      <td>87</td>\n",
       "      <td>15.0</td>\n",
       "      <td>Douro</td>\n",
       "      <td>NaN</td>\n",
       "      <td>NaN</td>\n",
       "      <td>Roger Voss</td>\n",
       "      <td>@vossroger</td>\n",
       "      <td>Quinta dos Avidagos 2011 Avidagos Red (Douro)</td>\n",
       "      <td>Portuguese Red</td>\n",
       "      <td>Quinta dos Avidagos</td>\n",
       "    </tr>\n",
       "    <tr>\n",
       "      <th>2</th>\n",
       "      <td>US</td>\n",
       "      <td>Tart and snappy, the flavors of lime flesh and...</td>\n",
       "      <td>NaN</td>\n",
       "      <td>87</td>\n",
       "      <td>14.0</td>\n",
       "      <td>Oregon</td>\n",
       "      <td>Willamette Valley</td>\n",
       "      <td>Willamette Valley</td>\n",
       "      <td>Paul Gregutt</td>\n",
       "      <td>@paulgwine</td>\n",
       "      <td>Rainstorm 2013 Pinot Gris (Willamette Valley)</td>\n",
       "      <td>Pinot Gris</td>\n",
       "      <td>Rainstorm</td>\n",
       "    </tr>\n",
       "    <tr>\n",
       "      <th>3</th>\n",
       "      <td>US</td>\n",
       "      <td>Pineapple rind, lemon pith and orange blossom ...</td>\n",
       "      <td>Reserve Late Harvest</td>\n",
       "      <td>87</td>\n",
       "      <td>13.0</td>\n",
       "      <td>Michigan</td>\n",
       "      <td>Lake Michigan Shore</td>\n",
       "      <td>NaN</td>\n",
       "      <td>Alexander Peartree</td>\n",
       "      <td>NaN</td>\n",
       "      <td>St. Julian 2013 Reserve Late Harvest Riesling ...</td>\n",
       "      <td>Riesling</td>\n",
       "      <td>St. Julian</td>\n",
       "    </tr>\n",
       "    <tr>\n",
       "      <th>4</th>\n",
       "      <td>US</td>\n",
       "      <td>Much like the regular bottling from 2012, this...</td>\n",
       "      <td>Vintner's Reserve Wild Child Block</td>\n",
       "      <td>87</td>\n",
       "      <td>65.0</td>\n",
       "      <td>Oregon</td>\n",
       "      <td>Willamette Valley</td>\n",
       "      <td>Willamette Valley</td>\n",
       "      <td>Paul Gregutt</td>\n",
       "      <td>@paulgwine</td>\n",
       "      <td>Sweet Cheeks 2012 Vintner's Reserve Wild Child...</td>\n",
       "      <td>Pinot Noir</td>\n",
       "      <td>Sweet Cheeks</td>\n",
       "    </tr>\n",
       "  </tbody>\n",
       "</table>\n",
       "</div>"
      ],
      "text/plain": [
       "    country                                        description  \\\n",
       "0     Italy  Aromas include tropical fruit, broom, brimston...   \n",
       "1  Portugal  This is ripe and fruity, a wine that is smooth...   \n",
       "2        US  Tart and snappy, the flavors of lime flesh and...   \n",
       "3        US  Pineapple rind, lemon pith and orange blossom ...   \n",
       "4        US  Much like the regular bottling from 2012, this...   \n",
       "\n",
       "                          designation  points  price           province  \\\n",
       "0                        Vulkà Bianco      87    NaN  Sicily & Sardinia   \n",
       "1                            Avidagos      87   15.0              Douro   \n",
       "2                                 NaN      87   14.0             Oregon   \n",
       "3                Reserve Late Harvest      87   13.0           Michigan   \n",
       "4  Vintner's Reserve Wild Child Block      87   65.0             Oregon   \n",
       "\n",
       "              region_1           region_2         taster_name  \\\n",
       "0                 Etna                NaN       Kerin O’Keefe   \n",
       "1                  NaN                NaN          Roger Voss   \n",
       "2    Willamette Valley  Willamette Valley        Paul Gregutt   \n",
       "3  Lake Michigan Shore                NaN  Alexander Peartree   \n",
       "4    Willamette Valley  Willamette Valley        Paul Gregutt   \n",
       "\n",
       "  taster_twitter_handle                                              title  \\\n",
       "0          @kerinokeefe                  Nicosia 2013 Vulkà Bianco  (Etna)   \n",
       "1            @vossroger      Quinta dos Avidagos 2011 Avidagos Red (Douro)   \n",
       "2           @paulgwine       Rainstorm 2013 Pinot Gris (Willamette Valley)   \n",
       "3                   NaN  St. Julian 2013 Reserve Late Harvest Riesling ...   \n",
       "4           @paulgwine   Sweet Cheeks 2012 Vintner's Reserve Wild Child...   \n",
       "\n",
       "          variety               winery  \n",
       "0     White Blend              Nicosia  \n",
       "1  Portuguese Red  Quinta dos Avidagos  \n",
       "2      Pinot Gris            Rainstorm  \n",
       "3        Riesling           St. Julian  \n",
       "4      Pinot Noir         Sweet Cheeks  "
      ]
     },
     "execution_count": 2,
     "metadata": {},
     "output_type": "execute_result"
    }
   ],
   "source": [
    "reviews.head()"
   ]
  },
  {
   "cell_type": "markdown",
   "id": "bdd0ee6a",
   "metadata": {
    "papermill": {
     "duration": 0.005278,
     "end_time": "2025-05-26T08:22:45.384939",
     "exception": false,
     "start_time": "2025-05-26T08:22:45.379661",
     "status": "completed"
    },
    "tags": []
   },
   "source": [
    "# Exercises"
   ]
  },
  {
   "cell_type": "markdown",
   "id": "98caf045",
   "metadata": {
    "papermill": {
     "duration": 0.00515,
     "end_time": "2025-05-26T08:22:45.395524",
     "exception": false,
     "start_time": "2025-05-26T08:22:45.390374",
     "status": "completed"
    },
    "tags": []
   },
   "source": [
    "## 1.\n",
    "\n",
    "Select the `description` column from `reviews` and assign the result to the variable `desc`."
   ]
  },
  {
   "cell_type": "code",
   "execution_count": 3,
   "id": "905f6bc6",
   "metadata": {
    "execution": {
     "iopub.execute_input": "2025-05-26T08:22:45.408150Z",
     "iopub.status.busy": "2025-05-26T08:22:45.407330Z",
     "iopub.status.idle": "2025-05-26T08:22:45.418000Z",
     "shell.execute_reply": "2025-05-26T08:22:45.417053Z"
    },
    "papermill": {
     "duration": 0.018961,
     "end_time": "2025-05-26T08:22:45.419922",
     "exception": false,
     "start_time": "2025-05-26T08:22:45.400961",
     "status": "completed"
    },
    "tags": []
   },
   "outputs": [
    {
     "data": {
      "text/plain": [
       "\"Aromas include tropical fruit, broom, brimstone and dried herb. The palate isn't overly expressive, offering unripened apple, citrus and dried sage alongside brisk acidity.\""
      ]
     },
     "execution_count": 3,
     "metadata": {},
     "output_type": "execute_result"
    }
   ],
   "source": [
    "# Your code here\n",
    "desc = reviews['description'][0]\n",
    "\n",
    "# Check your answer\n",
    "type(desc)\n",
    "desc\n"
   ]
  },
  {
   "cell_type": "markdown",
   "id": "9cff5c26",
   "metadata": {
    "papermill": {
     "duration": 0.005224,
     "end_time": "2025-05-26T08:22:45.431925",
     "exception": false,
     "start_time": "2025-05-26T08:22:45.426701",
     "status": "completed"
    },
    "tags": []
   },
   "source": [
    "Follow-up question: what type of object is `desc`? If you're not sure, you can check by calling Python's `type` function: `type(desc)`."
   ]
  },
  {
   "cell_type": "code",
   "execution_count": 4,
   "id": "acf878b7",
   "metadata": {
    "execution": {
     "iopub.execute_input": "2025-05-26T08:22:45.444848Z",
     "iopub.status.busy": "2025-05-26T08:22:45.444514Z",
     "iopub.status.idle": "2025-05-26T08:22:45.449110Z",
     "shell.execute_reply": "2025-05-26T08:22:45.448113Z"
    },
    "papermill": {
     "duration": 0.013412,
     "end_time": "2025-05-26T08:22:45.450955",
     "exception": false,
     "start_time": "2025-05-26T08:22:45.437543",
     "status": "completed"
    },
    "tags": []
   },
   "outputs": [],
   "source": [
    "#q1.hint()\n",
    "#q1.solution()"
   ]
  },
  {
   "cell_type": "markdown",
   "id": "0f5e6426",
   "metadata": {
    "papermill": {
     "duration": 0.00526,
     "end_time": "2025-05-26T08:22:45.461927",
     "exception": false,
     "start_time": "2025-05-26T08:22:45.456667",
     "status": "completed"
    },
    "tags": []
   },
   "source": [
    "## 2.\n",
    "\n",
    "Select the first value from the description column of `reviews`, assigning it to variable `first_description`."
   ]
  },
  {
   "cell_type": "code",
   "execution_count": 5,
   "id": "184b0c8a",
   "metadata": {
    "execution": {
     "iopub.execute_input": "2025-05-26T08:22:45.474166Z",
     "iopub.status.busy": "2025-05-26T08:22:45.473819Z",
     "iopub.status.idle": "2025-05-26T08:22:45.480186Z",
     "shell.execute_reply": "2025-05-26T08:22:45.479382Z"
    },
    "papermill": {
     "duration": 0.014192,
     "end_time": "2025-05-26T08:22:45.481651",
     "exception": false,
     "start_time": "2025-05-26T08:22:45.467459",
     "status": "completed"
    },
    "tags": []
   },
   "outputs": [
    {
     "data": {
      "text/plain": [
       "\"Aromas include tropical fruit, broom, brimstone and dried herb. The palate isn't overly expressive, offering unripened apple, citrus and dried sage alongside brisk acidity.\""
      ]
     },
     "execution_count": 5,
     "metadata": {},
     "output_type": "execute_result"
    }
   ],
   "source": [
    "first_description = reviews.description.iloc[0]\n",
    "\n",
    "# Check your answer\n",
    "first_description"
   ]
  },
  {
   "cell_type": "code",
   "execution_count": 6,
   "id": "8207eeaf",
   "metadata": {
    "execution": {
     "iopub.execute_input": "2025-05-26T08:22:45.494374Z",
     "iopub.status.busy": "2025-05-26T08:22:45.494002Z",
     "iopub.status.idle": "2025-05-26T08:22:45.498709Z",
     "shell.execute_reply": "2025-05-26T08:22:45.497618Z"
    },
    "papermill": {
     "duration": 0.012812,
     "end_time": "2025-05-26T08:22:45.500186",
     "exception": false,
     "start_time": "2025-05-26T08:22:45.487374",
     "status": "completed"
    },
    "tags": []
   },
   "outputs": [],
   "source": [
    "#q2.hint()\n",
    "#q2.solution()"
   ]
  },
  {
   "cell_type": "markdown",
   "id": "94313985",
   "metadata": {
    "papermill": {
     "duration": 0.00558,
     "end_time": "2025-05-26T08:22:45.511686",
     "exception": false,
     "start_time": "2025-05-26T08:22:45.506106",
     "status": "completed"
    },
    "tags": []
   },
   "source": [
    "## 3. \n",
    "\n",
    "Select the first row of data (the first record) from `reviews`, assigning it to the variable `first_row`."
   ]
  },
  {
   "cell_type": "code",
   "execution_count": 7,
   "id": "afaa8206",
   "metadata": {
    "execution": {
     "iopub.execute_input": "2025-05-26T08:22:45.525029Z",
     "iopub.status.busy": "2025-05-26T08:22:45.524691Z",
     "iopub.status.idle": "2025-05-26T08:22:45.532419Z",
     "shell.execute_reply": "2025-05-26T08:22:45.531604Z"
    },
    "papermill": {
     "duration": 0.016337,
     "end_time": "2025-05-26T08:22:45.533939",
     "exception": false,
     "start_time": "2025-05-26T08:22:45.517602",
     "status": "completed"
    },
    "tags": []
   },
   "outputs": [
    {
     "data": {
      "text/plain": [
       "country                                                    Italy\n",
       "description    Aromas include tropical fruit, broom, brimston...\n",
       "                                     ...                        \n",
       "variety                                              White Blend\n",
       "winery                                                   Nicosia\n",
       "Name: 0, Length: 13, dtype: object"
      ]
     },
     "execution_count": 7,
     "metadata": {},
     "output_type": "execute_result"
    }
   ],
   "source": [
    "first_row = reviews.iloc[0]\n",
    "\n",
    "# Check your answer\n",
    "first_row"
   ]
  },
  {
   "cell_type": "code",
   "execution_count": 8,
   "id": "47680c2f",
   "metadata": {
    "execution": {
     "iopub.execute_input": "2025-05-26T08:22:45.547313Z",
     "iopub.status.busy": "2025-05-26T08:22:45.546946Z",
     "iopub.status.idle": "2025-05-26T08:22:45.551795Z",
     "shell.execute_reply": "2025-05-26T08:22:45.550421Z"
    },
    "papermill": {
     "duration": 0.013774,
     "end_time": "2025-05-26T08:22:45.553770",
     "exception": false,
     "start_time": "2025-05-26T08:22:45.539996",
     "status": "completed"
    },
    "tags": []
   },
   "outputs": [],
   "source": [
    "#q3.hint()\n",
    "#q3.solution()"
   ]
  },
  {
   "cell_type": "markdown",
   "id": "0dd03eb5",
   "metadata": {
    "papermill": {
     "duration": 0.005684,
     "end_time": "2025-05-26T08:22:45.565737",
     "exception": false,
     "start_time": "2025-05-26T08:22:45.560053",
     "status": "completed"
    },
    "tags": []
   },
   "source": [
    "## 4.\n",
    "\n",
    "Select the first 10 values from the `description` column in `reviews`, assigning the result to variable `first_descriptions`.\n",
    "\n",
    "Hint: format your output as a pandas Series."
   ]
  },
  {
   "cell_type": "code",
   "execution_count": 9,
   "id": "ad9c93b8",
   "metadata": {
    "execution": {
     "iopub.execute_input": "2025-05-26T08:22:45.579027Z",
     "iopub.status.busy": "2025-05-26T08:22:45.578717Z",
     "iopub.status.idle": "2025-05-26T08:22:45.588213Z",
     "shell.execute_reply": "2025-05-26T08:22:45.587402Z"
    },
    "papermill": {
     "duration": 0.018104,
     "end_time": "2025-05-26T08:22:45.589754",
     "exception": false,
     "start_time": "2025-05-26T08:22:45.571650",
     "status": "completed"
    },
    "tags": []
   },
   "outputs": [
    {
     "data": {
      "application/javascript": [
       "parent.postMessage({\"jupyterEvent\": \"custom.exercise_interaction\", \"data\": {\"outcomeType\": 4, \"interactionType\": 1, \"questionType\": 1, \"questionId\": \"4_FirstDescs\", \"learnToolsVersion\": \"0.3.5\", \"valueTowardsCompletion\": 0.0, \"failureMessage\": \"\", \"exceptionClass\": \"\", \"trace\": \"\"}}, \"*\")"
      ],
      "text/plain": [
       "<IPython.core.display.Javascript object>"
      ]
     },
     "metadata": {},
     "output_type": "display_data"
    },
    {
     "data": {
      "text/markdown": [
       "<span style=\"color:#ccaa33\">Check:</span> When you've updated the starter code, `check()` will tell you whether your code is correct. You need to update the code that creates variable `first_descriptions`"
      ],
      "text/plain": [
       "Check: When you've updated the starter code, `check()` will tell you whether your code is correct. You need to update the code that creates variable `first_descriptions`"
      ]
     },
     "metadata": {},
     "output_type": "display_data"
    },
    {
     "data": {
      "text/markdown": [],
      "text/plain": [
       "<learntools.core.constants.PlaceholderValue at 0x79fd2a084b90>"
      ]
     },
     "execution_count": 9,
     "metadata": {},
     "output_type": "execute_result"
    }
   ],
   "source": [
    "first_descriptions = ____\n",
    "\n",
    "# Check your answer\n",
    "q4.check()\n",
    "first_descriptions"
   ]
  },
  {
   "cell_type": "code",
   "execution_count": 10,
   "id": "4de172da",
   "metadata": {
    "execution": {
     "iopub.execute_input": "2025-05-26T08:22:45.603322Z",
     "iopub.status.busy": "2025-05-26T08:22:45.603015Z",
     "iopub.status.idle": "2025-05-26T08:22:45.607025Z",
     "shell.execute_reply": "2025-05-26T08:22:45.606290Z"
    },
    "papermill": {
     "duration": 0.012538,
     "end_time": "2025-05-26T08:22:45.608528",
     "exception": false,
     "start_time": "2025-05-26T08:22:45.595990",
     "status": "completed"
    },
    "tags": []
   },
   "outputs": [],
   "source": [
    "#q4.hint()\n",
    "#q4.solution()"
   ]
  },
  {
   "cell_type": "markdown",
   "id": "d07a46a8",
   "metadata": {
    "papermill": {
     "duration": 0.006019,
     "end_time": "2025-05-26T08:22:45.620966",
     "exception": false,
     "start_time": "2025-05-26T08:22:45.614947",
     "status": "completed"
    },
    "tags": []
   },
   "source": [
    "## 5.\n",
    "\n",
    "Select the records with index labels `1`, `2`, `3`, `5`, and `8`, assigning the result to the variable `sample_reviews`.\n",
    "\n",
    "In other words, generate the following DataFrame:\n",
    "\n",
    "![](https://storage.googleapis.com/kaggle-media/learn/images/sHZvI1O.png)"
   ]
  },
  {
   "cell_type": "code",
   "execution_count": 11,
   "id": "5dcd25a6",
   "metadata": {
    "execution": {
     "iopub.execute_input": "2025-05-26T08:22:45.634500Z",
     "iopub.status.busy": "2025-05-26T08:22:45.634119Z",
     "iopub.status.idle": "2025-05-26T08:22:45.643040Z",
     "shell.execute_reply": "2025-05-26T08:22:45.642006Z"
    },
    "papermill": {
     "duration": 0.017632,
     "end_time": "2025-05-26T08:22:45.644665",
     "exception": false,
     "start_time": "2025-05-26T08:22:45.627033",
     "status": "completed"
    },
    "tags": []
   },
   "outputs": [
    {
     "data": {
      "application/javascript": [
       "parent.postMessage({\"jupyterEvent\": \"custom.exercise_interaction\", \"data\": {\"outcomeType\": 4, \"interactionType\": 1, \"questionType\": 1, \"questionId\": \"5_SampleReviews\", \"learnToolsVersion\": \"0.3.5\", \"valueTowardsCompletion\": 0.0, \"failureMessage\": \"\", \"exceptionClass\": \"\", \"trace\": \"\"}}, \"*\")"
      ],
      "text/plain": [
       "<IPython.core.display.Javascript object>"
      ]
     },
     "metadata": {},
     "output_type": "display_data"
    },
    {
     "data": {
      "text/markdown": [
       "<span style=\"color:#ccaa33\">Check:</span> When you've updated the starter code, `check()` will tell you whether your code is correct. You need to update the code that creates variable `sample_reviews`"
      ],
      "text/plain": [
       "Check: When you've updated the starter code, `check()` will tell you whether your code is correct. You need to update the code that creates variable `sample_reviews`"
      ]
     },
     "metadata": {},
     "output_type": "display_data"
    },
    {
     "data": {
      "text/markdown": [],
      "text/plain": [
       "<learntools.core.constants.PlaceholderValue at 0x79fd2a084b90>"
      ]
     },
     "execution_count": 11,
     "metadata": {},
     "output_type": "execute_result"
    }
   ],
   "source": [
    "sample_reviews = ____\n",
    "\n",
    "# Check your answer\n",
    "q5.check()\n",
    "sample_reviews"
   ]
  },
  {
   "cell_type": "code",
   "execution_count": 12,
   "id": "e50e38d4",
   "metadata": {
    "execution": {
     "iopub.execute_input": "2025-05-26T08:22:45.659757Z",
     "iopub.status.busy": "2025-05-26T08:22:45.658777Z",
     "iopub.status.idle": "2025-05-26T08:22:45.662865Z",
     "shell.execute_reply": "2025-05-26T08:22:45.662039Z"
    },
    "papermill": {
     "duration": 0.0131,
     "end_time": "2025-05-26T08:22:45.664497",
     "exception": false,
     "start_time": "2025-05-26T08:22:45.651397",
     "status": "completed"
    },
    "tags": []
   },
   "outputs": [],
   "source": [
    "#q5.hint()\n",
    "#q5.solution()"
   ]
  },
  {
   "cell_type": "markdown",
   "id": "016d66e9",
   "metadata": {
    "papermill": {
     "duration": 0.006395,
     "end_time": "2025-05-26T08:22:45.677683",
     "exception": false,
     "start_time": "2025-05-26T08:22:45.671288",
     "status": "completed"
    },
    "tags": []
   },
   "source": [
    "## 6.\n",
    "\n",
    "Create a variable `df` containing the `country`, `province`, `region_1`, and `region_2` columns of the records with the index labels `0`, `1`, `10`, and `100`. In other words, generate the following DataFrame:\n",
    "\n",
    "![](https://storage.googleapis.com/kaggle-media/learn/images/FUCGiKP.png)"
   ]
  },
  {
   "cell_type": "code",
   "execution_count": 13,
   "id": "52f759f5",
   "metadata": {
    "execution": {
     "iopub.execute_input": "2025-05-26T08:22:45.691894Z",
     "iopub.status.busy": "2025-05-26T08:22:45.691602Z",
     "iopub.status.idle": "2025-05-26T08:22:45.701439Z",
     "shell.execute_reply": "2025-05-26T08:22:45.700470Z"
    },
    "papermill": {
     "duration": 0.019003,
     "end_time": "2025-05-26T08:22:45.703104",
     "exception": false,
     "start_time": "2025-05-26T08:22:45.684101",
     "status": "completed"
    },
    "tags": []
   },
   "outputs": [
    {
     "data": {
      "application/javascript": [
       "parent.postMessage({\"jupyterEvent\": \"custom.exercise_interaction\", \"data\": {\"outcomeType\": 4, \"interactionType\": 1, \"questionType\": 1, \"questionId\": \"6_RowColSelect\", \"learnToolsVersion\": \"0.3.5\", \"valueTowardsCompletion\": 0.0, \"failureMessage\": \"\", \"exceptionClass\": \"\", \"trace\": \"\"}}, \"*\")"
      ],
      "text/plain": [
       "<IPython.core.display.Javascript object>"
      ]
     },
     "metadata": {},
     "output_type": "display_data"
    },
    {
     "data": {
      "text/markdown": [
       "<span style=\"color:#ccaa33\">Check:</span> When you've updated the starter code, `check()` will tell you whether your code is correct. You need to update the code that creates variable `df`"
      ],
      "text/plain": [
       "Check: When you've updated the starter code, `check()` will tell you whether your code is correct. You need to update the code that creates variable `df`"
      ]
     },
     "metadata": {},
     "output_type": "display_data"
    },
    {
     "data": {
      "text/markdown": [],
      "text/plain": [
       "<learntools.core.constants.PlaceholderValue at 0x79fd2a084b90>"
      ]
     },
     "execution_count": 13,
     "metadata": {},
     "output_type": "execute_result"
    }
   ],
   "source": [
    "df = ____\n",
    "\n",
    "# Check your answer\n",
    "q6.check()\n",
    "df"
   ]
  },
  {
   "cell_type": "code",
   "execution_count": 14,
   "id": "c863c98c",
   "metadata": {
    "execution": {
     "iopub.execute_input": "2025-05-26T08:22:45.718568Z",
     "iopub.status.busy": "2025-05-26T08:22:45.718215Z",
     "iopub.status.idle": "2025-05-26T08:22:45.722346Z",
     "shell.execute_reply": "2025-05-26T08:22:45.721538Z"
    },
    "papermill": {
     "duration": 0.013612,
     "end_time": "2025-05-26T08:22:45.724020",
     "exception": false,
     "start_time": "2025-05-26T08:22:45.710408",
     "status": "completed"
    },
    "tags": []
   },
   "outputs": [],
   "source": [
    "#q6.hint()\n",
    "#q6.solution()"
   ]
  },
  {
   "cell_type": "markdown",
   "id": "6b6d30e7",
   "metadata": {
    "papermill": {
     "duration": 0.01019,
     "end_time": "2025-05-26T08:22:45.741403",
     "exception": false,
     "start_time": "2025-05-26T08:22:45.731213",
     "status": "completed"
    },
    "tags": []
   },
   "source": [
    "## 7.\n",
    "\n",
    "Create a variable `df` containing the `country` and `variety` columns of the first 100 records. \n",
    "\n",
    "Hint: you may use `loc` or `iloc`. When working on the answer this question and the several of the ones that follow, keep the following \"gotcha\" described in the tutorial:\n",
    "\n",
    "> `iloc` uses the Python stdlib indexing scheme, where the first element of the range is included and the last one excluded. \n",
    "`loc`, meanwhile, indexes inclusively. \n",
    "\n",
    "> This is particularly confusing when the DataFrame index is a simple numerical list, e.g. `0,...,1000`. In this case `df.iloc[0:1000]` will return 1000 entries, while `df.loc[0:1000]` return 1001 of them! To get 1000 elements using `loc`, you will need to go one lower and ask for `df.iloc[0:999]`. "
   ]
  },
  {
   "cell_type": "code",
   "execution_count": 15,
   "id": "6b2aab8d",
   "metadata": {
    "execution": {
     "iopub.execute_input": "2025-05-26T08:22:45.758555Z",
     "iopub.status.busy": "2025-05-26T08:22:45.757657Z",
     "iopub.status.idle": "2025-05-26T08:22:45.768357Z",
     "shell.execute_reply": "2025-05-26T08:22:45.767396Z"
    },
    "papermill": {
     "duration": 0.020957,
     "end_time": "2025-05-26T08:22:45.770222",
     "exception": false,
     "start_time": "2025-05-26T08:22:45.749265",
     "status": "completed"
    },
    "tags": []
   },
   "outputs": [
    {
     "data": {
      "application/javascript": [
       "parent.postMessage({\"jupyterEvent\": \"custom.exercise_interaction\", \"data\": {\"outcomeType\": 4, \"interactionType\": 1, \"questionType\": 1, \"questionId\": \"7_RowColSelect2\", \"learnToolsVersion\": \"0.3.5\", \"valueTowardsCompletion\": 0.0, \"failureMessage\": \"\", \"exceptionClass\": \"\", \"trace\": \"\"}}, \"*\")"
      ],
      "text/plain": [
       "<IPython.core.display.Javascript object>"
      ]
     },
     "metadata": {},
     "output_type": "display_data"
    },
    {
     "data": {
      "text/markdown": [
       "<span style=\"color:#ccaa33\">Check:</span> When you've updated the starter code, `check()` will tell you whether your code is correct. You need to update the code that creates variable `df`"
      ],
      "text/plain": [
       "Check: When you've updated the starter code, `check()` will tell you whether your code is correct. You need to update the code that creates variable `df`"
      ]
     },
     "metadata": {},
     "output_type": "display_data"
    },
    {
     "data": {
      "text/markdown": [],
      "text/plain": [
       "<learntools.core.constants.PlaceholderValue at 0x79fd2a084b90>"
      ]
     },
     "execution_count": 15,
     "metadata": {},
     "output_type": "execute_result"
    }
   ],
   "source": [
    "df = ____\n",
    "\n",
    "# Check your answer\n",
    "q7.check()\n",
    "df"
   ]
  },
  {
   "cell_type": "code",
   "execution_count": 16,
   "id": "de94d5b5",
   "metadata": {
    "execution": {
     "iopub.execute_input": "2025-05-26T08:22:45.796038Z",
     "iopub.status.busy": "2025-05-26T08:22:45.795631Z",
     "iopub.status.idle": "2025-05-26T08:22:45.800267Z",
     "shell.execute_reply": "2025-05-26T08:22:45.799234Z"
    },
    "papermill": {
     "duration": 0.019632,
     "end_time": "2025-05-26T08:22:45.802164",
     "exception": false,
     "start_time": "2025-05-26T08:22:45.782532",
     "status": "completed"
    },
    "tags": []
   },
   "outputs": [],
   "source": [
    "#q7.hint()\n",
    "#q7.solution()"
   ]
  },
  {
   "cell_type": "markdown",
   "id": "57b200f7",
   "metadata": {
    "papermill": {
     "duration": 0.007079,
     "end_time": "2025-05-26T08:22:45.817129",
     "exception": false,
     "start_time": "2025-05-26T08:22:45.810050",
     "status": "completed"
    },
    "tags": []
   },
   "source": [
    "## 8.\n",
    "\n",
    "Create a DataFrame `italian_wines` containing reviews of wines made in `Italy`. Hint: `reviews.country` equals what?"
   ]
  },
  {
   "cell_type": "code",
   "execution_count": 17,
   "id": "bb90bbbf",
   "metadata": {
    "execution": {
     "iopub.execute_input": "2025-05-26T08:22:45.833403Z",
     "iopub.status.busy": "2025-05-26T08:22:45.832995Z",
     "iopub.status.idle": "2025-05-26T08:22:45.841392Z",
     "shell.execute_reply": "2025-05-26T08:22:45.840422Z"
    },
    "papermill": {
     "duration": 0.018601,
     "end_time": "2025-05-26T08:22:45.843247",
     "exception": false,
     "start_time": "2025-05-26T08:22:45.824646",
     "status": "completed"
    },
    "tags": []
   },
   "outputs": [
    {
     "data": {
      "application/javascript": [
       "parent.postMessage({\"jupyterEvent\": \"custom.exercise_interaction\", \"data\": {\"outcomeType\": 4, \"interactionType\": 1, \"questionType\": 1, \"questionId\": \"8_ItalianWines\", \"learnToolsVersion\": \"0.3.5\", \"valueTowardsCompletion\": 0.0, \"failureMessage\": \"\", \"exceptionClass\": \"\", \"trace\": \"\"}}, \"*\")"
      ],
      "text/plain": [
       "<IPython.core.display.Javascript object>"
      ]
     },
     "metadata": {},
     "output_type": "display_data"
    },
    {
     "data": {
      "text/markdown": [
       "<span style=\"color:#ccaa33\">Check:</span> When you've updated the starter code, `check()` will tell you whether your code is correct. You need to update the code that creates variable `italian_wines`"
      ],
      "text/plain": [
       "Check: When you've updated the starter code, `check()` will tell you whether your code is correct. You need to update the code that creates variable `italian_wines`"
      ]
     },
     "metadata": {},
     "output_type": "display_data"
    }
   ],
   "source": [
    "italian_wines = ____\n",
    "\n",
    "# Check your answer\n",
    "q8.check()"
   ]
  },
  {
   "cell_type": "code",
   "execution_count": 18,
   "id": "25dd38d8",
   "metadata": {
    "execution": {
     "iopub.execute_input": "2025-05-26T08:22:45.859869Z",
     "iopub.status.busy": "2025-05-26T08:22:45.859556Z",
     "iopub.status.idle": "2025-05-26T08:22:45.864412Z",
     "shell.execute_reply": "2025-05-26T08:22:45.862802Z"
    },
    "papermill": {
     "duration": 0.015276,
     "end_time": "2025-05-26T08:22:45.866316",
     "exception": false,
     "start_time": "2025-05-26T08:22:45.851040",
     "status": "completed"
    },
    "tags": []
   },
   "outputs": [],
   "source": [
    "#q8.hint()\n",
    "#q8.solution()"
   ]
  },
  {
   "cell_type": "markdown",
   "id": "9315b35b",
   "metadata": {
    "papermill": {
     "duration": 0.010134,
     "end_time": "2025-05-26T08:22:45.884577",
     "exception": false,
     "start_time": "2025-05-26T08:22:45.874443",
     "status": "completed"
    },
    "tags": []
   },
   "source": [
    "## 9.\n",
    "\n",
    "Create a DataFrame `top_oceania_wines` containing all reviews with at least 95 points (out of 100) for wines from Australia or New Zealand."
   ]
  },
  {
   "cell_type": "code",
   "execution_count": 19,
   "id": "4916d754",
   "metadata": {
    "execution": {
     "iopub.execute_input": "2025-05-26T08:22:45.900982Z",
     "iopub.status.busy": "2025-05-26T08:22:45.900678Z",
     "iopub.status.idle": "2025-05-26T08:22:45.910835Z",
     "shell.execute_reply": "2025-05-26T08:22:45.909853Z"
    },
    "papermill": {
     "duration": 0.020713,
     "end_time": "2025-05-26T08:22:45.912967",
     "exception": false,
     "start_time": "2025-05-26T08:22:45.892254",
     "status": "completed"
    },
    "tags": []
   },
   "outputs": [
    {
     "data": {
      "application/javascript": [
       "parent.postMessage({\"jupyterEvent\": \"custom.exercise_interaction\", \"data\": {\"outcomeType\": 4, \"interactionType\": 1, \"questionType\": 1, \"questionId\": \"9_TopOceanicWines\", \"learnToolsVersion\": \"0.3.5\", \"valueTowardsCompletion\": 0.0, \"failureMessage\": \"\", \"exceptionClass\": \"\", \"trace\": \"\"}}, \"*\")"
      ],
      "text/plain": [
       "<IPython.core.display.Javascript object>"
      ]
     },
     "metadata": {},
     "output_type": "display_data"
    },
    {
     "data": {
      "text/markdown": [
       "<span style=\"color:#ccaa33\">Check:</span> When you've updated the starter code, `check()` will tell you whether your code is correct. You need to update the code that creates variable `top_oceania_wines`"
      ],
      "text/plain": [
       "Check: When you've updated the starter code, `check()` will tell you whether your code is correct. You need to update the code that creates variable `top_oceania_wines`"
      ]
     },
     "metadata": {},
     "output_type": "display_data"
    },
    {
     "data": {
      "text/markdown": [],
      "text/plain": [
       "<learntools.core.constants.PlaceholderValue at 0x79fd2a084b90>"
      ]
     },
     "execution_count": 19,
     "metadata": {},
     "output_type": "execute_result"
    }
   ],
   "source": [
    "top_oceania_wines = ____\n",
    "\n",
    "# Check your answer\n",
    "q9.check()\n",
    "top_oceania_wines"
   ]
  },
  {
   "cell_type": "code",
   "execution_count": 20,
   "id": "1ead72ce",
   "metadata": {
    "execution": {
     "iopub.execute_input": "2025-05-26T08:22:45.940269Z",
     "iopub.status.busy": "2025-05-26T08:22:45.939352Z",
     "iopub.status.idle": "2025-05-26T08:22:45.944141Z",
     "shell.execute_reply": "2025-05-26T08:22:45.943217Z"
    },
    "papermill": {
     "duration": 0.015827,
     "end_time": "2025-05-26T08:22:45.945847",
     "exception": false,
     "start_time": "2025-05-26T08:22:45.930020",
     "status": "completed"
    },
    "tags": []
   },
   "outputs": [],
   "source": [
    "#q9.hint()\n",
    "#q9.solution()"
   ]
  },
  {
   "cell_type": "markdown",
   "id": "28d4c369",
   "metadata": {
    "papermill": {
     "duration": 0.07481,
     "end_time": "2025-05-26T08:22:46.029250",
     "exception": false,
     "start_time": "2025-05-26T08:22:45.954440",
     "status": "completed"
    },
    "tags": []
   },
   "source": [
    "# Keep going\n",
    "\n",
    "Move on to learn about **[summary functions and maps](https://www.kaggle.com/residentmario/summary-functions-and-maps)**."
   ]
  },
  {
   "cell_type": "markdown",
   "id": "38f8d255",
   "metadata": {
    "papermill": {
     "duration": 0.008274,
     "end_time": "2025-05-26T08:22:46.046113",
     "exception": false,
     "start_time": "2025-05-26T08:22:46.037839",
     "status": "completed"
    },
    "tags": []
   },
   "source": [
    "---\n",
    "\n",
    "\n",
    "\n",
    "\n",
    "*Have questions or comments? Visit the [course discussion forum](https://www.kaggle.com/learn/pandas/discussion) to chat with other learners.*"
   ]
  }
 ],
 "metadata": {
  "kaggle": {
   "accelerator": "none",
   "dataSources": [
    {
     "datasetId": 655,
     "sourceId": 1252,
     "sourceType": "datasetVersion"
    },
    {
     "datasetId": 2321,
     "sourceId": 3919,
     "sourceType": "datasetVersion"
    },
    {
     "datasetId": 2894,
     "sourceId": 4877,
     "sourceType": "datasetVersion"
    },
    {
     "datasetId": 3491,
     "sourceId": 5624,
     "sourceType": "datasetVersion"
    },
    {
     "datasetId": 1442,
     "sourceId": 8172,
     "sourceType": "datasetVersion"
    },
    {
     "datasetId": 9366,
     "sourceId": 13206,
     "sourceType": "datasetVersion"
    },
    {
     "datasetId": 179555,
     "sourceId": 403916,
     "sourceType": "datasetVersion"
    },
    {
     "datasetId": 4549,
     "sourceId": 466349,
     "sourceType": "datasetVersion"
    },
    {
     "datasetId": 2478,
     "sourceId": 1151655,
     "sourceType": "datasetVersion"
    },
    {
     "datasetId": 10128,
     "sourceId": 5438389,
     "sourceType": "datasetVersion"
    }
   ],
   "isGpuEnabled": false,
   "isInternetEnabled": false,
   "language": "python",
   "sourceType": "notebook"
  },
  "kernelspec": {
   "display_name": "Python 3",
   "language": "python",
   "name": "python3"
  },
  "language_info": {
   "codemirror_mode": {
    "name": "ipython",
    "version": 3
   },
   "file_extension": ".py",
   "mimetype": "text/x-python",
   "name": "python",
   "nbconvert_exporter": "python",
   "pygments_lexer": "ipython3",
   "version": "3.11.11"
  },
  "papermill": {
   "default_parameters": {},
   "duration": 11.781828,
   "end_time": "2025-05-26T08:22:46.675421",
   "environment_variables": {},
   "exception": null,
   "input_path": "__notebook__.ipynb",
   "output_path": "__notebook__.ipynb",
   "parameters": {},
   "start_time": "2025-05-26T08:22:34.893593",
   "version": "2.6.0"
  }
 },
 "nbformat": 4,
 "nbformat_minor": 5
}
