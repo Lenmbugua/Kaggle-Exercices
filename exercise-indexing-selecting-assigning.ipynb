{
 "cells": [
  {
   "cell_type": "markdown",
   "id": "eae79ea3",
   "metadata": {
    "papermill": {
     "duration": 0.006154,
     "end_time": "2025-05-26T08:20:06.431760",
     "exception": false,
     "start_time": "2025-05-26T08:20:06.425606",
     "status": "completed"
    },
    "tags": []
   },
   "source": [
    "**This notebook is an exercise in the [Pandas](https://www.kaggle.com/learn/pandas) course.  You can reference the tutorial at [this link](https://www.kaggle.com/residentmario/indexing-selecting-assigning).**\n",
    "\n",
    "---\n"
   ]
  },
  {
   "cell_type": "markdown",
   "id": "f694a165",
   "metadata": {
    "papermill": {
     "duration": 0.004635,
     "end_time": "2025-05-26T08:20:06.441545",
     "exception": false,
     "start_time": "2025-05-26T08:20:06.436910",
     "status": "completed"
    },
    "tags": []
   },
   "source": [
    "# Introduction\n",
    "\n",
    "In this set of exercises we will work with the [Wine Reviews dataset](https://www.kaggle.com/zynicide/wine-reviews). "
   ]
  },
  {
   "cell_type": "markdown",
   "id": "0e76a1a1",
   "metadata": {
    "papermill": {
     "duration": 0.004539,
     "end_time": "2025-05-26T08:20:06.450974",
     "exception": false,
     "start_time": "2025-05-26T08:20:06.446435",
     "status": "completed"
    },
    "tags": []
   },
   "source": [
    "Run the following cell to load your data and some utility functions (including code to check your answers)."
   ]
  },
  {
   "cell_type": "code",
   "execution_count": 1,
   "id": "cd8b4250",
   "metadata": {
    "execution": {
     "iopub.execute_input": "2025-05-26T08:20:06.461842Z",
     "iopub.status.busy": "2025-05-26T08:20:06.461515Z",
     "iopub.status.idle": "2025-05-26T08:20:11.604696Z",
     "shell.execute_reply": "2025-05-26T08:20:11.603654Z"
    },
    "papermill": {
     "duration": 5.150539,
     "end_time": "2025-05-26T08:20:11.606193",
     "exception": false,
     "start_time": "2025-05-26T08:20:06.455654",
     "status": "completed"
    },
    "tags": []
   },
   "outputs": [
    {
     "name": "stdout",
     "output_type": "stream",
     "text": [
      "Setup complete.\n"
     ]
    }
   ],
   "source": [
    "import pandas as pd\n",
    "\n",
    "reviews = pd.read_csv(\"../input/wine-reviews/winemag-data-130k-v2.csv\", index_col=0)\n",
    "pd.set_option(\"display.max_rows\", 5)\n",
    "\n",
    "from learntools.core import binder; binder.bind(globals())\n",
    "from learntools.pandas.indexing_selecting_and_assigning import *\n",
    "print(\"Setup complete.\")"
   ]
  },
  {
   "cell_type": "markdown",
   "id": "71b6dff9",
   "metadata": {
    "papermill": {
     "duration": 0.005355,
     "end_time": "2025-05-26T08:20:11.616736",
     "exception": false,
     "start_time": "2025-05-26T08:20:11.611381",
     "status": "completed"
    },
    "tags": []
   },
   "source": [
    "Look at an overview of your data by running the following line."
   ]
  },
  {
   "cell_type": "code",
   "execution_count": 2,
   "id": "28d56dd2",
   "metadata": {
    "execution": {
     "iopub.execute_input": "2025-05-26T08:20:11.628552Z",
     "iopub.status.busy": "2025-05-26T08:20:11.627513Z",
     "iopub.status.idle": "2025-05-26T08:20:11.654782Z",
     "shell.execute_reply": "2025-05-26T08:20:11.653834Z"
    },
    "papermill": {
     "duration": 0.034681,
     "end_time": "2025-05-26T08:20:11.656266",
     "exception": false,
     "start_time": "2025-05-26T08:20:11.621585",
     "status": "completed"
    },
    "tags": []
   },
   "outputs": [
    {
     "name": "stderr",
     "output_type": "stream",
     "text": [
      "/usr/local/lib/python3.11/dist-packages/pandas/io/formats/format.py:1458: RuntimeWarning: invalid value encountered in greater\n",
      "  has_large_values = (abs_vals > 1e6).any()\n",
      "/usr/local/lib/python3.11/dist-packages/pandas/io/formats/format.py:1459: RuntimeWarning: invalid value encountered in less\n",
      "  has_small_values = ((abs_vals < 10 ** (-self.digits)) & (abs_vals > 0)).any()\n",
      "/usr/local/lib/python3.11/dist-packages/pandas/io/formats/format.py:1459: RuntimeWarning: invalid value encountered in greater\n",
      "  has_small_values = ((abs_vals < 10 ** (-self.digits)) & (abs_vals > 0)).any()\n"
     ]
    },
    {
     "data": {
      "text/html": [
       "<div>\n",
       "<style scoped>\n",
       "    .dataframe tbody tr th:only-of-type {\n",
       "        vertical-align: middle;\n",
       "    }\n",
       "\n",
       "    .dataframe tbody tr th {\n",
       "        vertical-align: top;\n",
       "    }\n",
       "\n",
       "    .dataframe thead th {\n",
       "        text-align: right;\n",
       "    }\n",
       "</style>\n",
       "<table border=\"1\" class=\"dataframe\">\n",
       "  <thead>\n",
       "    <tr style=\"text-align: right;\">\n",
       "      <th></th>\n",
       "      <th>country</th>\n",
       "      <th>description</th>\n",
       "      <th>designation</th>\n",
       "      <th>points</th>\n",
       "      <th>price</th>\n",
       "      <th>province</th>\n",
       "      <th>region_1</th>\n",
       "      <th>region_2</th>\n",
       "      <th>taster_name</th>\n",
       "      <th>taster_twitter_handle</th>\n",
       "      <th>title</th>\n",
       "      <th>variety</th>\n",
       "      <th>winery</th>\n",
       "    </tr>\n",
       "  </thead>\n",
       "  <tbody>\n",
       "    <tr>\n",
       "      <th>0</th>\n",
       "      <td>Italy</td>\n",
       "      <td>Aromas include tropical fruit, broom, brimston...</td>\n",
       "      <td>Vulkà Bianco</td>\n",
       "      <td>87</td>\n",
       "      <td>NaN</td>\n",
       "      <td>Sicily &amp; Sardinia</td>\n",
       "      <td>Etna</td>\n",
       "      <td>NaN</td>\n",
       "      <td>Kerin O’Keefe</td>\n",
       "      <td>@kerinokeefe</td>\n",
       "      <td>Nicosia 2013 Vulkà Bianco  (Etna)</td>\n",
       "      <td>White Blend</td>\n",
       "      <td>Nicosia</td>\n",
       "    </tr>\n",
       "    <tr>\n",
       "      <th>1</th>\n",
       "      <td>Portugal</td>\n",
       "      <td>This is ripe and fruity, a wine that is smooth...</td>\n",
       "      <td>Avidagos</td>\n",
       "      <td>87</td>\n",
       "      <td>15.0</td>\n",
       "      <td>Douro</td>\n",
       "      <td>NaN</td>\n",
       "      <td>NaN</td>\n",
       "      <td>Roger Voss</td>\n",
       "      <td>@vossroger</td>\n",
       "      <td>Quinta dos Avidagos 2011 Avidagos Red (Douro)</td>\n",
       "      <td>Portuguese Red</td>\n",
       "      <td>Quinta dos Avidagos</td>\n",
       "    </tr>\n",
       "    <tr>\n",
       "      <th>2</th>\n",
       "      <td>US</td>\n",
       "      <td>Tart and snappy, the flavors of lime flesh and...</td>\n",
       "      <td>NaN</td>\n",
       "      <td>87</td>\n",
       "      <td>14.0</td>\n",
       "      <td>Oregon</td>\n",
       "      <td>Willamette Valley</td>\n",
       "      <td>Willamette Valley</td>\n",
       "      <td>Paul Gregutt</td>\n",
       "      <td>@paulgwine</td>\n",
       "      <td>Rainstorm 2013 Pinot Gris (Willamette Valley)</td>\n",
       "      <td>Pinot Gris</td>\n",
       "      <td>Rainstorm</td>\n",
       "    </tr>\n",
       "    <tr>\n",
       "      <th>3</th>\n",
       "      <td>US</td>\n",
       "      <td>Pineapple rind, lemon pith and orange blossom ...</td>\n",
       "      <td>Reserve Late Harvest</td>\n",
       "      <td>87</td>\n",
       "      <td>13.0</td>\n",
       "      <td>Michigan</td>\n",
       "      <td>Lake Michigan Shore</td>\n",
       "      <td>NaN</td>\n",
       "      <td>Alexander Peartree</td>\n",
       "      <td>NaN</td>\n",
       "      <td>St. Julian 2013 Reserve Late Harvest Riesling ...</td>\n",
       "      <td>Riesling</td>\n",
       "      <td>St. Julian</td>\n",
       "    </tr>\n",
       "    <tr>\n",
       "      <th>4</th>\n",
       "      <td>US</td>\n",
       "      <td>Much like the regular bottling from 2012, this...</td>\n",
       "      <td>Vintner's Reserve Wild Child Block</td>\n",
       "      <td>87</td>\n",
       "      <td>65.0</td>\n",
       "      <td>Oregon</td>\n",
       "      <td>Willamette Valley</td>\n",
       "      <td>Willamette Valley</td>\n",
       "      <td>Paul Gregutt</td>\n",
       "      <td>@paulgwine</td>\n",
       "      <td>Sweet Cheeks 2012 Vintner's Reserve Wild Child...</td>\n",
       "      <td>Pinot Noir</td>\n",
       "      <td>Sweet Cheeks</td>\n",
       "    </tr>\n",
       "  </tbody>\n",
       "</table>\n",
       "</div>"
      ],
      "text/plain": [
       "    country                                        description  \\\n",
       "0     Italy  Aromas include tropical fruit, broom, brimston...   \n",
       "1  Portugal  This is ripe and fruity, a wine that is smooth...   \n",
       "2        US  Tart and snappy, the flavors of lime flesh and...   \n",
       "3        US  Pineapple rind, lemon pith and orange blossom ...   \n",
       "4        US  Much like the regular bottling from 2012, this...   \n",
       "\n",
       "                          designation  points  price           province  \\\n",
       "0                        Vulkà Bianco      87    NaN  Sicily & Sardinia   \n",
       "1                            Avidagos      87   15.0              Douro   \n",
       "2                                 NaN      87   14.0             Oregon   \n",
       "3                Reserve Late Harvest      87   13.0           Michigan   \n",
       "4  Vintner's Reserve Wild Child Block      87   65.0             Oregon   \n",
       "\n",
       "              region_1           region_2         taster_name  \\\n",
       "0                 Etna                NaN       Kerin O’Keefe   \n",
       "1                  NaN                NaN          Roger Voss   \n",
       "2    Willamette Valley  Willamette Valley        Paul Gregutt   \n",
       "3  Lake Michigan Shore                NaN  Alexander Peartree   \n",
       "4    Willamette Valley  Willamette Valley        Paul Gregutt   \n",
       "\n",
       "  taster_twitter_handle                                              title  \\\n",
       "0          @kerinokeefe                  Nicosia 2013 Vulkà Bianco  (Etna)   \n",
       "1            @vossroger      Quinta dos Avidagos 2011 Avidagos Red (Douro)   \n",
       "2           @paulgwine       Rainstorm 2013 Pinot Gris (Willamette Valley)   \n",
       "3                   NaN  St. Julian 2013 Reserve Late Harvest Riesling ...   \n",
       "4           @paulgwine   Sweet Cheeks 2012 Vintner's Reserve Wild Child...   \n",
       "\n",
       "          variety               winery  \n",
       "0     White Blend              Nicosia  \n",
       "1  Portuguese Red  Quinta dos Avidagos  \n",
       "2      Pinot Gris            Rainstorm  \n",
       "3        Riesling           St. Julian  \n",
       "4      Pinot Noir         Sweet Cheeks  "
      ]
     },
     "execution_count": 2,
     "metadata": {},
     "output_type": "execute_result"
    }
   ],
   "source": [
    "reviews.head()"
   ]
  },
  {
   "cell_type": "markdown",
   "id": "e0b77027",
   "metadata": {
    "papermill": {
     "duration": 0.004943,
     "end_time": "2025-05-26T08:20:11.666693",
     "exception": false,
     "start_time": "2025-05-26T08:20:11.661750",
     "status": "completed"
    },
    "tags": []
   },
   "source": [
    "# Exercises"
   ]
  },
  {
   "cell_type": "markdown",
   "id": "d99b40b7",
   "metadata": {
    "papermill": {
     "duration": 0.004989,
     "end_time": "2025-05-26T08:20:11.676718",
     "exception": false,
     "start_time": "2025-05-26T08:20:11.671729",
     "status": "completed"
    },
    "tags": []
   },
   "source": [
    "## 1.\n",
    "\n",
    "Select the `description` column from `reviews` and assign the result to the variable `desc`."
   ]
  },
  {
   "cell_type": "code",
   "execution_count": 3,
   "id": "9647ab01",
   "metadata": {
    "execution": {
     "iopub.execute_input": "2025-05-26T08:20:11.688089Z",
     "iopub.status.busy": "2025-05-26T08:20:11.687807Z",
     "iopub.status.idle": "2025-05-26T08:20:11.696608Z",
     "shell.execute_reply": "2025-05-26T08:20:11.695852Z"
    },
    "papermill": {
     "duration": 0.016153,
     "end_time": "2025-05-26T08:20:11.697975",
     "exception": false,
     "start_time": "2025-05-26T08:20:11.681822",
     "status": "completed"
    },
    "tags": []
   },
   "outputs": [
    {
     "data": {
      "text/plain": [
       "\"Aromas include tropical fruit, broom, brimstone and dried herb. The palate isn't overly expressive, offering unripened apple, citrus and dried sage alongside brisk acidity.\""
      ]
     },
     "execution_count": 3,
     "metadata": {},
     "output_type": "execute_result"
    }
   ],
   "source": [
    "# Your code here\n",
    "desc = reviews['description'][0]\n",
    "\n",
    "# Check your answer\n",
    "type(desc)\n",
    "desc\n"
   ]
  },
  {
   "cell_type": "markdown",
   "id": "6bfcb869",
   "metadata": {
    "papermill": {
     "duration": 0.005303,
     "end_time": "2025-05-26T08:20:11.709312",
     "exception": false,
     "start_time": "2025-05-26T08:20:11.704009",
     "status": "completed"
    },
    "tags": []
   },
   "source": [
    "Follow-up question: what type of object is `desc`? If you're not sure, you can check by calling Python's `type` function: `type(desc)`."
   ]
  },
  {
   "cell_type": "code",
   "execution_count": 4,
   "id": "d3586006",
   "metadata": {
    "execution": {
     "iopub.execute_input": "2025-05-26T08:20:11.721737Z",
     "iopub.status.busy": "2025-05-26T08:20:11.721012Z",
     "iopub.status.idle": "2025-05-26T08:20:11.724832Z",
     "shell.execute_reply": "2025-05-26T08:20:11.724079Z"
    },
    "papermill": {
     "duration": 0.011341,
     "end_time": "2025-05-26T08:20:11.726050",
     "exception": false,
     "start_time": "2025-05-26T08:20:11.714709",
     "status": "completed"
    },
    "tags": []
   },
   "outputs": [],
   "source": [
    "#q1.hint()\n",
    "#q1.solution()"
   ]
  },
  {
   "cell_type": "markdown",
   "id": "ddcb67ed",
   "metadata": {
    "papermill": {
     "duration": 0.005574,
     "end_time": "2025-05-26T08:20:11.737009",
     "exception": false,
     "start_time": "2025-05-26T08:20:11.731435",
     "status": "completed"
    },
    "tags": []
   },
   "source": [
    "## 2.\n",
    "\n",
    "Select the first value from the description column of `reviews`, assigning it to variable `first_description`."
   ]
  },
  {
   "cell_type": "code",
   "execution_count": 5,
   "id": "dbc8d3d3",
   "metadata": {
    "execution": {
     "iopub.execute_input": "2025-05-26T08:20:11.748891Z",
     "iopub.status.busy": "2025-05-26T08:20:11.748189Z",
     "iopub.status.idle": "2025-05-26T08:20:11.753801Z",
     "shell.execute_reply": "2025-05-26T08:20:11.752912Z"
    },
    "papermill": {
     "duration": 0.012834,
     "end_time": "2025-05-26T08:20:11.755085",
     "exception": false,
     "start_time": "2025-05-26T08:20:11.742251",
     "status": "completed"
    },
    "tags": []
   },
   "outputs": [
    {
     "data": {
      "text/plain": [
       "\"Aromas include tropical fruit, broom, brimstone and dried herb. The palate isn't overly expressive, offering unripened apple, citrus and dried sage alongside brisk acidity.\""
      ]
     },
     "execution_count": 5,
     "metadata": {},
     "output_type": "execute_result"
    }
   ],
   "source": [
    "first_description = reviews.description.iloc[0]\n",
    "\n",
    "# Check your answer\n",
    "first_description"
   ]
  },
  {
   "cell_type": "code",
   "execution_count": 6,
   "id": "4733d4c9",
   "metadata": {
    "execution": {
     "iopub.execute_input": "2025-05-26T08:20:11.767256Z",
     "iopub.status.busy": "2025-05-26T08:20:11.767011Z",
     "iopub.status.idle": "2025-05-26T08:20:11.771094Z",
     "shell.execute_reply": "2025-05-26T08:20:11.770167Z"
    },
    "papermill": {
     "duration": 0.011801,
     "end_time": "2025-05-26T08:20:11.772598",
     "exception": false,
     "start_time": "2025-05-26T08:20:11.760797",
     "status": "completed"
    },
    "tags": []
   },
   "outputs": [],
   "source": [
    "#q2.hint()\n",
    "#q2.solution()"
   ]
  },
  {
   "cell_type": "markdown",
   "id": "52ba2131",
   "metadata": {
    "papermill": {
     "duration": 0.004992,
     "end_time": "2025-05-26T08:20:11.783085",
     "exception": false,
     "start_time": "2025-05-26T08:20:11.778093",
     "status": "completed"
    },
    "tags": []
   },
   "source": [
    "## 3. \n",
    "\n",
    "Select the first row of data (the first record) from `reviews`, assigning it to the variable `first_row`."
   ]
  },
  {
   "cell_type": "code",
   "execution_count": 7,
   "id": "c7785e02",
   "metadata": {
    "execution": {
     "iopub.execute_input": "2025-05-26T08:20:11.795160Z",
     "iopub.status.busy": "2025-05-26T08:20:11.794487Z",
     "iopub.status.idle": "2025-05-26T08:20:11.802590Z",
     "shell.execute_reply": "2025-05-26T08:20:11.801639Z"
    },
    "papermill": {
     "duration": 0.015584,
     "end_time": "2025-05-26T08:20:11.803965",
     "exception": false,
     "start_time": "2025-05-26T08:20:11.788381",
     "status": "completed"
    },
    "tags": []
   },
   "outputs": [
    {
     "data": {
      "application/javascript": [
       "parent.postMessage({\"jupyterEvent\": \"custom.exercise_interaction\", \"data\": {\"outcomeType\": 4, \"interactionType\": 1, \"questionType\": 1, \"questionId\": \"3_FirstRow\", \"learnToolsVersion\": \"0.3.5\", \"valueTowardsCompletion\": 0.0, \"failureMessage\": \"\", \"exceptionClass\": \"\", \"trace\": \"\"}}, \"*\")"
      ],
      "text/plain": [
       "<IPython.core.display.Javascript object>"
      ]
     },
     "metadata": {},
     "output_type": "display_data"
    },
    {
     "data": {
      "text/markdown": [
       "<span style=\"color:#ccaa33\">Check:</span> When you've updated the starter code, `check()` will tell you whether your code is correct. You need to update the code that creates variable `first_row`"
      ],
      "text/plain": [
       "Check: When you've updated the starter code, `check()` will tell you whether your code is correct. You need to update the code that creates variable `first_row`"
      ]
     },
     "metadata": {},
     "output_type": "display_data"
    },
    {
     "data": {
      "text/markdown": [],
      "text/plain": [
       "<learntools.core.constants.PlaceholderValue at 0x792cb5b25090>"
      ]
     },
     "execution_count": 7,
     "metadata": {},
     "output_type": "execute_result"
    }
   ],
   "source": [
    "first_row = ____\n",
    "\n",
    "# Check your answer\n",
    "q3.check()\n",
    "first_row"
   ]
  },
  {
   "cell_type": "code",
   "execution_count": 8,
   "id": "805f4bf2",
   "metadata": {
    "execution": {
     "iopub.execute_input": "2025-05-26T08:20:11.817137Z",
     "iopub.status.busy": "2025-05-26T08:20:11.816299Z",
     "iopub.status.idle": "2025-05-26T08:20:11.820359Z",
     "shell.execute_reply": "2025-05-26T08:20:11.819535Z"
    },
    "papermill": {
     "duration": 0.012109,
     "end_time": "2025-05-26T08:20:11.821842",
     "exception": false,
     "start_time": "2025-05-26T08:20:11.809733",
     "status": "completed"
    },
    "tags": []
   },
   "outputs": [],
   "source": [
    "#q3.hint()\n",
    "#q3.solution()"
   ]
  },
  {
   "cell_type": "markdown",
   "id": "40528b1f",
   "metadata": {
    "papermill": {
     "duration": 0.005469,
     "end_time": "2025-05-26T08:20:11.833493",
     "exception": false,
     "start_time": "2025-05-26T08:20:11.828024",
     "status": "completed"
    },
    "tags": []
   },
   "source": [
    "## 4.\n",
    "\n",
    "Select the first 10 values from the `description` column in `reviews`, assigning the result to variable `first_descriptions`.\n",
    "\n",
    "Hint: format your output as a pandas Series."
   ]
  },
  {
   "cell_type": "code",
   "execution_count": 9,
   "id": "f85a4203",
   "metadata": {
    "execution": {
     "iopub.execute_input": "2025-05-26T08:20:11.846160Z",
     "iopub.status.busy": "2025-05-26T08:20:11.845898Z",
     "iopub.status.idle": "2025-05-26T08:20:11.854247Z",
     "shell.execute_reply": "2025-05-26T08:20:11.853428Z"
    },
    "papermill": {
     "duration": 0.016368,
     "end_time": "2025-05-26T08:20:11.855503",
     "exception": false,
     "start_time": "2025-05-26T08:20:11.839135",
     "status": "completed"
    },
    "tags": []
   },
   "outputs": [
    {
     "data": {
      "application/javascript": [
       "parent.postMessage({\"jupyterEvent\": \"custom.exercise_interaction\", \"data\": {\"outcomeType\": 4, \"interactionType\": 1, \"questionType\": 1, \"questionId\": \"4_FirstDescs\", \"learnToolsVersion\": \"0.3.5\", \"valueTowardsCompletion\": 0.0, \"failureMessage\": \"\", \"exceptionClass\": \"\", \"trace\": \"\"}}, \"*\")"
      ],
      "text/plain": [
       "<IPython.core.display.Javascript object>"
      ]
     },
     "metadata": {},
     "output_type": "display_data"
    },
    {
     "data": {
      "text/markdown": [
       "<span style=\"color:#ccaa33\">Check:</span> When you've updated the starter code, `check()` will tell you whether your code is correct. You need to update the code that creates variable `first_descriptions`"
      ],
      "text/plain": [
       "Check: When you've updated the starter code, `check()` will tell you whether your code is correct. You need to update the code that creates variable `first_descriptions`"
      ]
     },
     "metadata": {},
     "output_type": "display_data"
    },
    {
     "data": {
      "text/markdown": [],
      "text/plain": [
       "<learntools.core.constants.PlaceholderValue at 0x792cb5b25090>"
      ]
     },
     "execution_count": 9,
     "metadata": {},
     "output_type": "execute_result"
    }
   ],
   "source": [
    "first_descriptions = ____\n",
    "\n",
    "# Check your answer\n",
    "q4.check()\n",
    "first_descriptions"
   ]
  },
  {
   "cell_type": "code",
   "execution_count": 10,
   "id": "db59a442",
   "metadata": {
    "execution": {
     "iopub.execute_input": "2025-05-26T08:20:11.868518Z",
     "iopub.status.busy": "2025-05-26T08:20:11.868189Z",
     "iopub.status.idle": "2025-05-26T08:20:11.871739Z",
     "shell.execute_reply": "2025-05-26T08:20:11.871026Z"
    },
    "papermill": {
     "duration": 0.01145,
     "end_time": "2025-05-26T08:20:11.873005",
     "exception": false,
     "start_time": "2025-05-26T08:20:11.861555",
     "status": "completed"
    },
    "tags": []
   },
   "outputs": [],
   "source": [
    "#q4.hint()\n",
    "#q4.solution()"
   ]
  },
  {
   "cell_type": "markdown",
   "id": "b82d6787",
   "metadata": {
    "papermill": {
     "duration": 0.006453,
     "end_time": "2025-05-26T08:20:11.885821",
     "exception": false,
     "start_time": "2025-05-26T08:20:11.879368",
     "status": "completed"
    },
    "tags": []
   },
   "source": [
    "## 5.\n",
    "\n",
    "Select the records with index labels `1`, `2`, `3`, `5`, and `8`, assigning the result to the variable `sample_reviews`.\n",
    "\n",
    "In other words, generate the following DataFrame:\n",
    "\n",
    "![](https://storage.googleapis.com/kaggle-media/learn/images/sHZvI1O.png)"
   ]
  },
  {
   "cell_type": "code",
   "execution_count": 11,
   "id": "be15cece",
   "metadata": {
    "execution": {
     "iopub.execute_input": "2025-05-26T08:20:11.899508Z",
     "iopub.status.busy": "2025-05-26T08:20:11.898676Z",
     "iopub.status.idle": "2025-05-26T08:20:11.906867Z",
     "shell.execute_reply": "2025-05-26T08:20:11.906183Z"
    },
    "papermill": {
     "duration": 0.016195,
     "end_time": "2025-05-26T08:20:11.908029",
     "exception": false,
     "start_time": "2025-05-26T08:20:11.891834",
     "status": "completed"
    },
    "tags": []
   },
   "outputs": [
    {
     "data": {
      "application/javascript": [
       "parent.postMessage({\"jupyterEvent\": \"custom.exercise_interaction\", \"data\": {\"outcomeType\": 4, \"interactionType\": 1, \"questionType\": 1, \"questionId\": \"5_SampleReviews\", \"learnToolsVersion\": \"0.3.5\", \"valueTowardsCompletion\": 0.0, \"failureMessage\": \"\", \"exceptionClass\": \"\", \"trace\": \"\"}}, \"*\")"
      ],
      "text/plain": [
       "<IPython.core.display.Javascript object>"
      ]
     },
     "metadata": {},
     "output_type": "display_data"
    },
    {
     "data": {
      "text/markdown": [
       "<span style=\"color:#ccaa33\">Check:</span> When you've updated the starter code, `check()` will tell you whether your code is correct. You need to update the code that creates variable `sample_reviews`"
      ],
      "text/plain": [
       "Check: When you've updated the starter code, `check()` will tell you whether your code is correct. You need to update the code that creates variable `sample_reviews`"
      ]
     },
     "metadata": {},
     "output_type": "display_data"
    },
    {
     "data": {
      "text/markdown": [],
      "text/plain": [
       "<learntools.core.constants.PlaceholderValue at 0x792cb5b25090>"
      ]
     },
     "execution_count": 11,
     "metadata": {},
     "output_type": "execute_result"
    }
   ],
   "source": [
    "sample_reviews = ____\n",
    "\n",
    "# Check your answer\n",
    "q5.check()\n",
    "sample_reviews"
   ]
  },
  {
   "cell_type": "code",
   "execution_count": 12,
   "id": "cd45e88f",
   "metadata": {
    "execution": {
     "iopub.execute_input": "2025-05-26T08:20:11.922773Z",
     "iopub.status.busy": "2025-05-26T08:20:11.922141Z",
     "iopub.status.idle": "2025-05-26T08:20:11.925618Z",
     "shell.execute_reply": "2025-05-26T08:20:11.924963Z"
    },
    "papermill": {
     "duration": 0.012096,
     "end_time": "2025-05-26T08:20:11.926899",
     "exception": false,
     "start_time": "2025-05-26T08:20:11.914803",
     "status": "completed"
    },
    "tags": []
   },
   "outputs": [],
   "source": [
    "#q5.hint()\n",
    "#q5.solution()"
   ]
  },
  {
   "cell_type": "markdown",
   "id": "b64b0f54",
   "metadata": {
    "papermill": {
     "duration": 0.00617,
     "end_time": "2025-05-26T08:20:11.939605",
     "exception": false,
     "start_time": "2025-05-26T08:20:11.933435",
     "status": "completed"
    },
    "tags": []
   },
   "source": [
    "## 6.\n",
    "\n",
    "Create a variable `df` containing the `country`, `province`, `region_1`, and `region_2` columns of the records with the index labels `0`, `1`, `10`, and `100`. In other words, generate the following DataFrame:\n",
    "\n",
    "![](https://storage.googleapis.com/kaggle-media/learn/images/FUCGiKP.png)"
   ]
  },
  {
   "cell_type": "code",
   "execution_count": 13,
   "id": "5e23455d",
   "metadata": {
    "execution": {
     "iopub.execute_input": "2025-05-26T08:20:11.953685Z",
     "iopub.status.busy": "2025-05-26T08:20:11.953052Z",
     "iopub.status.idle": "2025-05-26T08:20:11.961024Z",
     "shell.execute_reply": "2025-05-26T08:20:11.960160Z"
    },
    "papermill": {
     "duration": 0.016327,
     "end_time": "2025-05-26T08:20:11.962270",
     "exception": false,
     "start_time": "2025-05-26T08:20:11.945943",
     "status": "completed"
    },
    "tags": []
   },
   "outputs": [
    {
     "data": {
      "application/javascript": [
       "parent.postMessage({\"jupyterEvent\": \"custom.exercise_interaction\", \"data\": {\"outcomeType\": 4, \"interactionType\": 1, \"questionType\": 1, \"questionId\": \"6_RowColSelect\", \"learnToolsVersion\": \"0.3.5\", \"valueTowardsCompletion\": 0.0, \"failureMessage\": \"\", \"exceptionClass\": \"\", \"trace\": \"\"}}, \"*\")"
      ],
      "text/plain": [
       "<IPython.core.display.Javascript object>"
      ]
     },
     "metadata": {},
     "output_type": "display_data"
    },
    {
     "data": {
      "text/markdown": [
       "<span style=\"color:#ccaa33\">Check:</span> When you've updated the starter code, `check()` will tell you whether your code is correct. You need to update the code that creates variable `df`"
      ],
      "text/plain": [
       "Check: When you've updated the starter code, `check()` will tell you whether your code is correct. You need to update the code that creates variable `df`"
      ]
     },
     "metadata": {},
     "output_type": "display_data"
    },
    {
     "data": {
      "text/markdown": [],
      "text/plain": [
       "<learntools.core.constants.PlaceholderValue at 0x792cb5b25090>"
      ]
     },
     "execution_count": 13,
     "metadata": {},
     "output_type": "execute_result"
    }
   ],
   "source": [
    "df = ____\n",
    "\n",
    "# Check your answer\n",
    "q6.check()\n",
    "df"
   ]
  },
  {
   "cell_type": "code",
   "execution_count": 14,
   "id": "4794a12d",
   "metadata": {
    "execution": {
     "iopub.execute_input": "2025-05-26T08:20:11.977072Z",
     "iopub.status.busy": "2025-05-26T08:20:11.976816Z",
     "iopub.status.idle": "2025-05-26T08:20:11.980692Z",
     "shell.execute_reply": "2025-05-26T08:20:11.979788Z"
    },
    "papermill": {
     "duration": 0.0128,
     "end_time": "2025-05-26T08:20:11.982038",
     "exception": false,
     "start_time": "2025-05-26T08:20:11.969238",
     "status": "completed"
    },
    "tags": []
   },
   "outputs": [],
   "source": [
    "#q6.hint()\n",
    "#q6.solution()"
   ]
  },
  {
   "cell_type": "markdown",
   "id": "533eca58",
   "metadata": {
    "papermill": {
     "duration": 0.006669,
     "end_time": "2025-05-26T08:20:11.995559",
     "exception": false,
     "start_time": "2025-05-26T08:20:11.988890",
     "status": "completed"
    },
    "tags": []
   },
   "source": [
    "## 7.\n",
    "\n",
    "Create a variable `df` containing the `country` and `variety` columns of the first 100 records. \n",
    "\n",
    "Hint: you may use `loc` or `iloc`. When working on the answer this question and the several of the ones that follow, keep the following \"gotcha\" described in the tutorial:\n",
    "\n",
    "> `iloc` uses the Python stdlib indexing scheme, where the first element of the range is included and the last one excluded. \n",
    "`loc`, meanwhile, indexes inclusively. \n",
    "\n",
    "> This is particularly confusing when the DataFrame index is a simple numerical list, e.g. `0,...,1000`. In this case `df.iloc[0:1000]` will return 1000 entries, while `df.loc[0:1000]` return 1001 of them! To get 1000 elements using `loc`, you will need to go one lower and ask for `df.iloc[0:999]`. "
   ]
  },
  {
   "cell_type": "code",
   "execution_count": 15,
   "id": "9831f10a",
   "metadata": {
    "execution": {
     "iopub.execute_input": "2025-05-26T08:20:12.010689Z",
     "iopub.status.busy": "2025-05-26T08:20:12.010331Z",
     "iopub.status.idle": "2025-05-26T08:20:12.018827Z",
     "shell.execute_reply": "2025-05-26T08:20:12.017964Z"
    },
    "papermill": {
     "duration": 0.017728,
     "end_time": "2025-05-26T08:20:12.020191",
     "exception": false,
     "start_time": "2025-05-26T08:20:12.002463",
     "status": "completed"
    },
    "tags": []
   },
   "outputs": [
    {
     "data": {
      "application/javascript": [
       "parent.postMessage({\"jupyterEvent\": \"custom.exercise_interaction\", \"data\": {\"outcomeType\": 4, \"interactionType\": 1, \"questionType\": 1, \"questionId\": \"7_RowColSelect2\", \"learnToolsVersion\": \"0.3.5\", \"valueTowardsCompletion\": 0.0, \"failureMessage\": \"\", \"exceptionClass\": \"\", \"trace\": \"\"}}, \"*\")"
      ],
      "text/plain": [
       "<IPython.core.display.Javascript object>"
      ]
     },
     "metadata": {},
     "output_type": "display_data"
    },
    {
     "data": {
      "text/markdown": [
       "<span style=\"color:#ccaa33\">Check:</span> When you've updated the starter code, `check()` will tell you whether your code is correct. You need to update the code that creates variable `df`"
      ],
      "text/plain": [
       "Check: When you've updated the starter code, `check()` will tell you whether your code is correct. You need to update the code that creates variable `df`"
      ]
     },
     "metadata": {},
     "output_type": "display_data"
    },
    {
     "data": {
      "text/markdown": [],
      "text/plain": [
       "<learntools.core.constants.PlaceholderValue at 0x792cb5b25090>"
      ]
     },
     "execution_count": 15,
     "metadata": {},
     "output_type": "execute_result"
    }
   ],
   "source": [
    "df = ____\n",
    "\n",
    "# Check your answer\n",
    "q7.check()\n",
    "df"
   ]
  },
  {
   "cell_type": "code",
   "execution_count": 16,
   "id": "814dad82",
   "metadata": {
    "execution": {
     "iopub.execute_input": "2025-05-26T08:20:12.035521Z",
     "iopub.status.busy": "2025-05-26T08:20:12.035197Z",
     "iopub.status.idle": "2025-05-26T08:20:12.039244Z",
     "shell.execute_reply": "2025-05-26T08:20:12.038445Z"
    },
    "papermill": {
     "duration": 0.013111,
     "end_time": "2025-05-26T08:20:12.040614",
     "exception": false,
     "start_time": "2025-05-26T08:20:12.027503",
     "status": "completed"
    },
    "tags": []
   },
   "outputs": [],
   "source": [
    "#q7.hint()\n",
    "#q7.solution()"
   ]
  },
  {
   "cell_type": "markdown",
   "id": "577726b9",
   "metadata": {
    "papermill": {
     "duration": 0.006543,
     "end_time": "2025-05-26T08:20:12.054410",
     "exception": false,
     "start_time": "2025-05-26T08:20:12.047867",
     "status": "completed"
    },
    "tags": []
   },
   "source": [
    "## 8.\n",
    "\n",
    "Create a DataFrame `italian_wines` containing reviews of wines made in `Italy`. Hint: `reviews.country` equals what?"
   ]
  },
  {
   "cell_type": "code",
   "execution_count": 17,
   "id": "091771f4",
   "metadata": {
    "execution": {
     "iopub.execute_input": "2025-05-26T08:20:12.069803Z",
     "iopub.status.busy": "2025-05-26T08:20:12.068876Z",
     "iopub.status.idle": "2025-05-26T08:20:12.076643Z",
     "shell.execute_reply": "2025-05-26T08:20:12.075736Z"
    },
    "papermill": {
     "duration": 0.016826,
     "end_time": "2025-05-26T08:20:12.078100",
     "exception": false,
     "start_time": "2025-05-26T08:20:12.061274",
     "status": "completed"
    },
    "tags": []
   },
   "outputs": [
    {
     "data": {
      "application/javascript": [
       "parent.postMessage({\"jupyterEvent\": \"custom.exercise_interaction\", \"data\": {\"outcomeType\": 4, \"interactionType\": 1, \"questionType\": 1, \"questionId\": \"8_ItalianWines\", \"learnToolsVersion\": \"0.3.5\", \"valueTowardsCompletion\": 0.0, \"failureMessage\": \"\", \"exceptionClass\": \"\", \"trace\": \"\"}}, \"*\")"
      ],
      "text/plain": [
       "<IPython.core.display.Javascript object>"
      ]
     },
     "metadata": {},
     "output_type": "display_data"
    },
    {
     "data": {
      "text/markdown": [
       "<span style=\"color:#ccaa33\">Check:</span> When you've updated the starter code, `check()` will tell you whether your code is correct. You need to update the code that creates variable `italian_wines`"
      ],
      "text/plain": [
       "Check: When you've updated the starter code, `check()` will tell you whether your code is correct. You need to update the code that creates variable `italian_wines`"
      ]
     },
     "metadata": {},
     "output_type": "display_data"
    }
   ],
   "source": [
    "italian_wines = ____\n",
    "\n",
    "# Check your answer\n",
    "q8.check()"
   ]
  },
  {
   "cell_type": "code",
   "execution_count": 18,
   "id": "05ec5133",
   "metadata": {
    "execution": {
     "iopub.execute_input": "2025-05-26T08:20:12.094336Z",
     "iopub.status.busy": "2025-05-26T08:20:12.094096Z",
     "iopub.status.idle": "2025-05-26T08:20:12.097790Z",
     "shell.execute_reply": "2025-05-26T08:20:12.097155Z"
    },
    "papermill": {
     "duration": 0.013049,
     "end_time": "2025-05-26T08:20:12.098997",
     "exception": false,
     "start_time": "2025-05-26T08:20:12.085948",
     "status": "completed"
    },
    "tags": []
   },
   "outputs": [],
   "source": [
    "#q8.hint()\n",
    "#q8.solution()"
   ]
  },
  {
   "cell_type": "markdown",
   "id": "59512611",
   "metadata": {
    "papermill": {
     "duration": 0.006874,
     "end_time": "2025-05-26T08:20:12.113117",
     "exception": false,
     "start_time": "2025-05-26T08:20:12.106243",
     "status": "completed"
    },
    "tags": []
   },
   "source": [
    "## 9.\n",
    "\n",
    "Create a DataFrame `top_oceania_wines` containing all reviews with at least 95 points (out of 100) for wines from Australia or New Zealand."
   ]
  },
  {
   "cell_type": "code",
   "execution_count": 19,
   "id": "b033db53",
   "metadata": {
    "execution": {
     "iopub.execute_input": "2025-05-26T08:20:12.193074Z",
     "iopub.status.busy": "2025-05-26T08:20:12.192301Z",
     "iopub.status.idle": "2025-05-26T08:20:12.200145Z",
     "shell.execute_reply": "2025-05-26T08:20:12.199432Z"
    },
    "papermill": {
     "duration": 0.081347,
     "end_time": "2025-05-26T08:20:12.201502",
     "exception": false,
     "start_time": "2025-05-26T08:20:12.120155",
     "status": "completed"
    },
    "tags": []
   },
   "outputs": [
    {
     "data": {
      "application/javascript": [
       "parent.postMessage({\"jupyterEvent\": \"custom.exercise_interaction\", \"data\": {\"outcomeType\": 4, \"interactionType\": 1, \"questionType\": 1, \"questionId\": \"9_TopOceanicWines\", \"learnToolsVersion\": \"0.3.5\", \"valueTowardsCompletion\": 0.0, \"failureMessage\": \"\", \"exceptionClass\": \"\", \"trace\": \"\"}}, \"*\")"
      ],
      "text/plain": [
       "<IPython.core.display.Javascript object>"
      ]
     },
     "metadata": {},
     "output_type": "display_data"
    },
    {
     "data": {
      "text/markdown": [
       "<span style=\"color:#ccaa33\">Check:</span> When you've updated the starter code, `check()` will tell you whether your code is correct. You need to update the code that creates variable `top_oceania_wines`"
      ],
      "text/plain": [
       "Check: When you've updated the starter code, `check()` will tell you whether your code is correct. You need to update the code that creates variable `top_oceania_wines`"
      ]
     },
     "metadata": {},
     "output_type": "display_data"
    },
    {
     "data": {
      "text/markdown": [],
      "text/plain": [
       "<learntools.core.constants.PlaceholderValue at 0x792cb5b25090>"
      ]
     },
     "execution_count": 19,
     "metadata": {},
     "output_type": "execute_result"
    }
   ],
   "source": [
    "top_oceania_wines = ____\n",
    "\n",
    "# Check your answer\n",
    "q9.check()\n",
    "top_oceania_wines"
   ]
  },
  {
   "cell_type": "code",
   "execution_count": 20,
   "id": "262ba6e5",
   "metadata": {
    "execution": {
     "iopub.execute_input": "2025-05-26T08:20:12.218944Z",
     "iopub.status.busy": "2025-05-26T08:20:12.217954Z",
     "iopub.status.idle": "2025-05-26T08:20:12.222049Z",
     "shell.execute_reply": "2025-05-26T08:20:12.221147Z"
    },
    "papermill": {
     "duration": 0.014024,
     "end_time": "2025-05-26T08:20:12.223296",
     "exception": false,
     "start_time": "2025-05-26T08:20:12.209272",
     "status": "completed"
    },
    "tags": []
   },
   "outputs": [],
   "source": [
    "#q9.hint()\n",
    "#q9.solution()"
   ]
  },
  {
   "cell_type": "markdown",
   "id": "87cee459",
   "metadata": {
    "papermill": {
     "duration": 0.007541,
     "end_time": "2025-05-26T08:20:12.238768",
     "exception": false,
     "start_time": "2025-05-26T08:20:12.231227",
     "status": "completed"
    },
    "tags": []
   },
   "source": [
    "# Keep going\n",
    "\n",
    "Move on to learn about **[summary functions and maps](https://www.kaggle.com/residentmario/summary-functions-and-maps)**."
   ]
  },
  {
   "cell_type": "markdown",
   "id": "75af97b1",
   "metadata": {
    "papermill": {
     "duration": 0.007339,
     "end_time": "2025-05-26T08:20:12.253834",
     "exception": false,
     "start_time": "2025-05-26T08:20:12.246495",
     "status": "completed"
    },
    "tags": []
   },
   "source": [
    "---\n",
    "\n",
    "\n",
    "\n",
    "\n",
    "*Have questions or comments? Visit the [course discussion forum](https://www.kaggle.com/learn/pandas/discussion) to chat with other learners.*"
   ]
  }
 ],
 "metadata": {
  "kaggle": {
   "accelerator": "none",
   "dataSources": [
    {
     "datasetId": 655,
     "sourceId": 1252,
     "sourceType": "datasetVersion"
    },
    {
     "datasetId": 2321,
     "sourceId": 3919,
     "sourceType": "datasetVersion"
    },
    {
     "datasetId": 2894,
     "sourceId": 4877,
     "sourceType": "datasetVersion"
    },
    {
     "datasetId": 3491,
     "sourceId": 5624,
     "sourceType": "datasetVersion"
    },
    {
     "datasetId": 1442,
     "sourceId": 8172,
     "sourceType": "datasetVersion"
    },
    {
     "datasetId": 9366,
     "sourceId": 13206,
     "sourceType": "datasetVersion"
    },
    {
     "datasetId": 179555,
     "sourceId": 403916,
     "sourceType": "datasetVersion"
    },
    {
     "datasetId": 4549,
     "sourceId": 466349,
     "sourceType": "datasetVersion"
    },
    {
     "datasetId": 2478,
     "sourceId": 1151655,
     "sourceType": "datasetVersion"
    },
    {
     "datasetId": 10128,
     "sourceId": 5438389,
     "sourceType": "datasetVersion"
    }
   ],
   "isGpuEnabled": false,
   "isInternetEnabled": false,
   "language": "python",
   "sourceType": "notebook"
  },
  "kernelspec": {
   "display_name": "Python 3",
   "language": "python",
   "name": "python3"
  },
  "language_info": {
   "codemirror_mode": {
    "name": "ipython",
    "version": 3
   },
   "file_extension": ".py",
   "mimetype": "text/x-python",
   "name": "python",
   "nbconvert_exporter": "python",
   "pygments_lexer": "ipython3",
   "version": "3.11.11"
  },
  "papermill": {
   "default_parameters": {},
   "duration": 11.238653,
   "end_time": "2025-05-26T08:20:12.780911",
   "environment_variables": {},
   "exception": null,
   "input_path": "__notebook__.ipynb",
   "output_path": "__notebook__.ipynb",
   "parameters": {},
   "start_time": "2025-05-26T08:20:01.542258",
   "version": "2.6.0"
  }
 },
 "nbformat": 4,
 "nbformat_minor": 5
}
