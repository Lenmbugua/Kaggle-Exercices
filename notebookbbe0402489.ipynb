{
 "cells": [
  {
   "cell_type": "markdown",
   "id": "407793a8",
   "metadata": {
    "_cell_guid": "2ea0b06f-bd52-494c-90a8-10ee2a4db7bb",
    "_uuid": "05423d8d-f3a5-45ff-a7a6-a599020153d2",
    "collapsed": false,
    "jupyter": {
     "outputs_hidden": false
    },
    "papermill": {
     "duration": 0.005181,
     "end_time": "2025-05-26T07:45:48.867280",
     "exception": false,
     "start_time": "2025-05-26T07:45:48.862099",
     "status": "completed"
    },
    "tags": []
   },
   "source": [
    "**This notebook is an exercise in the [Pandas](https://www.kaggle.com/learn/pandas) course.  You can reference the tutorial at [this link](https://www.kaggle.com/residentmario/creating-reading-and-writing).**\n",
    "\n",
    "---"
   ]
  },
  {
   "cell_type": "markdown",
   "id": "29ea8b5b",
   "metadata": {
    "_cell_guid": "1af1e532-2c9e-45f7-adde-b1b79183a212",
    "_uuid": "85c741be-4a35-45ab-9ddc-97fb2450bf74",
    "collapsed": false,
    "jupyter": {
     "outputs_hidden": false
    },
    "papermill": {
     "duration": 0.003982,
     "end_time": "2025-05-26T07:45:48.875646",
     "exception": false,
     "start_time": "2025-05-26T07:45:48.871664",
     "status": "completed"
    },
    "tags": []
   },
   "source": [
    "# Introduction\n",
    "\n",
    "The first step in most data analytics projects is reading the data file. In this exercise, you'll create Series and DataFrame objects, both by hand and by reading data files.\n",
    "\n",
    "Run the code cell below to load libraries you will need (including code to check your answers)."
   ]
  },
  {
   "cell_type": "code",
   "execution_count": 1,
   "id": "a774b382",
   "metadata": {
    "_cell_guid": "4093144e-645f-47c0-9b52-bed8604b23fb",
    "_uuid": "1256501d-0bd3-4a54-bf89-40b953246ec8",
    "collapsed": false,
    "execution": {
     "iopub.execute_input": "2025-05-26T07:45:48.885296Z",
     "iopub.status.busy": "2025-05-26T07:45:48.885008Z",
     "iopub.status.idle": "2025-05-26T07:45:52.468110Z",
     "shell.execute_reply": "2025-05-26T07:45:52.467218Z"
    },
    "jupyter": {
     "outputs_hidden": false
    },
    "papermill": {
     "duration": 3.589766,
     "end_time": "2025-05-26T07:45:52.469610",
     "exception": false,
     "start_time": "2025-05-26T07:45:48.879844",
     "status": "completed"
    },
    "tags": []
   },
   "outputs": [
    {
     "name": "stdout",
     "output_type": "stream",
     "text": [
      "Setup complete.\n"
     ]
    }
   ],
   "source": [
    "import pandas as pd\n",
    "pd.set_option('display.max_rows', 5)\n",
    "from learntools.core import binder; binder.bind(globals())\n",
    "from learntools.pandas.creating_reading_and_writing import *\n",
    "print(\"Setup complete.\")"
   ]
  },
  {
   "cell_type": "markdown",
   "id": "42ad4a2c",
   "metadata": {
    "_cell_guid": "c991d62a-0d44-4eb9-a5b0-f208e1682c4d",
    "_uuid": "1ba24505-204c-4582-9c2f-74f82b804c2f",
    "collapsed": false,
    "jupyter": {
     "outputs_hidden": false
    },
    "papermill": {
     "duration": 0.004104,
     "end_time": "2025-05-26T07:45:52.478117",
     "exception": false,
     "start_time": "2025-05-26T07:45:52.474013",
     "status": "completed"
    },
    "tags": []
   },
   "source": [
    "# Exercises"
   ]
  },
  {
   "cell_type": "markdown",
   "id": "155b4ca6",
   "metadata": {
    "_cell_guid": "be1a43a1-9690-484e-97b9-9de0bce8b96f",
    "_uuid": "68bddaf4-3255-45d6-85bf-f868913b2e17",
    "collapsed": false,
    "jupyter": {
     "outputs_hidden": false
    },
    "papermill": {
     "duration": 0.003878,
     "end_time": "2025-05-26T07:45:52.486215",
     "exception": false,
     "start_time": "2025-05-26T07:45:52.482337",
     "status": "completed"
    },
    "tags": []
   },
   "source": [
    "## 1.\n",
    "\n",
    "In the cell below, create a DataFrame `fruits` that looks like this:\n",
    "\n",
    "![](https://storage.googleapis.com/kaggle-media/learn/images/Ax3pp2A.png)"
   ]
  },
  {
   "cell_type": "code",
   "execution_count": 2,
   "id": "ae43e37b",
   "metadata": {
    "_cell_guid": "f7b0a41b-9cb2-456e-80e6-8814be789e5c",
    "_uuid": "8b0d0303-1761-4f4c-8e99-a6dd20ec89d3",
    "collapsed": false,
    "execution": {
     "iopub.execute_input": "2025-05-26T07:45:52.495405Z",
     "iopub.status.busy": "2025-05-26T07:45:52.495104Z",
     "iopub.status.idle": "2025-05-26T07:45:52.513647Z",
     "shell.execute_reply": "2025-05-26T07:45:52.512834Z"
    },
    "jupyter": {
     "outputs_hidden": false
    },
    "papermill": {
     "duration": 0.024939,
     "end_time": "2025-05-26T07:45:52.515045",
     "exception": false,
     "start_time": "2025-05-26T07:45:52.490106",
     "status": "completed"
    },
    "tags": []
   },
   "outputs": [
    {
     "data": {
      "text/html": [
       "<div>\n",
       "<style scoped>\n",
       "    .dataframe tbody tr th:only-of-type {\n",
       "        vertical-align: middle;\n",
       "    }\n",
       "\n",
       "    .dataframe tbody tr th {\n",
       "        vertical-align: top;\n",
       "    }\n",
       "\n",
       "    .dataframe thead th {\n",
       "        text-align: right;\n",
       "    }\n",
       "</style>\n",
       "<table border=\"1\" class=\"dataframe\">\n",
       "  <thead>\n",
       "    <tr style=\"text-align: right;\">\n",
       "      <th></th>\n",
       "      <th>Apples</th>\n",
       "      <th>Bananas</th>\n",
       "    </tr>\n",
       "  </thead>\n",
       "  <tbody>\n",
       "    <tr>\n",
       "      <th>0</th>\n",
       "      <td>30</td>\n",
       "      <td>21</td>\n",
       "    </tr>\n",
       "  </tbody>\n",
       "</table>\n",
       "</div>"
      ],
      "text/plain": [
       "   Apples  Bananas\n",
       "0      30       21"
      ]
     },
     "execution_count": 2,
     "metadata": {},
     "output_type": "execute_result"
    }
   ],
   "source": [
    "# Your code goes here. Create a dataframe matching the above diagram and assign it to the variable fruits.\n",
    "fruits = pd.DataFrame({'Apples': [30],'Bananas': [21]})\n",
    "\n",
    "# Check your answer\n",
    "fruits"
   ]
  },
  {
   "cell_type": "code",
   "execution_count": 3,
   "id": "b05eda3b",
   "metadata": {
    "_cell_guid": "3aedefe9-18dd-44b0-b714-29753be2501f",
    "_uuid": "f9cf09e6-e142-4caf-9834-e49e281b9671",
    "collapsed": false,
    "execution": {
     "iopub.execute_input": "2025-05-26T07:45:52.525197Z",
     "iopub.status.busy": "2025-05-26T07:45:52.524943Z",
     "iopub.status.idle": "2025-05-26T07:45:52.528675Z",
     "shell.execute_reply": "2025-05-26T07:45:52.527784Z"
    },
    "jupyter": {
     "outputs_hidden": false
    },
    "papermill": {
     "duration": 0.010437,
     "end_time": "2025-05-26T07:45:52.530079",
     "exception": false,
     "start_time": "2025-05-26T07:45:52.519642",
     "status": "completed"
    },
    "tags": []
   },
   "outputs": [],
   "source": [
    "#q1.hint()\n",
    "#q1.solution()"
   ]
  },
  {
   "cell_type": "markdown",
   "id": "e58d5dc1",
   "metadata": {
    "_cell_guid": "b0a13f90-a00a-44e4-b0e4-c1998b020f4c",
    "_uuid": "a5ff2c44-f513-472e-8898-bef02b0c0d6e",
    "collapsed": false,
    "jupyter": {
     "outputs_hidden": false
    },
    "papermill": {
     "duration": 0.003924,
     "end_time": "2025-05-26T07:45:52.538298",
     "exception": false,
     "start_time": "2025-05-26T07:45:52.534374",
     "status": "completed"
    },
    "tags": []
   },
   "source": [
    "## 2.\n",
    "\n",
    "Create a dataframe `fruit_sales` that matches the diagram below:\n",
    "\n",
    "![](https://storage.googleapis.com/kaggle-media/learn/images/CHPn7ZF.png)"
   ]
  },
  {
   "cell_type": "code",
   "execution_count": 4,
   "id": "bf32f0a0",
   "metadata": {
    "_cell_guid": "a6c69a4a-efe9-4e39-ab0c-2e7769b59762",
    "_uuid": "694249d6-f65c-4356-a32a-6c97b0b23c02",
    "collapsed": false,
    "execution": {
     "iopub.execute_input": "2025-05-26T07:45:52.548126Z",
     "iopub.status.busy": "2025-05-26T07:45:52.547849Z",
     "iopub.status.idle": "2025-05-26T07:45:52.556637Z",
     "shell.execute_reply": "2025-05-26T07:45:52.555877Z"
    },
    "jupyter": {
     "outputs_hidden": false
    },
    "papermill": {
     "duration": 0.015429,
     "end_time": "2025-05-26T07:45:52.558080",
     "exception": false,
     "start_time": "2025-05-26T07:45:52.542651",
     "status": "completed"
    },
    "tags": []
   },
   "outputs": [
    {
     "data": {
      "text/html": [
       "<div>\n",
       "<style scoped>\n",
       "    .dataframe tbody tr th:only-of-type {\n",
       "        vertical-align: middle;\n",
       "    }\n",
       "\n",
       "    .dataframe tbody tr th {\n",
       "        vertical-align: top;\n",
       "    }\n",
       "\n",
       "    .dataframe thead th {\n",
       "        text-align: right;\n",
       "    }\n",
       "</style>\n",
       "<table border=\"1\" class=\"dataframe\">\n",
       "  <thead>\n",
       "    <tr style=\"text-align: right;\">\n",
       "      <th></th>\n",
       "      <th>Apples</th>\n",
       "      <th>Bananas</th>\n",
       "    </tr>\n",
       "  </thead>\n",
       "  <tbody>\n",
       "    <tr>\n",
       "      <th>2017 Sales</th>\n",
       "      <td>35</td>\n",
       "      <td>21</td>\n",
       "    </tr>\n",
       "    <tr>\n",
       "      <th>2018 Sales</th>\n",
       "      <td>41</td>\n",
       "      <td>34</td>\n",
       "    </tr>\n",
       "  </tbody>\n",
       "</table>\n",
       "</div>"
      ],
      "text/plain": [
       "            Apples  Bananas\n",
       "2017 Sales      35       21\n",
       "2018 Sales      41       34"
      ]
     },
     "execution_count": 4,
     "metadata": {},
     "output_type": "execute_result"
    }
   ],
   "source": [
    "# Your code goes here. Create a dataframe matching the above diagram and assign it to the variable fruit_sales.\n",
    "fruit_sales = pd.DataFrame({'Apples':[35,41],'Bananas':[21,34]},index=['2017 Sales','2018 Sales'])\n",
    "\n",
    "# Check your answer\n",
    "fruit_sales"
   ]
  },
  {
   "cell_type": "code",
   "execution_count": 5,
   "id": "3142ad52",
   "metadata": {
    "_cell_guid": "20def1c1-a57a-4a61-8820-2a35e2660995",
    "_uuid": "8b8b6349-a530-42b7-afba-1b337d72164f",
    "collapsed": false,
    "execution": {
     "iopub.execute_input": "2025-05-26T07:45:52.568765Z",
     "iopub.status.busy": "2025-05-26T07:45:52.568091Z",
     "iopub.status.idle": "2025-05-26T07:45:52.571632Z",
     "shell.execute_reply": "2025-05-26T07:45:52.570912Z"
    },
    "jupyter": {
     "outputs_hidden": false
    },
    "papermill": {
     "duration": 0.010275,
     "end_time": "2025-05-26T07:45:52.572896",
     "exception": false,
     "start_time": "2025-05-26T07:45:52.562621",
     "status": "completed"
    },
    "tags": []
   },
   "outputs": [],
   "source": [
    "#q2.hint()\n",
    "#q2.solution()"
   ]
  },
  {
   "cell_type": "markdown",
   "id": "428bec04",
   "metadata": {
    "_cell_guid": "a91b3034-c861-48ce-80dd-dfb58d9feea2",
    "_uuid": "21122888-d4ba-403e-b5d3-70456b907e16",
    "collapsed": false,
    "jupyter": {
     "outputs_hidden": false
    },
    "papermill": {
     "duration": 0.00391,
     "end_time": "2025-05-26T07:45:52.581329",
     "exception": false,
     "start_time": "2025-05-26T07:45:52.577419",
     "status": "completed"
    },
    "tags": []
   },
   "source": [
    "## 3.\n",
    "\n",
    "Create a variable `ingredients` with a Series that looks like:\n",
    "\n",
    "```\n",
    "Flour     4 cups\n",
    "Milk       1 cup\n",
    "Eggs     2 large\n",
    "Spam       1 can\n",
    "Name: Dinner, dtype: object\n",
    "```"
   ]
  },
  {
   "cell_type": "code",
   "execution_count": 6,
   "id": "34d07c15",
   "metadata": {
    "_cell_guid": "3439e7e7-4352-4faa-b52b-2485d5b0cc1b",
    "_uuid": "b891daed-0073-4e0f-8624-10f46b52f3f0",
    "collapsed": false,
    "execution": {
     "iopub.execute_input": "2025-05-26T07:45:52.591423Z",
     "iopub.status.busy": "2025-05-26T07:45:52.590613Z",
     "iopub.status.idle": "2025-05-26T07:45:52.597378Z",
     "shell.execute_reply": "2025-05-26T07:45:52.596646Z"
    },
    "jupyter": {
     "outputs_hidden": false
    },
    "papermill": {
     "duration": 0.012795,
     "end_time": "2025-05-26T07:45:52.598448",
     "exception": false,
     "start_time": "2025-05-26T07:45:52.585653",
     "status": "completed"
    },
    "tags": []
   },
   "outputs": [
    {
     "data": {
      "text/plain": [
       "Flour     4 cups\n",
       "Milk       1 Cup\n",
       "Eggs     2 large\n",
       "Spam       1 can\n",
       "Name: Dinner, dtype: object"
      ]
     },
     "execution_count": 6,
     "metadata": {},
     "output_type": "execute_result"
    }
   ],
   "source": [
    "ingredients = pd.Series(\n",
    "    ['4 cups', '1 Cup', '2 large','1 can'],\n",
    "    index=['Flour','Milk','Eggs','Spam'],\n",
    "    name='Dinner')\n",
    "\n",
    "# Check your answer\n",
    "ingredients"
   ]
  },
  {
   "cell_type": "code",
   "execution_count": 7,
   "id": "89f353eb",
   "metadata": {
    "_cell_guid": "c97dfa9b-e2e8-4cd3-b27e-63a8a513f79d",
    "_uuid": "68dd9ee8-28bc-4fda-a911-8a7be2419670",
    "collapsed": false,
    "execution": {
     "iopub.execute_input": "2025-05-26T07:45:52.608544Z",
     "iopub.status.busy": "2025-05-26T07:45:52.607953Z",
     "iopub.status.idle": "2025-05-26T07:45:52.611062Z",
     "shell.execute_reply": "2025-05-26T07:45:52.610489Z"
    },
    "jupyter": {
     "outputs_hidden": false
    },
    "papermill": {
     "duration": 0.009287,
     "end_time": "2025-05-26T07:45:52.612186",
     "exception": false,
     "start_time": "2025-05-26T07:45:52.602899",
     "status": "completed"
    },
    "tags": []
   },
   "outputs": [],
   "source": [
    "#q3.hint()\n",
    "#q3.solution()"
   ]
  },
  {
   "cell_type": "markdown",
   "id": "5ba12626",
   "metadata": {
    "_cell_guid": "c0863598-41a2-4064-9462-a8b7fdbbde86",
    "_uuid": "d0db1028-2944-4572-99bf-72cc1c05441d",
    "collapsed": false,
    "jupyter": {
     "outputs_hidden": false
    },
    "papermill": {
     "duration": 0.004323,
     "end_time": "2025-05-26T07:45:52.620969",
     "exception": false,
     "start_time": "2025-05-26T07:45:52.616646",
     "status": "completed"
    },
    "tags": []
   },
   "source": [
    "## 4.\n",
    "\n",
    "Read the following csv dataset of wine reviews into a DataFrame called `reviews`:\n",
    "\n",
    "![](https://storage.googleapis.com/kaggle-media/learn/images/74RCZtU.png)\n",
    "\n",
    "The filepath to the csv file is `../input/wine-reviews/winemag-data_first150k.csv`. The first few lines look like:\n",
    "\n",
    "```\n",
    ",country,description,designation,points,price,province,region_1,region_2,variety,winery\n",
    "0,US,\"This tremendous 100% varietal wine[...]\",Martha's Vineyard,96,235.0,California,Napa Valley,Napa,Cabernet Sauvignon,Heitz\n",
    "1,Spain,\"Ripe aromas of fig, blackberry and[...]\",Carodorum Selección Especial Reserva,96,110.0,Northern Spain,Toro,,Tinta de Toro,Bodega Carmen Rodríguez\n",
    "```"
   ]
  },
  {
   "cell_type": "code",
   "execution_count": 8,
   "id": "b3aa27f3",
   "metadata": {
    "_cell_guid": "fcd2924e-8bcb-4b74-b1e5-4411fc62677a",
    "_uuid": "bbb822b5-ec53-443b-9dd0-1988dee75f77",
    "collapsed": false,
    "execution": {
     "iopub.execute_input": "2025-05-26T07:45:52.631345Z",
     "iopub.status.busy": "2025-05-26T07:45:52.630611Z",
     "iopub.status.idle": "2025-05-26T07:45:53.630213Z",
     "shell.execute_reply": "2025-05-26T07:45:53.629374Z"
    },
    "jupyter": {
     "outputs_hidden": false
    },
    "papermill": {
     "duration": 1.00611,
     "end_time": "2025-05-26T07:45:53.631549",
     "exception": false,
     "start_time": "2025-05-26T07:45:52.625439",
     "status": "completed"
    },
    "tags": []
   },
   "outputs": [
    {
     "data": {
      "text/html": [
       "<div>\n",
       "<style scoped>\n",
       "    .dataframe tbody tr th:only-of-type {\n",
       "        vertical-align: middle;\n",
       "    }\n",
       "\n",
       "    .dataframe tbody tr th {\n",
       "        vertical-align: top;\n",
       "    }\n",
       "\n",
       "    .dataframe thead th {\n",
       "        text-align: right;\n",
       "    }\n",
       "</style>\n",
       "<table border=\"1\" class=\"dataframe\">\n",
       "  <thead>\n",
       "    <tr style=\"text-align: right;\">\n",
       "      <th></th>\n",
       "      <th>Unnamed: 0</th>\n",
       "      <th>country</th>\n",
       "      <th>description</th>\n",
       "      <th>designation</th>\n",
       "      <th>points</th>\n",
       "      <th>price</th>\n",
       "      <th>province</th>\n",
       "      <th>region_1</th>\n",
       "      <th>region_2</th>\n",
       "      <th>variety</th>\n",
       "      <th>winery</th>\n",
       "    </tr>\n",
       "  </thead>\n",
       "  <tbody>\n",
       "    <tr>\n",
       "      <th>0</th>\n",
       "      <td>0</td>\n",
       "      <td>US</td>\n",
       "      <td>This tremendous 100% varietal wine hails from ...</td>\n",
       "      <td>Martha's Vineyard</td>\n",
       "      <td>96</td>\n",
       "      <td>235.0</td>\n",
       "      <td>California</td>\n",
       "      <td>Napa Valley</td>\n",
       "      <td>Napa</td>\n",
       "      <td>Cabernet Sauvignon</td>\n",
       "      <td>Heitz</td>\n",
       "    </tr>\n",
       "    <tr>\n",
       "      <th>1</th>\n",
       "      <td>1</td>\n",
       "      <td>Spain</td>\n",
       "      <td>Ripe aromas of fig, blackberry and cassis are ...</td>\n",
       "      <td>Carodorum Selección Especial Reserva</td>\n",
       "      <td>96</td>\n",
       "      <td>110.0</td>\n",
       "      <td>Northern Spain</td>\n",
       "      <td>Toro</td>\n",
       "      <td>NaN</td>\n",
       "      <td>Tinta de Toro</td>\n",
       "      <td>Bodega Carmen Rodríguez</td>\n",
       "    </tr>\n",
       "    <tr>\n",
       "      <th>...</th>\n",
       "      <td>...</td>\n",
       "      <td>...</td>\n",
       "      <td>...</td>\n",
       "      <td>...</td>\n",
       "      <td>...</td>\n",
       "      <td>...</td>\n",
       "      <td>...</td>\n",
       "      <td>...</td>\n",
       "      <td>...</td>\n",
       "      <td>...</td>\n",
       "      <td>...</td>\n",
       "    </tr>\n",
       "    <tr>\n",
       "      <th>150928</th>\n",
       "      <td>150928</td>\n",
       "      <td>France</td>\n",
       "      <td>A perfect salmon shade, with scents of peaches...</td>\n",
       "      <td>Grand Brut Rosé</td>\n",
       "      <td>90</td>\n",
       "      <td>52.0</td>\n",
       "      <td>Champagne</td>\n",
       "      <td>Champagne</td>\n",
       "      <td>NaN</td>\n",
       "      <td>Champagne Blend</td>\n",
       "      <td>Gosset</td>\n",
       "    </tr>\n",
       "    <tr>\n",
       "      <th>150929</th>\n",
       "      <td>150929</td>\n",
       "      <td>Italy</td>\n",
       "      <td>More Pinot Grigios should taste like this. A r...</td>\n",
       "      <td>NaN</td>\n",
       "      <td>90</td>\n",
       "      <td>15.0</td>\n",
       "      <td>Northeastern Italy</td>\n",
       "      <td>Alto Adige</td>\n",
       "      <td>NaN</td>\n",
       "      <td>Pinot Grigio</td>\n",
       "      <td>Alois Lageder</td>\n",
       "    </tr>\n",
       "  </tbody>\n",
       "</table>\n",
       "<p>150930 rows × 11 columns</p>\n",
       "</div>"
      ],
      "text/plain": [
       "        Unnamed: 0 country                                        description  \\\n",
       "0                0      US  This tremendous 100% varietal wine hails from ...   \n",
       "1                1   Spain  Ripe aromas of fig, blackberry and cassis are ...   \n",
       "...            ...     ...                                                ...   \n",
       "150928      150928  France  A perfect salmon shade, with scents of peaches...   \n",
       "150929      150929   Italy  More Pinot Grigios should taste like this. A r...   \n",
       "\n",
       "                                 designation  points  price  \\\n",
       "0                          Martha's Vineyard      96  235.0   \n",
       "1       Carodorum Selección Especial Reserva      96  110.0   \n",
       "...                                      ...     ...    ...   \n",
       "150928                       Grand Brut Rosé      90   52.0   \n",
       "150929                                   NaN      90   15.0   \n",
       "\n",
       "                  province     region_1 region_2             variety  \\\n",
       "0               California  Napa Valley     Napa  Cabernet Sauvignon   \n",
       "1           Northern Spain         Toro      NaN       Tinta de Toro   \n",
       "...                    ...          ...      ...                 ...   \n",
       "150928           Champagne    Champagne      NaN     Champagne Blend   \n",
       "150929  Northeastern Italy   Alto Adige      NaN        Pinot Grigio   \n",
       "\n",
       "                         winery  \n",
       "0                         Heitz  \n",
       "1       Bodega Carmen Rodríguez  \n",
       "...                         ...  \n",
       "150928                   Gosset  \n",
       "150929            Alois Lageder  \n",
       "\n",
       "[150930 rows x 11 columns]"
      ]
     },
     "execution_count": 8,
     "metadata": {},
     "output_type": "execute_result"
    }
   ],
   "source": [
    "reviews = pd.read_csv('../input/wine-reviews/winemag-data_first150k.csv')\n",
    "\n",
    "# Check your answer\n",
    "reviews"
   ]
  },
  {
   "cell_type": "code",
   "execution_count": 9,
   "id": "8e66057b",
   "metadata": {
    "_cell_guid": "fbba1913-bf5d-48ad-972c-12b81ad4dc5f",
    "_uuid": "fefe3964-71e2-4fd0-b0f7-92c932663f30",
    "collapsed": false,
    "execution": {
     "iopub.execute_input": "2025-05-26T07:45:53.642667Z",
     "iopub.status.busy": "2025-05-26T07:45:53.642393Z",
     "iopub.status.idle": "2025-05-26T07:45:53.645709Z",
     "shell.execute_reply": "2025-05-26T07:45:53.645124Z"
    },
    "jupyter": {
     "outputs_hidden": false
    },
    "papermill": {
     "duration": 0.010283,
     "end_time": "2025-05-26T07:45:53.646913",
     "exception": false,
     "start_time": "2025-05-26T07:45:53.636630",
     "status": "completed"
    },
    "tags": []
   },
   "outputs": [],
   "source": [
    "#q4.hint()\n",
    "#q4.solution()"
   ]
  },
  {
   "cell_type": "markdown",
   "id": "591a0c2d",
   "metadata": {
    "_cell_guid": "48164438-0655-4278-b6a6-b2a8bab9c284",
    "_uuid": "b5b184ac-b0d6-4e50-bc01-4a6a4711f546",
    "collapsed": false,
    "jupyter": {
     "outputs_hidden": false
    },
    "papermill": {
     "duration": 0.004536,
     "end_time": "2025-05-26T07:45:53.656335",
     "exception": false,
     "start_time": "2025-05-26T07:45:53.651799",
     "status": "completed"
    },
    "tags": []
   },
   "source": [
    "## 5.\n",
    "\n",
    "Run the cell below to create and display a DataFrame called `animals`:"
   ]
  },
  {
   "cell_type": "code",
   "execution_count": 10,
   "id": "bc6464ca",
   "metadata": {
    "_cell_guid": "d70d1646-afdf-46db-83a5-9c4b10aebb12",
    "_uuid": "5ed4d999-1e8e-4e3d-90b5-10f9e04cefa7",
    "collapsed": false,
    "execution": {
     "iopub.execute_input": "2025-05-26T07:45:53.667142Z",
     "iopub.status.busy": "2025-05-26T07:45:53.666855Z",
     "iopub.status.idle": "2025-05-26T07:45:53.675168Z",
     "shell.execute_reply": "2025-05-26T07:45:53.674408Z"
    },
    "jupyter": {
     "outputs_hidden": false
    },
    "papermill": {
     "duration": 0.015333,
     "end_time": "2025-05-26T07:45:53.676406",
     "exception": false,
     "start_time": "2025-05-26T07:45:53.661073",
     "status": "completed"
    },
    "tags": []
   },
   "outputs": [
    {
     "data": {
      "text/html": [
       "<div>\n",
       "<style scoped>\n",
       "    .dataframe tbody tr th:only-of-type {\n",
       "        vertical-align: middle;\n",
       "    }\n",
       "\n",
       "    .dataframe tbody tr th {\n",
       "        vertical-align: top;\n",
       "    }\n",
       "\n",
       "    .dataframe thead th {\n",
       "        text-align: right;\n",
       "    }\n",
       "</style>\n",
       "<table border=\"1\" class=\"dataframe\">\n",
       "  <thead>\n",
       "    <tr style=\"text-align: right;\">\n",
       "      <th></th>\n",
       "      <th>Cows</th>\n",
       "      <th>Goats</th>\n",
       "    </tr>\n",
       "  </thead>\n",
       "  <tbody>\n",
       "    <tr>\n",
       "      <th>Year 1</th>\n",
       "      <td>12</td>\n",
       "      <td>22</td>\n",
       "    </tr>\n",
       "    <tr>\n",
       "      <th>Year 2</th>\n",
       "      <td>20</td>\n",
       "      <td>19</td>\n",
       "    </tr>\n",
       "  </tbody>\n",
       "</table>\n",
       "</div>"
      ],
      "text/plain": [
       "        Cows  Goats\n",
       "Year 1    12     22\n",
       "Year 2    20     19"
      ]
     },
     "execution_count": 10,
     "metadata": {},
     "output_type": "execute_result"
    }
   ],
   "source": [
    "animals = pd.DataFrame({'Cows': [12, 20], 'Goats': [22, 19]}, index=['Year 1', 'Year 2'])\n",
    "animals"
   ]
  },
  {
   "cell_type": "markdown",
   "id": "7533470e",
   "metadata": {
    "_cell_guid": "41cab491-3439-4f19-9445-da22321ea76e",
    "_uuid": "5131ee0d-b5bc-4750-916f-b566db90a634",
    "collapsed": false,
    "jupyter": {
     "outputs_hidden": false
    },
    "papermill": {
     "duration": 0.004611,
     "end_time": "2025-05-26T07:45:53.686089",
     "exception": false,
     "start_time": "2025-05-26T07:45:53.681478",
     "status": "completed"
    },
    "tags": []
   },
   "source": [
    "In the cell below, write code to save this DataFrame to disk as a csv file with the name `cows_and_goats.csv`."
   ]
  },
  {
   "cell_type": "code",
   "execution_count": 11,
   "id": "c265736c",
   "metadata": {
    "_cell_guid": "08aeedee-5926-43c6-99bd-d0c1bccc5f3f",
    "_uuid": "c765740a-a1af-46cb-801a-334fcdbe9330",
    "collapsed": false,
    "execution": {
     "iopub.execute_input": "2025-05-26T07:45:53.696904Z",
     "iopub.status.busy": "2025-05-26T07:45:53.696601Z",
     "iopub.status.idle": "2025-05-26T07:45:53.703040Z",
     "shell.execute_reply": "2025-05-26T07:45:53.702337Z"
    },
    "jupyter": {
     "outputs_hidden": false
    },
    "papermill": {
     "duration": 0.01329,
     "end_time": "2025-05-26T07:45:53.704203",
     "exception": false,
     "start_time": "2025-05-26T07:45:53.690913",
     "status": "completed"
    },
    "tags": []
   },
   "outputs": [
    {
     "data": {
      "application/javascript": [
       "parent.postMessage({\"jupyterEvent\": \"custom.exercise_interaction\", \"data\": {\"outcomeType\": 2, \"failureMessage\": \"Expected file to exist with name `cows_and_goats.csv`\", \"interactionType\": 1, \"questionType\": 2, \"questionId\": \"5_SaveAnimalsCsv\", \"learnToolsVersion\": \"0.3.5\", \"valueTowardsCompletion\": 0.0, \"exceptionClass\": \"\", \"trace\": \"\"}}, \"*\")"
      ],
      "text/plain": [
       "<IPython.core.display.Javascript object>"
      ]
     },
     "metadata": {},
     "output_type": "display_data"
    },
    {
     "data": {
      "text/markdown": [
       "<span style=\"color:#cc3333\">Incorrect:</span> Expected file to exist with name `cows_and_goats.csv`"
      ],
      "text/plain": [
       "Incorrect: Expected file to exist with name `cows_and_goats.csv`"
      ]
     },
     "metadata": {},
     "output_type": "display_data"
    }
   ],
   "source": [
    "# Your code goes here\n",
    "\n",
    "# Check your answer\n",
    "q5.check()"
   ]
  },
  {
   "cell_type": "code",
   "execution_count": 12,
   "id": "d7c307f3",
   "metadata": {
    "_cell_guid": "b18487e5-f593-4d8d-b088-edc337a91b77",
    "_uuid": "c6522ccd-e1c9-433e-a700-1453371234cf",
    "collapsed": false,
    "execution": {
     "iopub.execute_input": "2025-05-26T07:45:53.715193Z",
     "iopub.status.busy": "2025-05-26T07:45:53.714943Z",
     "iopub.status.idle": "2025-05-26T07:45:53.718480Z",
     "shell.execute_reply": "2025-05-26T07:45:53.717652Z"
    },
    "jupyter": {
     "outputs_hidden": false
    },
    "papermill": {
     "duration": 0.010752,
     "end_time": "2025-05-26T07:45:53.719879",
     "exception": false,
     "start_time": "2025-05-26T07:45:53.709127",
     "status": "completed"
    },
    "tags": []
   },
   "outputs": [],
   "source": [
    "#q5.hint()\n",
    "#q5.solution()"
   ]
  },
  {
   "cell_type": "markdown",
   "id": "5e6dfb31",
   "metadata": {
    "_cell_guid": "e8aa3cf8-fec4-4821-a5b8-a62ba15c4561",
    "_uuid": "85c3c0b6-d163-4dbe-bcf1-540ccd34ee16",
    "collapsed": false,
    "jupyter": {
     "outputs_hidden": false
    },
    "papermill": {
     "duration": 0.005023,
     "end_time": "2025-05-26T07:45:53.730035",
     "exception": false,
     "start_time": "2025-05-26T07:45:53.725012",
     "status": "completed"
    },
    "tags": []
   },
   "source": [
    "# Keep going\n",
    "\n",
    "Move on to learn about **[indexing, selecting and assigning](https://www.kaggle.com/residentmario/indexing-selecting-assigning)**."
   ]
  },
  {
   "cell_type": "markdown",
   "id": "6509eec9",
   "metadata": {
    "_cell_guid": "44a4d419-eff2-4b8e-9a68-bb953dafe32b",
    "_uuid": "6127fc9a-d219-4a4d-a424-1658100caa8b",
    "collapsed": false,
    "jupyter": {
     "outputs_hidden": false
    },
    "papermill": {
     "duration": 0.004838,
     "end_time": "2025-05-26T07:45:53.739826",
     "exception": false,
     "start_time": "2025-05-26T07:45:53.734988",
     "status": "completed"
    },
    "tags": []
   },
   "source": [
    "---\n",
    "\n",
    "\n",
    "\n",
    "\n",
    "*Have questions or comments? Visit the [course discussion forum](https://www.kaggle.com/learn/pandas/discussion) to chat with other learners.*"
   ]
  }
 ],
 "metadata": {
  "kaggle": {
   "accelerator": "none",
   "dataSources": [
    {
     "datasetId": 655,
     "sourceId": 1252,
     "sourceType": "datasetVersion"
    },
    {
     "datasetId": 2321,
     "sourceId": 3919,
     "sourceType": "datasetVersion"
    },
    {
     "datasetId": 2894,
     "sourceId": 4877,
     "sourceType": "datasetVersion"
    },
    {
     "datasetId": 3491,
     "sourceId": 5624,
     "sourceType": "datasetVersion"
    },
    {
     "datasetId": 1442,
     "sourceId": 8172,
     "sourceType": "datasetVersion"
    },
    {
     "datasetId": 9366,
     "sourceId": 13206,
     "sourceType": "datasetVersion"
    },
    {
     "datasetId": 179555,
     "sourceId": 403916,
     "sourceType": "datasetVersion"
    },
    {
     "datasetId": 4549,
     "sourceId": 466349,
     "sourceType": "datasetVersion"
    },
    {
     "datasetId": 2478,
     "sourceId": 1151655,
     "sourceType": "datasetVersion"
    },
    {
     "datasetId": 10128,
     "sourceId": 5438389,
     "sourceType": "datasetVersion"
    }
   ],
   "isGpuEnabled": false,
   "isInternetEnabled": false,
   "language": "python",
   "sourceType": "notebook"
  },
  "kernelspec": {
   "display_name": "Python 3",
   "language": "python",
   "name": "python3"
  },
  "language_info": {
   "codemirror_mode": {
    "name": "ipython",
    "version": 3
   },
   "file_extension": ".py",
   "mimetype": "text/x-python",
   "name": "python",
   "nbconvert_exporter": "python",
   "pygments_lexer": "ipython3",
   "version": "3.11.11"
  },
  "papermill": {
   "default_parameters": {},
   "duration": 10.266693,
   "end_time": "2025-05-26T07:45:54.263158",
   "environment_variables": {},
   "exception": null,
   "input_path": "__notebook__.ipynb",
   "output_path": "__notebook__.ipynb",
   "parameters": {},
   "start_time": "2025-05-26T07:45:43.996465",
   "version": "2.6.0"
  }
 },
 "nbformat": 4,
 "nbformat_minor": 5
}
