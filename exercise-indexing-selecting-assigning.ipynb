{
 "cells": [
  {
   "cell_type": "markdown",
   "id": "9e56b21b",
   "metadata": {
    "papermill": {
     "duration": 0.005698,
     "end_time": "2025-05-26T08:33:34.062893",
     "exception": false,
     "start_time": "2025-05-26T08:33:34.057195",
     "status": "completed"
    },
    "tags": []
   },
   "source": [
    "**This notebook is an exercise in the [Pandas](https://www.kaggle.com/learn/pandas) course.  You can reference the tutorial at [this link](https://www.kaggle.com/residentmario/indexing-selecting-assigning).**\n",
    "\n",
    "---\n"
   ]
  },
  {
   "cell_type": "markdown",
   "id": "55fc6ead",
   "metadata": {
    "papermill": {
     "duration": 0.004636,
     "end_time": "2025-05-26T08:33:34.072639",
     "exception": false,
     "start_time": "2025-05-26T08:33:34.068003",
     "status": "completed"
    },
    "tags": []
   },
   "source": [
    "# Introduction\n",
    "\n",
    "In this set of exercises we will work with the [Wine Reviews dataset](https://www.kaggle.com/zynicide/wine-reviews). "
   ]
  },
  {
   "cell_type": "markdown",
   "id": "6a5de6c2",
   "metadata": {
    "papermill": {
     "duration": 0.004555,
     "end_time": "2025-05-26T08:33:34.081891",
     "exception": false,
     "start_time": "2025-05-26T08:33:34.077336",
     "status": "completed"
    },
    "tags": []
   },
   "source": [
    "Run the following cell to load your data and some utility functions (including code to check your answers)."
   ]
  },
  {
   "cell_type": "code",
   "execution_count": 1,
   "id": "0a39e89a",
   "metadata": {
    "execution": {
     "iopub.execute_input": "2025-05-26T08:33:34.093383Z",
     "iopub.status.busy": "2025-05-26T08:33:34.092481Z",
     "iopub.status.idle": "2025-05-26T08:33:38.871168Z",
     "shell.execute_reply": "2025-05-26T08:33:38.869962Z"
    },
    "papermill": {
     "duration": 4.786167,
     "end_time": "2025-05-26T08:33:38.872695",
     "exception": false,
     "start_time": "2025-05-26T08:33:34.086528",
     "status": "completed"
    },
    "tags": []
   },
   "outputs": [
    {
     "name": "stdout",
     "output_type": "stream",
     "text": [
      "Setup complete.\n"
     ]
    }
   ],
   "source": [
    "import pandas as pd\n",
    "\n",
    "reviews = pd.read_csv(\"../input/wine-reviews/winemag-data-130k-v2.csv\", index_col=0)\n",
    "pd.set_option(\"display.max_rows\", 5)\n",
    "\n",
    "from learntools.core import binder; binder.bind(globals())\n",
    "from learntools.pandas.indexing_selecting_and_assigning import *\n",
    "print(\"Setup complete.\")"
   ]
  },
  {
   "cell_type": "markdown",
   "id": "8662bb0a",
   "metadata": {
    "papermill": {
     "duration": 0.004936,
     "end_time": "2025-05-26T08:33:38.882705",
     "exception": false,
     "start_time": "2025-05-26T08:33:38.877769",
     "status": "completed"
    },
    "tags": []
   },
   "source": [
    "Look at an overview of your data by running the following line."
   ]
  },
  {
   "cell_type": "code",
   "execution_count": 2,
   "id": "c6185c5c",
   "metadata": {
    "execution": {
     "iopub.execute_input": "2025-05-26T08:33:38.894011Z",
     "iopub.status.busy": "2025-05-26T08:33:38.893339Z",
     "iopub.status.idle": "2025-05-26T08:33:38.918615Z",
     "shell.execute_reply": "2025-05-26T08:33:38.917766Z"
    },
    "papermill": {
     "duration": 0.032511,
     "end_time": "2025-05-26T08:33:38.920070",
     "exception": false,
     "start_time": "2025-05-26T08:33:38.887559",
     "status": "completed"
    },
    "tags": []
   },
   "outputs": [
    {
     "name": "stderr",
     "output_type": "stream",
     "text": [
      "/usr/local/lib/python3.11/dist-packages/pandas/io/formats/format.py:1458: RuntimeWarning: invalid value encountered in greater\n",
      "  has_large_values = (abs_vals > 1e6).any()\n",
      "/usr/local/lib/python3.11/dist-packages/pandas/io/formats/format.py:1459: RuntimeWarning: invalid value encountered in less\n",
      "  has_small_values = ((abs_vals < 10 ** (-self.digits)) & (abs_vals > 0)).any()\n",
      "/usr/local/lib/python3.11/dist-packages/pandas/io/formats/format.py:1459: RuntimeWarning: invalid value encountered in greater\n",
      "  has_small_values = ((abs_vals < 10 ** (-self.digits)) & (abs_vals > 0)).any()\n"
     ]
    },
    {
     "data": {
      "text/html": [
       "<div>\n",
       "<style scoped>\n",
       "    .dataframe tbody tr th:only-of-type {\n",
       "        vertical-align: middle;\n",
       "    }\n",
       "\n",
       "    .dataframe tbody tr th {\n",
       "        vertical-align: top;\n",
       "    }\n",
       "\n",
       "    .dataframe thead th {\n",
       "        text-align: right;\n",
       "    }\n",
       "</style>\n",
       "<table border=\"1\" class=\"dataframe\">\n",
       "  <thead>\n",
       "    <tr style=\"text-align: right;\">\n",
       "      <th></th>\n",
       "      <th>country</th>\n",
       "      <th>description</th>\n",
       "      <th>designation</th>\n",
       "      <th>points</th>\n",
       "      <th>price</th>\n",
       "      <th>province</th>\n",
       "      <th>region_1</th>\n",
       "      <th>region_2</th>\n",
       "      <th>taster_name</th>\n",
       "      <th>taster_twitter_handle</th>\n",
       "      <th>title</th>\n",
       "      <th>variety</th>\n",
       "      <th>winery</th>\n",
       "    </tr>\n",
       "  </thead>\n",
       "  <tbody>\n",
       "    <tr>\n",
       "      <th>0</th>\n",
       "      <td>Italy</td>\n",
       "      <td>Aromas include tropical fruit, broom, brimston...</td>\n",
       "      <td>Vulkà Bianco</td>\n",
       "      <td>87</td>\n",
       "      <td>NaN</td>\n",
       "      <td>Sicily &amp; Sardinia</td>\n",
       "      <td>Etna</td>\n",
       "      <td>NaN</td>\n",
       "      <td>Kerin O’Keefe</td>\n",
       "      <td>@kerinokeefe</td>\n",
       "      <td>Nicosia 2013 Vulkà Bianco  (Etna)</td>\n",
       "      <td>White Blend</td>\n",
       "      <td>Nicosia</td>\n",
       "    </tr>\n",
       "    <tr>\n",
       "      <th>1</th>\n",
       "      <td>Portugal</td>\n",
       "      <td>This is ripe and fruity, a wine that is smooth...</td>\n",
       "      <td>Avidagos</td>\n",
       "      <td>87</td>\n",
       "      <td>15.0</td>\n",
       "      <td>Douro</td>\n",
       "      <td>NaN</td>\n",
       "      <td>NaN</td>\n",
       "      <td>Roger Voss</td>\n",
       "      <td>@vossroger</td>\n",
       "      <td>Quinta dos Avidagos 2011 Avidagos Red (Douro)</td>\n",
       "      <td>Portuguese Red</td>\n",
       "      <td>Quinta dos Avidagos</td>\n",
       "    </tr>\n",
       "    <tr>\n",
       "      <th>2</th>\n",
       "      <td>US</td>\n",
       "      <td>Tart and snappy, the flavors of lime flesh and...</td>\n",
       "      <td>NaN</td>\n",
       "      <td>87</td>\n",
       "      <td>14.0</td>\n",
       "      <td>Oregon</td>\n",
       "      <td>Willamette Valley</td>\n",
       "      <td>Willamette Valley</td>\n",
       "      <td>Paul Gregutt</td>\n",
       "      <td>@paulgwine</td>\n",
       "      <td>Rainstorm 2013 Pinot Gris (Willamette Valley)</td>\n",
       "      <td>Pinot Gris</td>\n",
       "      <td>Rainstorm</td>\n",
       "    </tr>\n",
       "    <tr>\n",
       "      <th>3</th>\n",
       "      <td>US</td>\n",
       "      <td>Pineapple rind, lemon pith and orange blossom ...</td>\n",
       "      <td>Reserve Late Harvest</td>\n",
       "      <td>87</td>\n",
       "      <td>13.0</td>\n",
       "      <td>Michigan</td>\n",
       "      <td>Lake Michigan Shore</td>\n",
       "      <td>NaN</td>\n",
       "      <td>Alexander Peartree</td>\n",
       "      <td>NaN</td>\n",
       "      <td>St. Julian 2013 Reserve Late Harvest Riesling ...</td>\n",
       "      <td>Riesling</td>\n",
       "      <td>St. Julian</td>\n",
       "    </tr>\n",
       "    <tr>\n",
       "      <th>4</th>\n",
       "      <td>US</td>\n",
       "      <td>Much like the regular bottling from 2012, this...</td>\n",
       "      <td>Vintner's Reserve Wild Child Block</td>\n",
       "      <td>87</td>\n",
       "      <td>65.0</td>\n",
       "      <td>Oregon</td>\n",
       "      <td>Willamette Valley</td>\n",
       "      <td>Willamette Valley</td>\n",
       "      <td>Paul Gregutt</td>\n",
       "      <td>@paulgwine</td>\n",
       "      <td>Sweet Cheeks 2012 Vintner's Reserve Wild Child...</td>\n",
       "      <td>Pinot Noir</td>\n",
       "      <td>Sweet Cheeks</td>\n",
       "    </tr>\n",
       "  </tbody>\n",
       "</table>\n",
       "</div>"
      ],
      "text/plain": [
       "    country                                        description  \\\n",
       "0     Italy  Aromas include tropical fruit, broom, brimston...   \n",
       "1  Portugal  This is ripe and fruity, a wine that is smooth...   \n",
       "2        US  Tart and snappy, the flavors of lime flesh and...   \n",
       "3        US  Pineapple rind, lemon pith and orange blossom ...   \n",
       "4        US  Much like the regular bottling from 2012, this...   \n",
       "\n",
       "                          designation  points  price           province  \\\n",
       "0                        Vulkà Bianco      87    NaN  Sicily & Sardinia   \n",
       "1                            Avidagos      87   15.0              Douro   \n",
       "2                                 NaN      87   14.0             Oregon   \n",
       "3                Reserve Late Harvest      87   13.0           Michigan   \n",
       "4  Vintner's Reserve Wild Child Block      87   65.0             Oregon   \n",
       "\n",
       "              region_1           region_2         taster_name  \\\n",
       "0                 Etna                NaN       Kerin O’Keefe   \n",
       "1                  NaN                NaN          Roger Voss   \n",
       "2    Willamette Valley  Willamette Valley        Paul Gregutt   \n",
       "3  Lake Michigan Shore                NaN  Alexander Peartree   \n",
       "4    Willamette Valley  Willamette Valley        Paul Gregutt   \n",
       "\n",
       "  taster_twitter_handle                                              title  \\\n",
       "0          @kerinokeefe                  Nicosia 2013 Vulkà Bianco  (Etna)   \n",
       "1            @vossroger      Quinta dos Avidagos 2011 Avidagos Red (Douro)   \n",
       "2           @paulgwine       Rainstorm 2013 Pinot Gris (Willamette Valley)   \n",
       "3                   NaN  St. Julian 2013 Reserve Late Harvest Riesling ...   \n",
       "4           @paulgwine   Sweet Cheeks 2012 Vintner's Reserve Wild Child...   \n",
       "\n",
       "          variety               winery  \n",
       "0     White Blend              Nicosia  \n",
       "1  Portuguese Red  Quinta dos Avidagos  \n",
       "2      Pinot Gris            Rainstorm  \n",
       "3        Riesling           St. Julian  \n",
       "4      Pinot Noir         Sweet Cheeks  "
      ]
     },
     "execution_count": 2,
     "metadata": {},
     "output_type": "execute_result"
    }
   ],
   "source": [
    "reviews.head()"
   ]
  },
  {
   "cell_type": "markdown",
   "id": "378db12f",
   "metadata": {
    "papermill": {
     "duration": 0.005322,
     "end_time": "2025-05-26T08:33:38.930918",
     "exception": false,
     "start_time": "2025-05-26T08:33:38.925596",
     "status": "completed"
    },
    "tags": []
   },
   "source": [
    "# Exercises"
   ]
  },
  {
   "cell_type": "markdown",
   "id": "7a6ae424",
   "metadata": {
    "papermill": {
     "duration": 0.00506,
     "end_time": "2025-05-26T08:33:38.941941",
     "exception": false,
     "start_time": "2025-05-26T08:33:38.936881",
     "status": "completed"
    },
    "tags": []
   },
   "source": [
    "## 1.\n",
    "\n",
    "Select the `description` column from `reviews` and assign the result to the variable `desc`."
   ]
  },
  {
   "cell_type": "code",
   "execution_count": 3,
   "id": "d3daad59",
   "metadata": {
    "execution": {
     "iopub.execute_input": "2025-05-26T08:33:38.954077Z",
     "iopub.status.busy": "2025-05-26T08:33:38.953770Z",
     "iopub.status.idle": "2025-05-26T08:33:38.961392Z",
     "shell.execute_reply": "2025-05-26T08:33:38.960591Z"
    },
    "papermill": {
     "duration": 0.015413,
     "end_time": "2025-05-26T08:33:38.962869",
     "exception": false,
     "start_time": "2025-05-26T08:33:38.947456",
     "status": "completed"
    },
    "tags": []
   },
   "outputs": [
    {
     "data": {
      "text/plain": [
       "\"Aromas include tropical fruit, broom, brimstone and dried herb. The palate isn't overly expressive, offering unripened apple, citrus and dried sage alongside brisk acidity.\""
      ]
     },
     "execution_count": 3,
     "metadata": {},
     "output_type": "execute_result"
    }
   ],
   "source": [
    "# Your code here\n",
    "desc = reviews['description'][0]\n",
    "\n",
    "# Check your answer\n",
    "type(desc)\n",
    "desc\n"
   ]
  },
  {
   "cell_type": "markdown",
   "id": "b1d43b19",
   "metadata": {
    "papermill": {
     "duration": 0.005153,
     "end_time": "2025-05-26T08:33:38.973498",
     "exception": false,
     "start_time": "2025-05-26T08:33:38.968345",
     "status": "completed"
    },
    "tags": []
   },
   "source": [
    "Follow-up question: what type of object is `desc`? If you're not sure, you can check by calling Python's `type` function: `type(desc)`."
   ]
  },
  {
   "cell_type": "code",
   "execution_count": 4,
   "id": "c7339e8f",
   "metadata": {
    "execution": {
     "iopub.execute_input": "2025-05-26T08:33:38.985768Z",
     "iopub.status.busy": "2025-05-26T08:33:38.985224Z",
     "iopub.status.idle": "2025-05-26T08:33:38.989224Z",
     "shell.execute_reply": "2025-05-26T08:33:38.988378Z"
    },
    "papermill": {
     "duration": 0.011863,
     "end_time": "2025-05-26T08:33:38.990614",
     "exception": false,
     "start_time": "2025-05-26T08:33:38.978751",
     "status": "completed"
    },
    "tags": []
   },
   "outputs": [],
   "source": [
    "#q1.hint()\n",
    "#q1.solution()"
   ]
  },
  {
   "cell_type": "markdown",
   "id": "3286dfaf",
   "metadata": {
    "papermill": {
     "duration": 0.005032,
     "end_time": "2025-05-26T08:33:39.000976",
     "exception": false,
     "start_time": "2025-05-26T08:33:38.995944",
     "status": "completed"
    },
    "tags": []
   },
   "source": [
    "## 2.\n",
    "\n",
    "Select the first value from the description column of `reviews`, assigning it to variable `first_description`."
   ]
  },
  {
   "cell_type": "code",
   "execution_count": 5,
   "id": "f63abc45",
   "metadata": {
    "execution": {
     "iopub.execute_input": "2025-05-26T08:33:39.012752Z",
     "iopub.status.busy": "2025-05-26T08:33:39.012233Z",
     "iopub.status.idle": "2025-05-26T08:33:39.017887Z",
     "shell.execute_reply": "2025-05-26T08:33:39.017188Z"
    },
    "papermill": {
     "duration": 0.01297,
     "end_time": "2025-05-26T08:33:39.019172",
     "exception": false,
     "start_time": "2025-05-26T08:33:39.006202",
     "status": "completed"
    },
    "tags": []
   },
   "outputs": [
    {
     "data": {
      "text/plain": [
       "\"Aromas include tropical fruit, broom, brimstone and dried herb. The palate isn't overly expressive, offering unripened apple, citrus and dried sage alongside brisk acidity.\""
      ]
     },
     "execution_count": 5,
     "metadata": {},
     "output_type": "execute_result"
    }
   ],
   "source": [
    "first_description = reviews.description.iloc[0]\n",
    "\n",
    "# Check your answer\n",
    "first_description"
   ]
  },
  {
   "cell_type": "code",
   "execution_count": 6,
   "id": "669c42ec",
   "metadata": {
    "execution": {
     "iopub.execute_input": "2025-05-26T08:33:39.031135Z",
     "iopub.status.busy": "2025-05-26T08:33:39.030862Z",
     "iopub.status.idle": "2025-05-26T08:33:39.034565Z",
     "shell.execute_reply": "2025-05-26T08:33:39.033876Z"
    },
    "papermill": {
     "duration": 0.011276,
     "end_time": "2025-05-26T08:33:39.035945",
     "exception": false,
     "start_time": "2025-05-26T08:33:39.024669",
     "status": "completed"
    },
    "tags": []
   },
   "outputs": [],
   "source": [
    "#q2.hint()\n",
    "#q2.solution()"
   ]
  },
  {
   "cell_type": "markdown",
   "id": "1503815a",
   "metadata": {
    "papermill": {
     "duration": 0.005156,
     "end_time": "2025-05-26T08:33:39.046721",
     "exception": false,
     "start_time": "2025-05-26T08:33:39.041565",
     "status": "completed"
    },
    "tags": []
   },
   "source": [
    "## 3. \n",
    "\n",
    "Select the first row of data (the first record) from `reviews`, assigning it to the variable `first_row`."
   ]
  },
  {
   "cell_type": "code",
   "execution_count": 7,
   "id": "f3eb80ea",
   "metadata": {
    "execution": {
     "iopub.execute_input": "2025-05-26T08:33:39.058969Z",
     "iopub.status.busy": "2025-05-26T08:33:39.058411Z",
     "iopub.status.idle": "2025-05-26T08:33:39.065299Z",
     "shell.execute_reply": "2025-05-26T08:33:39.064657Z"
    },
    "papermill": {
     "duration": 0.014512,
     "end_time": "2025-05-26T08:33:39.066687",
     "exception": false,
     "start_time": "2025-05-26T08:33:39.052175",
     "status": "completed"
    },
    "tags": []
   },
   "outputs": [
    {
     "data": {
      "text/plain": [
       "country                                                    Italy\n",
       "description    Aromas include tropical fruit, broom, brimston...\n",
       "                                     ...                        \n",
       "variety                                              White Blend\n",
       "winery                                                   Nicosia\n",
       "Name: 0, Length: 13, dtype: object"
      ]
     },
     "execution_count": 7,
     "metadata": {},
     "output_type": "execute_result"
    }
   ],
   "source": [
    "first_row = reviews.iloc[0]\n",
    "\n",
    "# Check your answer\n",
    "first_row"
   ]
  },
  {
   "cell_type": "code",
   "execution_count": 8,
   "id": "da02cd21",
   "metadata": {
    "execution": {
     "iopub.execute_input": "2025-05-26T08:33:39.080321Z",
     "iopub.status.busy": "2025-05-26T08:33:39.079450Z",
     "iopub.status.idle": "2025-05-26T08:33:39.083710Z",
     "shell.execute_reply": "2025-05-26T08:33:39.082858Z"
    },
    "papermill": {
     "duration": 0.012828,
     "end_time": "2025-05-26T08:33:39.085129",
     "exception": false,
     "start_time": "2025-05-26T08:33:39.072301",
     "status": "completed"
    },
    "tags": []
   },
   "outputs": [],
   "source": [
    "#q3.hint()\n",
    "#q3.solution()"
   ]
  },
  {
   "cell_type": "markdown",
   "id": "43c19aa9",
   "metadata": {
    "papermill": {
     "duration": 0.005304,
     "end_time": "2025-05-26T08:33:39.096081",
     "exception": false,
     "start_time": "2025-05-26T08:33:39.090777",
     "status": "completed"
    },
    "tags": []
   },
   "source": [
    "## 4.\n",
    "\n",
    "Select the first 10 values from the `description` column in `reviews`, assigning the result to variable `first_descriptions`.\n",
    "\n",
    "Hint: format your output as a pandas Series."
   ]
  },
  {
   "cell_type": "code",
   "execution_count": 9,
   "id": "794b88f5",
   "metadata": {
    "execution": {
     "iopub.execute_input": "2025-05-26T08:33:39.108900Z",
     "iopub.status.busy": "2025-05-26T08:33:39.108071Z",
     "iopub.status.idle": "2025-05-26T08:33:39.113639Z",
     "shell.execute_reply": "2025-05-26T08:33:39.112902Z"
    },
    "papermill": {
     "duration": 0.013291,
     "end_time": "2025-05-26T08:33:39.114915",
     "exception": false,
     "start_time": "2025-05-26T08:33:39.101624",
     "status": "completed"
    },
    "tags": []
   },
   "outputs": [
    {
     "data": {
      "text/plain": [
       "'Soft, supple plum envelopes an oaky structure in this Cabernet, supported by 15% Merlot. Coffee and chocolate complete the picture, finishing strong at the end, resulting in a value-priced wine of attractive flavor and immediate accessibility.'"
      ]
     },
     "execution_count": 9,
     "metadata": {},
     "output_type": "execute_result"
    }
   ],
   "source": [
    "first_descriptions = reviews.description.iloc[10]\n",
    "\n",
    "# Check your answer\n",
    "first_descriptions"
   ]
  },
  {
   "cell_type": "code",
   "execution_count": 10,
   "id": "23acce85",
   "metadata": {
    "execution": {
     "iopub.execute_input": "2025-05-26T08:33:39.127377Z",
     "iopub.status.busy": "2025-05-26T08:33:39.127123Z",
     "iopub.status.idle": "2025-05-26T08:33:39.130736Z",
     "shell.execute_reply": "2025-05-26T08:33:39.130031Z"
    },
    "papermill": {
     "duration": 0.011517,
     "end_time": "2025-05-26T08:33:39.132118",
     "exception": false,
     "start_time": "2025-05-26T08:33:39.120601",
     "status": "completed"
    },
    "tags": []
   },
   "outputs": [],
   "source": [
    "#q4.hint()\n",
    "#q4.solution()"
   ]
  },
  {
   "cell_type": "markdown",
   "id": "399ff6a7",
   "metadata": {
    "papermill": {
     "duration": 0.005598,
     "end_time": "2025-05-26T08:33:39.143406",
     "exception": false,
     "start_time": "2025-05-26T08:33:39.137808",
     "status": "completed"
    },
    "tags": []
   },
   "source": [
    "## 5.\n",
    "\n",
    "Select the records with index labels `1`, `2`, `3`, `5`, and `8`, assigning the result to the variable `sample_reviews`.\n",
    "\n",
    "In other words, generate the following DataFrame:\n",
    "\n",
    "![](https://storage.googleapis.com/kaggle-media/learn/images/sHZvI1O.png)"
   ]
  },
  {
   "cell_type": "code",
   "execution_count": 11,
   "id": "c65cb14f",
   "metadata": {
    "execution": {
     "iopub.execute_input": "2025-05-26T08:33:39.156290Z",
     "iopub.status.busy": "2025-05-26T08:33:39.155522Z",
     "iopub.status.idle": "2025-05-26T08:33:39.163693Z",
     "shell.execute_reply": "2025-05-26T08:33:39.162858Z"
    },
    "papermill": {
     "duration": 0.015974,
     "end_time": "2025-05-26T08:33:39.164985",
     "exception": false,
     "start_time": "2025-05-26T08:33:39.149011",
     "status": "completed"
    },
    "tags": []
   },
   "outputs": [
    {
     "data": {
      "application/javascript": [
       "parent.postMessage({\"jupyterEvent\": \"custom.exercise_interaction\", \"data\": {\"outcomeType\": 4, \"interactionType\": 1, \"questionType\": 1, \"questionId\": \"5_SampleReviews\", \"learnToolsVersion\": \"0.3.5\", \"valueTowardsCompletion\": 0.0, \"failureMessage\": \"\", \"exceptionClass\": \"\", \"trace\": \"\"}}, \"*\")"
      ],
      "text/plain": [
       "<IPython.core.display.Javascript object>"
      ]
     },
     "metadata": {},
     "output_type": "display_data"
    },
    {
     "data": {
      "text/markdown": [
       "<span style=\"color:#ccaa33\">Check:</span> When you've updated the starter code, `check()` will tell you whether your code is correct. You need to update the code that creates variable `sample_reviews`"
      ],
      "text/plain": [
       "Check: When you've updated the starter code, `check()` will tell you whether your code is correct. You need to update the code that creates variable `sample_reviews`"
      ]
     },
     "metadata": {},
     "output_type": "display_data"
    },
    {
     "data": {
      "text/markdown": [],
      "text/plain": [
       "<learntools.core.constants.PlaceholderValue at 0x7a7e0b601ad0>"
      ]
     },
     "execution_count": 11,
     "metadata": {},
     "output_type": "execute_result"
    }
   ],
   "source": [
    "sample_reviews = ____\n",
    "\n",
    "# Check your answer\n",
    "q5.check()\n",
    "sample_reviews"
   ]
  },
  {
   "cell_type": "code",
   "execution_count": 12,
   "id": "036a8ac1",
   "metadata": {
    "execution": {
     "iopub.execute_input": "2025-05-26T08:33:39.178080Z",
     "iopub.status.busy": "2025-05-26T08:33:39.177783Z",
     "iopub.status.idle": "2025-05-26T08:33:39.181636Z",
     "shell.execute_reply": "2025-05-26T08:33:39.180793Z"
    },
    "papermill": {
     "duration": 0.012044,
     "end_time": "2025-05-26T08:33:39.183138",
     "exception": false,
     "start_time": "2025-05-26T08:33:39.171094",
     "status": "completed"
    },
    "tags": []
   },
   "outputs": [],
   "source": [
    "#q5.hint()\n",
    "#q5.solution()"
   ]
  },
  {
   "cell_type": "markdown",
   "id": "0a88c86b",
   "metadata": {
    "papermill": {
     "duration": 0.005719,
     "end_time": "2025-05-26T08:33:39.194970",
     "exception": false,
     "start_time": "2025-05-26T08:33:39.189251",
     "status": "completed"
    },
    "tags": []
   },
   "source": [
    "## 6.\n",
    "\n",
    "Create a variable `df` containing the `country`, `province`, `region_1`, and `region_2` columns of the records with the index labels `0`, `1`, `10`, and `100`. In other words, generate the following DataFrame:\n",
    "\n",
    "![](https://storage.googleapis.com/kaggle-media/learn/images/FUCGiKP.png)"
   ]
  },
  {
   "cell_type": "code",
   "execution_count": 13,
   "id": "32c13820",
   "metadata": {
    "execution": {
     "iopub.execute_input": "2025-05-26T08:33:39.208172Z",
     "iopub.status.busy": "2025-05-26T08:33:39.207865Z",
     "iopub.status.idle": "2025-05-26T08:33:39.216481Z",
     "shell.execute_reply": "2025-05-26T08:33:39.215634Z"
    },
    "papermill": {
     "duration": 0.017148,
     "end_time": "2025-05-26T08:33:39.218097",
     "exception": false,
     "start_time": "2025-05-26T08:33:39.200949",
     "status": "completed"
    },
    "tags": []
   },
   "outputs": [
    {
     "data": {
      "application/javascript": [
       "parent.postMessage({\"jupyterEvent\": \"custom.exercise_interaction\", \"data\": {\"outcomeType\": 4, \"interactionType\": 1, \"questionType\": 1, \"questionId\": \"6_RowColSelect\", \"learnToolsVersion\": \"0.3.5\", \"valueTowardsCompletion\": 0.0, \"failureMessage\": \"\", \"exceptionClass\": \"\", \"trace\": \"\"}}, \"*\")"
      ],
      "text/plain": [
       "<IPython.core.display.Javascript object>"
      ]
     },
     "metadata": {},
     "output_type": "display_data"
    },
    {
     "data": {
      "text/markdown": [
       "<span style=\"color:#ccaa33\">Check:</span> When you've updated the starter code, `check()` will tell you whether your code is correct. You need to update the code that creates variable `df`"
      ],
      "text/plain": [
       "Check: When you've updated the starter code, `check()` will tell you whether your code is correct. You need to update the code that creates variable `df`"
      ]
     },
     "metadata": {},
     "output_type": "display_data"
    },
    {
     "data": {
      "text/markdown": [],
      "text/plain": [
       "<learntools.core.constants.PlaceholderValue at 0x7a7e0b601ad0>"
      ]
     },
     "execution_count": 13,
     "metadata": {},
     "output_type": "execute_result"
    }
   ],
   "source": [
    "df = ____\n",
    "\n",
    "# Check your answer\n",
    "q6.check()\n",
    "df"
   ]
  },
  {
   "cell_type": "code",
   "execution_count": 14,
   "id": "3bc20bc0",
   "metadata": {
    "execution": {
     "iopub.execute_input": "2025-05-26T08:33:39.232798Z",
     "iopub.status.busy": "2025-05-26T08:33:39.232014Z",
     "iopub.status.idle": "2025-05-26T08:33:39.235510Z",
     "shell.execute_reply": "2025-05-26T08:33:39.234881Z"
    },
    "papermill": {
     "duration": 0.012451,
     "end_time": "2025-05-26T08:33:39.237107",
     "exception": false,
     "start_time": "2025-05-26T08:33:39.224656",
     "status": "completed"
    },
    "tags": []
   },
   "outputs": [],
   "source": [
    "#q6.hint()\n",
    "#q6.solution()"
   ]
  },
  {
   "cell_type": "markdown",
   "id": "202e8318",
   "metadata": {
    "papermill": {
     "duration": 0.006035,
     "end_time": "2025-05-26T08:33:39.249897",
     "exception": false,
     "start_time": "2025-05-26T08:33:39.243862",
     "status": "completed"
    },
    "tags": []
   },
   "source": [
    "## 7.\n",
    "\n",
    "Create a variable `df` containing the `country` and `variety` columns of the first 100 records. \n",
    "\n",
    "Hint: you may use `loc` or `iloc`. When working on the answer this question and the several of the ones that follow, keep the following \"gotcha\" described in the tutorial:\n",
    "\n",
    "> `iloc` uses the Python stdlib indexing scheme, where the first element of the range is included and the last one excluded. \n",
    "`loc`, meanwhile, indexes inclusively. \n",
    "\n",
    "> This is particularly confusing when the DataFrame index is a simple numerical list, e.g. `0,...,1000`. In this case `df.iloc[0:1000]` will return 1000 entries, while `df.loc[0:1000]` return 1001 of them! To get 1000 elements using `loc`, you will need to go one lower and ask for `df.iloc[0:999]`. "
   ]
  },
  {
   "cell_type": "code",
   "execution_count": 15,
   "id": "5556f996",
   "metadata": {
    "execution": {
     "iopub.execute_input": "2025-05-26T08:33:39.263596Z",
     "iopub.status.busy": "2025-05-26T08:33:39.263249Z",
     "iopub.status.idle": "2025-05-26T08:33:39.271208Z",
     "shell.execute_reply": "2025-05-26T08:33:39.270519Z"
    },
    "papermill": {
     "duration": 0.016403,
     "end_time": "2025-05-26T08:33:39.272517",
     "exception": false,
     "start_time": "2025-05-26T08:33:39.256114",
     "status": "completed"
    },
    "tags": []
   },
   "outputs": [
    {
     "data": {
      "application/javascript": [
       "parent.postMessage({\"jupyterEvent\": \"custom.exercise_interaction\", \"data\": {\"outcomeType\": 4, \"interactionType\": 1, \"questionType\": 1, \"questionId\": \"7_RowColSelect2\", \"learnToolsVersion\": \"0.3.5\", \"valueTowardsCompletion\": 0.0, \"failureMessage\": \"\", \"exceptionClass\": \"\", \"trace\": \"\"}}, \"*\")"
      ],
      "text/plain": [
       "<IPython.core.display.Javascript object>"
      ]
     },
     "metadata": {},
     "output_type": "display_data"
    },
    {
     "data": {
      "text/markdown": [
       "<span style=\"color:#ccaa33\">Check:</span> When you've updated the starter code, `check()` will tell you whether your code is correct. You need to update the code that creates variable `df`"
      ],
      "text/plain": [
       "Check: When you've updated the starter code, `check()` will tell you whether your code is correct. You need to update the code that creates variable `df`"
      ]
     },
     "metadata": {},
     "output_type": "display_data"
    },
    {
     "data": {
      "text/markdown": [],
      "text/plain": [
       "<learntools.core.constants.PlaceholderValue at 0x7a7e0b601ad0>"
      ]
     },
     "execution_count": 15,
     "metadata": {},
     "output_type": "execute_result"
    }
   ],
   "source": [
    "df = ____\n",
    "\n",
    "# Check your answer\n",
    "q7.check()\n",
    "df"
   ]
  },
  {
   "cell_type": "code",
   "execution_count": 16,
   "id": "6442cbfb",
   "metadata": {
    "execution": {
     "iopub.execute_input": "2025-05-26T08:33:39.287367Z",
     "iopub.status.busy": "2025-05-26T08:33:39.287100Z",
     "iopub.status.idle": "2025-05-26T08:33:39.290915Z",
     "shell.execute_reply": "2025-05-26T08:33:39.290041Z"
    },
    "papermill": {
     "duration": 0.012884,
     "end_time": "2025-05-26T08:33:39.292420",
     "exception": false,
     "start_time": "2025-05-26T08:33:39.279536",
     "status": "completed"
    },
    "tags": []
   },
   "outputs": [],
   "source": [
    "#q7.hint()\n",
    "#q7.solution()"
   ]
  },
  {
   "cell_type": "markdown",
   "id": "5b14e553",
   "metadata": {
    "papermill": {
     "duration": 0.006343,
     "end_time": "2025-05-26T08:33:39.305718",
     "exception": false,
     "start_time": "2025-05-26T08:33:39.299375",
     "status": "completed"
    },
    "tags": []
   },
   "source": [
    "## 8.\n",
    "\n",
    "Create a DataFrame `italian_wines` containing reviews of wines made in `Italy`. Hint: `reviews.country` equals what?"
   ]
  },
  {
   "cell_type": "code",
   "execution_count": 17,
   "id": "9feff719",
   "metadata": {
    "execution": {
     "iopub.execute_input": "2025-05-26T08:33:39.320695Z",
     "iopub.status.busy": "2025-05-26T08:33:39.319624Z",
     "iopub.status.idle": "2025-05-26T08:33:39.326737Z",
     "shell.execute_reply": "2025-05-26T08:33:39.325872Z"
    },
    "papermill": {
     "duration": 0.015892,
     "end_time": "2025-05-26T08:33:39.328164",
     "exception": false,
     "start_time": "2025-05-26T08:33:39.312272",
     "status": "completed"
    },
    "tags": []
   },
   "outputs": [
    {
     "data": {
      "application/javascript": [
       "parent.postMessage({\"jupyterEvent\": \"custom.exercise_interaction\", \"data\": {\"outcomeType\": 4, \"interactionType\": 1, \"questionType\": 1, \"questionId\": \"8_ItalianWines\", \"learnToolsVersion\": \"0.3.5\", \"valueTowardsCompletion\": 0.0, \"failureMessage\": \"\", \"exceptionClass\": \"\", \"trace\": \"\"}}, \"*\")"
      ],
      "text/plain": [
       "<IPython.core.display.Javascript object>"
      ]
     },
     "metadata": {},
     "output_type": "display_data"
    },
    {
     "data": {
      "text/markdown": [
       "<span style=\"color:#ccaa33\">Check:</span> When you've updated the starter code, `check()` will tell you whether your code is correct. You need to update the code that creates variable `italian_wines`"
      ],
      "text/plain": [
       "Check: When you've updated the starter code, `check()` will tell you whether your code is correct. You need to update the code that creates variable `italian_wines`"
      ]
     },
     "metadata": {},
     "output_type": "display_data"
    }
   ],
   "source": [
    "italian_wines = ____\n",
    "\n",
    "# Check your answer\n",
    "q8.check()"
   ]
  },
  {
   "cell_type": "code",
   "execution_count": 18,
   "id": "b3ffae56",
   "metadata": {
    "execution": {
     "iopub.execute_input": "2025-05-26T08:33:39.343785Z",
     "iopub.status.busy": "2025-05-26T08:33:39.343095Z",
     "iopub.status.idle": "2025-05-26T08:33:39.346793Z",
     "shell.execute_reply": "2025-05-26T08:33:39.346082Z"
    },
    "papermill": {
     "duration": 0.012843,
     "end_time": "2025-05-26T08:33:39.348152",
     "exception": false,
     "start_time": "2025-05-26T08:33:39.335309",
     "status": "completed"
    },
    "tags": []
   },
   "outputs": [],
   "source": [
    "#q8.hint()\n",
    "#q8.solution()"
   ]
  },
  {
   "cell_type": "markdown",
   "id": "dfc1da09",
   "metadata": {
    "papermill": {
     "duration": 0.006585,
     "end_time": "2025-05-26T08:33:39.361977",
     "exception": false,
     "start_time": "2025-05-26T08:33:39.355392",
     "status": "completed"
    },
    "tags": []
   },
   "source": [
    "## 9.\n",
    "\n",
    "Create a DataFrame `top_oceania_wines` containing all reviews with at least 95 points (out of 100) for wines from Australia or New Zealand."
   ]
  },
  {
   "cell_type": "code",
   "execution_count": 19,
   "id": "bb91e9fd",
   "metadata": {
    "execution": {
     "iopub.execute_input": "2025-05-26T08:33:39.377381Z",
     "iopub.status.busy": "2025-05-26T08:33:39.377104Z",
     "iopub.status.idle": "2025-05-26T08:33:39.385888Z",
     "shell.execute_reply": "2025-05-26T08:33:39.385023Z"
    },
    "papermill": {
     "duration": 0.018306,
     "end_time": "2025-05-26T08:33:39.387297",
     "exception": false,
     "start_time": "2025-05-26T08:33:39.368991",
     "status": "completed"
    },
    "tags": []
   },
   "outputs": [
    {
     "data": {
      "application/javascript": [
       "parent.postMessage({\"jupyterEvent\": \"custom.exercise_interaction\", \"data\": {\"outcomeType\": 4, \"interactionType\": 1, \"questionType\": 1, \"questionId\": \"9_TopOceanicWines\", \"learnToolsVersion\": \"0.3.5\", \"valueTowardsCompletion\": 0.0, \"failureMessage\": \"\", \"exceptionClass\": \"\", \"trace\": \"\"}}, \"*\")"
      ],
      "text/plain": [
       "<IPython.core.display.Javascript object>"
      ]
     },
     "metadata": {},
     "output_type": "display_data"
    },
    {
     "data": {
      "text/markdown": [
       "<span style=\"color:#ccaa33\">Check:</span> When you've updated the starter code, `check()` will tell you whether your code is correct. You need to update the code that creates variable `top_oceania_wines`"
      ],
      "text/plain": [
       "Check: When you've updated the starter code, `check()` will tell you whether your code is correct. You need to update the code that creates variable `top_oceania_wines`"
      ]
     },
     "metadata": {},
     "output_type": "display_data"
    },
    {
     "data": {
      "text/markdown": [],
      "text/plain": [
       "<learntools.core.constants.PlaceholderValue at 0x7a7e0b601ad0>"
      ]
     },
     "execution_count": 19,
     "metadata": {},
     "output_type": "execute_result"
    }
   ],
   "source": [
    "top_oceania_wines = ____\n",
    "\n",
    "# Check your answer\n",
    "q9.check()\n",
    "top_oceania_wines"
   ]
  },
  {
   "cell_type": "code",
   "execution_count": 20,
   "id": "fd113726",
   "metadata": {
    "execution": {
     "iopub.execute_input": "2025-05-26T08:33:39.403247Z",
     "iopub.status.busy": "2025-05-26T08:33:39.402670Z",
     "iopub.status.idle": "2025-05-26T08:33:39.406442Z",
     "shell.execute_reply": "2025-05-26T08:33:39.405620Z"
    },
    "papermill": {
     "duration": 0.01313,
     "end_time": "2025-05-26T08:33:39.407931",
     "exception": false,
     "start_time": "2025-05-26T08:33:39.394801",
     "status": "completed"
    },
    "tags": []
   },
   "outputs": [],
   "source": [
    "#q9.hint()\n",
    "#q9.solution()"
   ]
  },
  {
   "cell_type": "markdown",
   "id": "d7c97c76",
   "metadata": {
    "papermill": {
     "duration": 0.006867,
     "end_time": "2025-05-26T08:33:39.422007",
     "exception": false,
     "start_time": "2025-05-26T08:33:39.415140",
     "status": "completed"
    },
    "tags": []
   },
   "source": [
    "# Keep going\n",
    "\n",
    "Move on to learn about **[summary functions and maps](https://www.kaggle.com/residentmario/summary-functions-and-maps)**."
   ]
  },
  {
   "cell_type": "markdown",
   "id": "9f754696",
   "metadata": {
    "papermill": {
     "duration": 0.069114,
     "end_time": "2025-05-26T08:33:39.498215",
     "exception": false,
     "start_time": "2025-05-26T08:33:39.429101",
     "status": "completed"
    },
    "tags": []
   },
   "source": [
    "---\n",
    "\n",
    "\n",
    "\n",
    "\n",
    "*Have questions or comments? Visit the [course discussion forum](https://www.kaggle.com/learn/pandas/discussion) to chat with other learners.*"
   ]
  }
 ],
 "metadata": {
  "kaggle": {
   "accelerator": "none",
   "dataSources": [
    {
     "datasetId": 655,
     "sourceId": 1252,
     "sourceType": "datasetVersion"
    },
    {
     "datasetId": 2321,
     "sourceId": 3919,
     "sourceType": "datasetVersion"
    },
    {
     "datasetId": 2894,
     "sourceId": 4877,
     "sourceType": "datasetVersion"
    },
    {
     "datasetId": 3491,
     "sourceId": 5624,
     "sourceType": "datasetVersion"
    },
    {
     "datasetId": 1442,
     "sourceId": 8172,
     "sourceType": "datasetVersion"
    },
    {
     "datasetId": 9366,
     "sourceId": 13206,
     "sourceType": "datasetVersion"
    },
    {
     "datasetId": 179555,
     "sourceId": 403916,
     "sourceType": "datasetVersion"
    },
    {
     "datasetId": 4549,
     "sourceId": 466349,
     "sourceType": "datasetVersion"
    },
    {
     "datasetId": 2478,
     "sourceId": 1151655,
     "sourceType": "datasetVersion"
    },
    {
     "datasetId": 10128,
     "sourceId": 5438389,
     "sourceType": "datasetVersion"
    }
   ],
   "isGpuEnabled": false,
   "isInternetEnabled": false,
   "language": "python",
   "sourceType": "notebook"
  },
  "kernelspec": {
   "display_name": "Python 3",
   "language": "python",
   "name": "python3"
  },
  "language_info": {
   "codemirror_mode": {
    "name": "ipython",
    "version": 3
   },
   "file_extension": ".py",
   "mimetype": "text/x-python",
   "name": "python",
   "nbconvert_exporter": "python",
   "pygments_lexer": "ipython3",
   "version": "3.11.11"
  },
  "papermill": {
   "default_parameters": {},
   "duration": 10.539157,
   "end_time": "2025-05-26T08:33:40.026267",
   "environment_variables": {},
   "exception": null,
   "input_path": "__notebook__.ipynb",
   "output_path": "__notebook__.ipynb",
   "parameters": {},
   "start_time": "2025-05-26T08:33:29.487110",
   "version": "2.6.0"
  }
 },
 "nbformat": 4,
 "nbformat_minor": 5
}
