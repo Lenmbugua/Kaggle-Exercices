{
 "cells": [
  {
   "cell_type": "markdown",
   "id": "bccd2f09",
   "metadata": {
    "papermill": {
     "duration": 0.005953,
     "end_time": "2025-05-26T08:37:25.831808",
     "exception": false,
     "start_time": "2025-05-26T08:37:25.825855",
     "status": "completed"
    },
    "tags": []
   },
   "source": [
    "**This notebook is an exercise in the [Pandas](https://www.kaggle.com/learn/pandas) course.  You can reference the tutorial at [this link](https://www.kaggle.com/residentmario/indexing-selecting-assigning).**\n",
    "\n",
    "---\n"
   ]
  },
  {
   "cell_type": "markdown",
   "id": "ef26c20d",
   "metadata": {
    "papermill": {
     "duration": 0.004875,
     "end_time": "2025-05-26T08:37:25.842152",
     "exception": false,
     "start_time": "2025-05-26T08:37:25.837277",
     "status": "completed"
    },
    "tags": []
   },
   "source": [
    "# Introduction\n",
    "\n",
    "In this set of exercises we will work with the [Wine Reviews dataset](https://www.kaggle.com/zynicide/wine-reviews). "
   ]
  },
  {
   "cell_type": "markdown",
   "id": "28d5ddac",
   "metadata": {
    "papermill": {
     "duration": 0.004847,
     "end_time": "2025-05-26T08:37:25.852188",
     "exception": false,
     "start_time": "2025-05-26T08:37:25.847341",
     "status": "completed"
    },
    "tags": []
   },
   "source": [
    "Run the following cell to load your data and some utility functions (including code to check your answers)."
   ]
  },
  {
   "cell_type": "code",
   "execution_count": 1,
   "id": "2071dce5",
   "metadata": {
    "execution": {
     "iopub.execute_input": "2025-05-26T08:37:25.864356Z",
     "iopub.status.busy": "2025-05-26T08:37:25.863951Z",
     "iopub.status.idle": "2025-05-26T08:37:31.230023Z",
     "shell.execute_reply": "2025-05-26T08:37:31.228973Z"
    },
    "papermill": {
     "duration": 5.374476,
     "end_time": "2025-05-26T08:37:31.231809",
     "exception": false,
     "start_time": "2025-05-26T08:37:25.857333",
     "status": "completed"
    },
    "tags": []
   },
   "outputs": [
    {
     "name": "stdout",
     "output_type": "stream",
     "text": [
      "Setup complete.\n"
     ]
    }
   ],
   "source": [
    "import pandas as pd\n",
    "\n",
    "reviews = pd.read_csv(\"../input/wine-reviews/winemag-data-130k-v2.csv\", index_col=0)\n",
    "pd.set_option(\"display.max_rows\", 5)\n",
    "\n",
    "from learntools.core import binder; binder.bind(globals())\n",
    "from learntools.pandas.indexing_selecting_and_assigning import *\n",
    "print(\"Setup complete.\")"
   ]
  },
  {
   "cell_type": "markdown",
   "id": "2ba2563a",
   "metadata": {
    "papermill": {
     "duration": 0.005046,
     "end_time": "2025-05-26T08:37:31.242573",
     "exception": false,
     "start_time": "2025-05-26T08:37:31.237527",
     "status": "completed"
    },
    "tags": []
   },
   "source": [
    "Look at an overview of your data by running the following line."
   ]
  },
  {
   "cell_type": "code",
   "execution_count": 2,
   "id": "652765df",
   "metadata": {
    "execution": {
     "iopub.execute_input": "2025-05-26T08:37:31.254934Z",
     "iopub.status.busy": "2025-05-26T08:37:31.254570Z",
     "iopub.status.idle": "2025-05-26T08:37:31.285791Z",
     "shell.execute_reply": "2025-05-26T08:37:31.284676Z"
    },
    "papermill": {
     "duration": 0.039863,
     "end_time": "2025-05-26T08:37:31.287698",
     "exception": false,
     "start_time": "2025-05-26T08:37:31.247835",
     "status": "completed"
    },
    "tags": []
   },
   "outputs": [
    {
     "name": "stderr",
     "output_type": "stream",
     "text": [
      "/usr/local/lib/python3.11/dist-packages/pandas/io/formats/format.py:1458: RuntimeWarning: invalid value encountered in greater\n",
      "  has_large_values = (abs_vals > 1e6).any()\n",
      "/usr/local/lib/python3.11/dist-packages/pandas/io/formats/format.py:1459: RuntimeWarning: invalid value encountered in less\n",
      "  has_small_values = ((abs_vals < 10 ** (-self.digits)) & (abs_vals > 0)).any()\n",
      "/usr/local/lib/python3.11/dist-packages/pandas/io/formats/format.py:1459: RuntimeWarning: invalid value encountered in greater\n",
      "  has_small_values = ((abs_vals < 10 ** (-self.digits)) & (abs_vals > 0)).any()\n"
     ]
    },
    {
     "data": {
      "text/html": [
       "<div>\n",
       "<style scoped>\n",
       "    .dataframe tbody tr th:only-of-type {\n",
       "        vertical-align: middle;\n",
       "    }\n",
       "\n",
       "    .dataframe tbody tr th {\n",
       "        vertical-align: top;\n",
       "    }\n",
       "\n",
       "    .dataframe thead th {\n",
       "        text-align: right;\n",
       "    }\n",
       "</style>\n",
       "<table border=\"1\" class=\"dataframe\">\n",
       "  <thead>\n",
       "    <tr style=\"text-align: right;\">\n",
       "      <th></th>\n",
       "      <th>country</th>\n",
       "      <th>description</th>\n",
       "      <th>designation</th>\n",
       "      <th>points</th>\n",
       "      <th>price</th>\n",
       "      <th>province</th>\n",
       "      <th>region_1</th>\n",
       "      <th>region_2</th>\n",
       "      <th>taster_name</th>\n",
       "      <th>taster_twitter_handle</th>\n",
       "      <th>title</th>\n",
       "      <th>variety</th>\n",
       "      <th>winery</th>\n",
       "    </tr>\n",
       "  </thead>\n",
       "  <tbody>\n",
       "    <tr>\n",
       "      <th>0</th>\n",
       "      <td>Italy</td>\n",
       "      <td>Aromas include tropical fruit, broom, brimston...</td>\n",
       "      <td>Vulkà Bianco</td>\n",
       "      <td>87</td>\n",
       "      <td>NaN</td>\n",
       "      <td>Sicily &amp; Sardinia</td>\n",
       "      <td>Etna</td>\n",
       "      <td>NaN</td>\n",
       "      <td>Kerin O’Keefe</td>\n",
       "      <td>@kerinokeefe</td>\n",
       "      <td>Nicosia 2013 Vulkà Bianco  (Etna)</td>\n",
       "      <td>White Blend</td>\n",
       "      <td>Nicosia</td>\n",
       "    </tr>\n",
       "    <tr>\n",
       "      <th>1</th>\n",
       "      <td>Portugal</td>\n",
       "      <td>This is ripe and fruity, a wine that is smooth...</td>\n",
       "      <td>Avidagos</td>\n",
       "      <td>87</td>\n",
       "      <td>15.0</td>\n",
       "      <td>Douro</td>\n",
       "      <td>NaN</td>\n",
       "      <td>NaN</td>\n",
       "      <td>Roger Voss</td>\n",
       "      <td>@vossroger</td>\n",
       "      <td>Quinta dos Avidagos 2011 Avidagos Red (Douro)</td>\n",
       "      <td>Portuguese Red</td>\n",
       "      <td>Quinta dos Avidagos</td>\n",
       "    </tr>\n",
       "    <tr>\n",
       "      <th>2</th>\n",
       "      <td>US</td>\n",
       "      <td>Tart and snappy, the flavors of lime flesh and...</td>\n",
       "      <td>NaN</td>\n",
       "      <td>87</td>\n",
       "      <td>14.0</td>\n",
       "      <td>Oregon</td>\n",
       "      <td>Willamette Valley</td>\n",
       "      <td>Willamette Valley</td>\n",
       "      <td>Paul Gregutt</td>\n",
       "      <td>@paulgwine</td>\n",
       "      <td>Rainstorm 2013 Pinot Gris (Willamette Valley)</td>\n",
       "      <td>Pinot Gris</td>\n",
       "      <td>Rainstorm</td>\n",
       "    </tr>\n",
       "    <tr>\n",
       "      <th>3</th>\n",
       "      <td>US</td>\n",
       "      <td>Pineapple rind, lemon pith and orange blossom ...</td>\n",
       "      <td>Reserve Late Harvest</td>\n",
       "      <td>87</td>\n",
       "      <td>13.0</td>\n",
       "      <td>Michigan</td>\n",
       "      <td>Lake Michigan Shore</td>\n",
       "      <td>NaN</td>\n",
       "      <td>Alexander Peartree</td>\n",
       "      <td>NaN</td>\n",
       "      <td>St. Julian 2013 Reserve Late Harvest Riesling ...</td>\n",
       "      <td>Riesling</td>\n",
       "      <td>St. Julian</td>\n",
       "    </tr>\n",
       "    <tr>\n",
       "      <th>4</th>\n",
       "      <td>US</td>\n",
       "      <td>Much like the regular bottling from 2012, this...</td>\n",
       "      <td>Vintner's Reserve Wild Child Block</td>\n",
       "      <td>87</td>\n",
       "      <td>65.0</td>\n",
       "      <td>Oregon</td>\n",
       "      <td>Willamette Valley</td>\n",
       "      <td>Willamette Valley</td>\n",
       "      <td>Paul Gregutt</td>\n",
       "      <td>@paulgwine</td>\n",
       "      <td>Sweet Cheeks 2012 Vintner's Reserve Wild Child...</td>\n",
       "      <td>Pinot Noir</td>\n",
       "      <td>Sweet Cheeks</td>\n",
       "    </tr>\n",
       "  </tbody>\n",
       "</table>\n",
       "</div>"
      ],
      "text/plain": [
       "    country                                        description  \\\n",
       "0     Italy  Aromas include tropical fruit, broom, brimston...   \n",
       "1  Portugal  This is ripe and fruity, a wine that is smooth...   \n",
       "2        US  Tart and snappy, the flavors of lime flesh and...   \n",
       "3        US  Pineapple rind, lemon pith and orange blossom ...   \n",
       "4        US  Much like the regular bottling from 2012, this...   \n",
       "\n",
       "                          designation  points  price           province  \\\n",
       "0                        Vulkà Bianco      87    NaN  Sicily & Sardinia   \n",
       "1                            Avidagos      87   15.0              Douro   \n",
       "2                                 NaN      87   14.0             Oregon   \n",
       "3                Reserve Late Harvest      87   13.0           Michigan   \n",
       "4  Vintner's Reserve Wild Child Block      87   65.0             Oregon   \n",
       "\n",
       "              region_1           region_2         taster_name  \\\n",
       "0                 Etna                NaN       Kerin O’Keefe   \n",
       "1                  NaN                NaN          Roger Voss   \n",
       "2    Willamette Valley  Willamette Valley        Paul Gregutt   \n",
       "3  Lake Michigan Shore                NaN  Alexander Peartree   \n",
       "4    Willamette Valley  Willamette Valley        Paul Gregutt   \n",
       "\n",
       "  taster_twitter_handle                                              title  \\\n",
       "0          @kerinokeefe                  Nicosia 2013 Vulkà Bianco  (Etna)   \n",
       "1            @vossroger      Quinta dos Avidagos 2011 Avidagos Red (Douro)   \n",
       "2           @paulgwine       Rainstorm 2013 Pinot Gris (Willamette Valley)   \n",
       "3                   NaN  St. Julian 2013 Reserve Late Harvest Riesling ...   \n",
       "4           @paulgwine   Sweet Cheeks 2012 Vintner's Reserve Wild Child...   \n",
       "\n",
       "          variety               winery  \n",
       "0     White Blend              Nicosia  \n",
       "1  Portuguese Red  Quinta dos Avidagos  \n",
       "2      Pinot Gris            Rainstorm  \n",
       "3        Riesling           St. Julian  \n",
       "4      Pinot Noir         Sweet Cheeks  "
      ]
     },
     "execution_count": 2,
     "metadata": {},
     "output_type": "execute_result"
    }
   ],
   "source": [
    "reviews.head()"
   ]
  },
  {
   "cell_type": "markdown",
   "id": "00ac5b4a",
   "metadata": {
    "papermill": {
     "duration": 0.006238,
     "end_time": "2025-05-26T08:37:31.299933",
     "exception": false,
     "start_time": "2025-05-26T08:37:31.293695",
     "status": "completed"
    },
    "tags": []
   },
   "source": [
    "# Exercises"
   ]
  },
  {
   "cell_type": "markdown",
   "id": "c006498b",
   "metadata": {
    "papermill": {
     "duration": 0.006,
     "end_time": "2025-05-26T08:37:31.311651",
     "exception": false,
     "start_time": "2025-05-26T08:37:31.305651",
     "status": "completed"
    },
    "tags": []
   },
   "source": [
    "## 1.\n",
    "\n",
    "Select the `description` column from `reviews` and assign the result to the variable `desc`."
   ]
  },
  {
   "cell_type": "code",
   "execution_count": 3,
   "id": "8147a2ed",
   "metadata": {
    "execution": {
     "iopub.execute_input": "2025-05-26T08:37:31.325021Z",
     "iopub.status.busy": "2025-05-26T08:37:31.324719Z",
     "iopub.status.idle": "2025-05-26T08:37:31.334847Z",
     "shell.execute_reply": "2025-05-26T08:37:31.333812Z"
    },
    "papermill": {
     "duration": 0.018645,
     "end_time": "2025-05-26T08:37:31.336592",
     "exception": false,
     "start_time": "2025-05-26T08:37:31.317947",
     "status": "completed"
    },
    "tags": []
   },
   "outputs": [
    {
     "data": {
      "text/plain": [
       "\"Aromas include tropical fruit, broom, brimstone and dried herb. The palate isn't overly expressive, offering unripened apple, citrus and dried sage alongside brisk acidity.\""
      ]
     },
     "execution_count": 3,
     "metadata": {},
     "output_type": "execute_result"
    }
   ],
   "source": [
    "# Your code here\n",
    "desc = reviews['description'][0]\n",
    "\n",
    "# Check your answer\n",
    "type(desc)\n",
    "desc\n"
   ]
  },
  {
   "cell_type": "markdown",
   "id": "07efe3ce",
   "metadata": {
    "papermill": {
     "duration": 0.005836,
     "end_time": "2025-05-26T08:37:31.348379",
     "exception": false,
     "start_time": "2025-05-26T08:37:31.342543",
     "status": "completed"
    },
    "tags": []
   },
   "source": [
    "Follow-up question: what type of object is `desc`? If you're not sure, you can check by calling Python's `type` function: `type(desc)`."
   ]
  },
  {
   "cell_type": "code",
   "execution_count": 4,
   "id": "a29cbb96",
   "metadata": {
    "execution": {
     "iopub.execute_input": "2025-05-26T08:37:31.362435Z",
     "iopub.status.busy": "2025-05-26T08:37:31.362107Z",
     "iopub.status.idle": "2025-05-26T08:37:31.366590Z",
     "shell.execute_reply": "2025-05-26T08:37:31.365335Z"
    },
    "papermill": {
     "duration": 0.01368,
     "end_time": "2025-05-26T08:37:31.368148",
     "exception": false,
     "start_time": "2025-05-26T08:37:31.354468",
     "status": "completed"
    },
    "tags": []
   },
   "outputs": [],
   "source": [
    "#q1.hint()\n",
    "#q1.solution()"
   ]
  },
  {
   "cell_type": "markdown",
   "id": "4e9cb643",
   "metadata": {
    "papermill": {
     "duration": 0.00566,
     "end_time": "2025-05-26T08:37:31.380560",
     "exception": false,
     "start_time": "2025-05-26T08:37:31.374900",
     "status": "completed"
    },
    "tags": []
   },
   "source": [
    "## 2.\n",
    "\n",
    "Select the first value from the description column of `reviews`, assigning it to variable `first_description`."
   ]
  },
  {
   "cell_type": "code",
   "execution_count": 5,
   "id": "cddf31ce",
   "metadata": {
    "execution": {
     "iopub.execute_input": "2025-05-26T08:37:31.394092Z",
     "iopub.status.busy": "2025-05-26T08:37:31.393802Z",
     "iopub.status.idle": "2025-05-26T08:37:31.400197Z",
     "shell.execute_reply": "2025-05-26T08:37:31.398940Z"
    },
    "papermill": {
     "duration": 0.015779,
     "end_time": "2025-05-26T08:37:31.402155",
     "exception": false,
     "start_time": "2025-05-26T08:37:31.386376",
     "status": "completed"
    },
    "tags": []
   },
   "outputs": [
    {
     "data": {
      "text/plain": [
       "\"Aromas include tropical fruit, broom, brimstone and dried herb. The palate isn't overly expressive, offering unripened apple, citrus and dried sage alongside brisk acidity.\""
      ]
     },
     "execution_count": 5,
     "metadata": {},
     "output_type": "execute_result"
    }
   ],
   "source": [
    "first_description = reviews.description.iloc[0]\n",
    "\n",
    "# Check your answer\n",
    "first_description"
   ]
  },
  {
   "cell_type": "code",
   "execution_count": 6,
   "id": "fcb24f45",
   "metadata": {
    "execution": {
     "iopub.execute_input": "2025-05-26T08:37:31.415622Z",
     "iopub.status.busy": "2025-05-26T08:37:31.415283Z",
     "iopub.status.idle": "2025-05-26T08:37:31.419471Z",
     "shell.execute_reply": "2025-05-26T08:37:31.418553Z"
    },
    "papermill": {
     "duration": 0.012684,
     "end_time": "2025-05-26T08:37:31.421200",
     "exception": false,
     "start_time": "2025-05-26T08:37:31.408516",
     "status": "completed"
    },
    "tags": []
   },
   "outputs": [],
   "source": [
    "#q2.hint()\n",
    "#q2.solution()"
   ]
  },
  {
   "cell_type": "markdown",
   "id": "eb5fea4c",
   "metadata": {
    "papermill": {
     "duration": 0.005901,
     "end_time": "2025-05-26T08:37:31.433002",
     "exception": false,
     "start_time": "2025-05-26T08:37:31.427101",
     "status": "completed"
    },
    "tags": []
   },
   "source": [
    "## 3. \n",
    "\n",
    "Select the first row of data (the first record) from `reviews`, assigning it to the variable `first_row`."
   ]
  },
  {
   "cell_type": "code",
   "execution_count": 7,
   "id": "689f360c",
   "metadata": {
    "execution": {
     "iopub.execute_input": "2025-05-26T08:37:31.447450Z",
     "iopub.status.busy": "2025-05-26T08:37:31.447108Z",
     "iopub.status.idle": "2025-05-26T08:37:31.454678Z",
     "shell.execute_reply": "2025-05-26T08:37:31.453822Z"
    },
    "papermill": {
     "duration": 0.016625,
     "end_time": "2025-05-26T08:37:31.456679",
     "exception": false,
     "start_time": "2025-05-26T08:37:31.440054",
     "status": "completed"
    },
    "tags": []
   },
   "outputs": [
    {
     "data": {
      "text/plain": [
       "country                                                    Italy\n",
       "description    Aromas include tropical fruit, broom, brimston...\n",
       "                                     ...                        \n",
       "variety                                              White Blend\n",
       "winery                                                   Nicosia\n",
       "Name: 0, Length: 13, dtype: object"
      ]
     },
     "execution_count": 7,
     "metadata": {},
     "output_type": "execute_result"
    }
   ],
   "source": [
    "first_row = reviews.iloc[0]\n",
    "\n",
    "# Check your answer\n",
    "first_row"
   ]
  },
  {
   "cell_type": "code",
   "execution_count": 8,
   "id": "a8270411",
   "metadata": {
    "execution": {
     "iopub.execute_input": "2025-05-26T08:37:31.470887Z",
     "iopub.status.busy": "2025-05-26T08:37:31.470567Z",
     "iopub.status.idle": "2025-05-26T08:37:31.474843Z",
     "shell.execute_reply": "2025-05-26T08:37:31.474071Z"
    },
    "papermill": {
     "duration": 0.013558,
     "end_time": "2025-05-26T08:37:31.476556",
     "exception": false,
     "start_time": "2025-05-26T08:37:31.462998",
     "status": "completed"
    },
    "tags": []
   },
   "outputs": [],
   "source": [
    "#q3.hint()\n",
    "#q3.solution()"
   ]
  },
  {
   "cell_type": "markdown",
   "id": "9712631d",
   "metadata": {
    "papermill": {
     "duration": 0.005821,
     "end_time": "2025-05-26T08:37:31.488556",
     "exception": false,
     "start_time": "2025-05-26T08:37:31.482735",
     "status": "completed"
    },
    "tags": []
   },
   "source": [
    "## 4.\n",
    "\n",
    "Select the first 10 values from the `description` column in `reviews`, assigning the result to variable `first_descriptions`.\n",
    "\n",
    "Hint: format your output as a pandas Series."
   ]
  },
  {
   "cell_type": "code",
   "execution_count": 9,
   "id": "e39086fd",
   "metadata": {
    "execution": {
     "iopub.execute_input": "2025-05-26T08:37:31.501889Z",
     "iopub.status.busy": "2025-05-26T08:37:31.501585Z",
     "iopub.status.idle": "2025-05-26T08:37:31.508849Z",
     "shell.execute_reply": "2025-05-26T08:37:31.507878Z"
    },
    "papermill": {
     "duration": 0.015981,
     "end_time": "2025-05-26T08:37:31.510587",
     "exception": false,
     "start_time": "2025-05-26T08:37:31.494606",
     "status": "completed"
    },
    "tags": []
   },
   "outputs": [
    {
     "data": {
      "text/plain": [
       "0    Aromas include tropical fruit, broom, brimston...\n",
       "1    This is ripe and fruity, a wine that is smooth...\n",
       "                           ...                        \n",
       "8    Savory dried thyme notes accent sunnier flavor...\n",
       "9    This has great depth of flavor with its fresh ...\n",
       "Name: description, Length: 10, dtype: object"
      ]
     },
     "execution_count": 9,
     "metadata": {},
     "output_type": "execute_result"
    }
   ],
   "source": [
    "first_descriptions = reviews.description.iloc[:10]\n",
    "\n",
    "# Check your answer\n",
    "first_descriptions"
   ]
  },
  {
   "cell_type": "code",
   "execution_count": 10,
   "id": "49f50a24",
   "metadata": {
    "execution": {
     "iopub.execute_input": "2025-05-26T08:37:31.524361Z",
     "iopub.status.busy": "2025-05-26T08:37:31.524048Z",
     "iopub.status.idle": "2025-05-26T08:37:31.528177Z",
     "shell.execute_reply": "2025-05-26T08:37:31.527255Z"
    },
    "papermill": {
     "duration": 0.012913,
     "end_time": "2025-05-26T08:37:31.529840",
     "exception": false,
     "start_time": "2025-05-26T08:37:31.516927",
     "status": "completed"
    },
    "tags": []
   },
   "outputs": [],
   "source": [
    "#q4.hint()\n",
    "#q4.solution()"
   ]
  },
  {
   "cell_type": "markdown",
   "id": "a94021db",
   "metadata": {
    "papermill": {
     "duration": 0.006178,
     "end_time": "2025-05-26T08:37:31.542109",
     "exception": false,
     "start_time": "2025-05-26T08:37:31.535931",
     "status": "completed"
    },
    "tags": []
   },
   "source": [
    "## 5.\n",
    "\n",
    "Select the records with index labels `1`, `2`, `3`, `5`, and `8`, assigning the result to the variable `sample_reviews`.\n",
    "\n",
    "In other words, generate the following DataFrame:\n",
    "\n",
    "![](https://storage.googleapis.com/kaggle-media/learn/images/sHZvI1O.png)"
   ]
  },
  {
   "cell_type": "code",
   "execution_count": 11,
   "id": "618aed00",
   "metadata": {
    "execution": {
     "iopub.execute_input": "2025-05-26T08:37:31.555932Z",
     "iopub.status.busy": "2025-05-26T08:37:31.555603Z",
     "iopub.status.idle": "2025-05-26T08:37:31.566416Z",
     "shell.execute_reply": "2025-05-26T08:37:31.565482Z"
    },
    "papermill": {
     "duration": 0.020102,
     "end_time": "2025-05-26T08:37:31.568179",
     "exception": false,
     "start_time": "2025-05-26T08:37:31.548077",
     "status": "completed"
    },
    "tags": []
   },
   "outputs": [
    {
     "data": {
      "application/javascript": [
       "parent.postMessage({\"jupyterEvent\": \"custom.exercise_interaction\", \"data\": {\"outcomeType\": 4, \"interactionType\": 1, \"questionType\": 1, \"questionId\": \"5_SampleReviews\", \"learnToolsVersion\": \"0.3.5\", \"valueTowardsCompletion\": 0.0, \"failureMessage\": \"\", \"exceptionClass\": \"\", \"trace\": \"\"}}, \"*\")"
      ],
      "text/plain": [
       "<IPython.core.display.Javascript object>"
      ]
     },
     "metadata": {},
     "output_type": "display_data"
    },
    {
     "data": {
      "text/markdown": [
       "<span style=\"color:#ccaa33\">Check:</span> When you've updated the starter code, `check()` will tell you whether your code is correct. You need to update the code that creates variable `sample_reviews`"
      ],
      "text/plain": [
       "Check: When you've updated the starter code, `check()` will tell you whether your code is correct. You need to update the code that creates variable `sample_reviews`"
      ]
     },
     "metadata": {},
     "output_type": "display_data"
    },
    {
     "data": {
      "text/markdown": [],
      "text/plain": [
       "<learntools.core.constants.PlaceholderValue at 0x7b1bab0a1110>"
      ]
     },
     "execution_count": 11,
     "metadata": {},
     "output_type": "execute_result"
    }
   ],
   "source": [
    "sample_reviews = ____\n",
    "\n",
    "# Check your answer\n",
    "q5.check()\n",
    "sample_reviews"
   ]
  },
  {
   "cell_type": "code",
   "execution_count": 12,
   "id": "b7a3c71b",
   "metadata": {
    "execution": {
     "iopub.execute_input": "2025-05-26T08:37:31.583514Z",
     "iopub.status.busy": "2025-05-26T08:37:31.583162Z",
     "iopub.status.idle": "2025-05-26T08:37:31.588232Z",
     "shell.execute_reply": "2025-05-26T08:37:31.586982Z"
    },
    "papermill": {
     "duration": 0.015282,
     "end_time": "2025-05-26T08:37:31.590081",
     "exception": false,
     "start_time": "2025-05-26T08:37:31.574799",
     "status": "completed"
    },
    "tags": []
   },
   "outputs": [],
   "source": [
    "#q5.hint()\n",
    "#q5.solution()"
   ]
  },
  {
   "cell_type": "markdown",
   "id": "67da725d",
   "metadata": {
    "papermill": {
     "duration": 0.006079,
     "end_time": "2025-05-26T08:37:31.602659",
     "exception": false,
     "start_time": "2025-05-26T08:37:31.596580",
     "status": "completed"
    },
    "tags": []
   },
   "source": [
    "## 6.\n",
    "\n",
    "Create a variable `df` containing the `country`, `province`, `region_1`, and `region_2` columns of the records with the index labels `0`, `1`, `10`, and `100`. In other words, generate the following DataFrame:\n",
    "\n",
    "![](https://storage.googleapis.com/kaggle-media/learn/images/FUCGiKP.png)"
   ]
  },
  {
   "cell_type": "code",
   "execution_count": 13,
   "id": "1a6c182c",
   "metadata": {
    "execution": {
     "iopub.execute_input": "2025-05-26T08:37:31.616995Z",
     "iopub.status.busy": "2025-05-26T08:37:31.616663Z",
     "iopub.status.idle": "2025-05-26T08:37:31.626894Z",
     "shell.execute_reply": "2025-05-26T08:37:31.625496Z"
    },
    "papermill": {
     "duration": 0.02067,
     "end_time": "2025-05-26T08:37:31.629693",
     "exception": false,
     "start_time": "2025-05-26T08:37:31.609023",
     "status": "completed"
    },
    "tags": []
   },
   "outputs": [
    {
     "data": {
      "application/javascript": [
       "parent.postMessage({\"jupyterEvent\": \"custom.exercise_interaction\", \"data\": {\"outcomeType\": 4, \"interactionType\": 1, \"questionType\": 1, \"questionId\": \"6_RowColSelect\", \"learnToolsVersion\": \"0.3.5\", \"valueTowardsCompletion\": 0.0, \"failureMessage\": \"\", \"exceptionClass\": \"\", \"trace\": \"\"}}, \"*\")"
      ],
      "text/plain": [
       "<IPython.core.display.Javascript object>"
      ]
     },
     "metadata": {},
     "output_type": "display_data"
    },
    {
     "data": {
      "text/markdown": [
       "<span style=\"color:#ccaa33\">Check:</span> When you've updated the starter code, `check()` will tell you whether your code is correct. You need to update the code that creates variable `df`"
      ],
      "text/plain": [
       "Check: When you've updated the starter code, `check()` will tell you whether your code is correct. You need to update the code that creates variable `df`"
      ]
     },
     "metadata": {},
     "output_type": "display_data"
    },
    {
     "data": {
      "text/markdown": [],
      "text/plain": [
       "<learntools.core.constants.PlaceholderValue at 0x7b1bab0a1110>"
      ]
     },
     "execution_count": 13,
     "metadata": {},
     "output_type": "execute_result"
    }
   ],
   "source": [
    "df = ____\n",
    "\n",
    "# Check your answer\n",
    "q6.check()\n",
    "df"
   ]
  },
  {
   "cell_type": "code",
   "execution_count": 14,
   "id": "5cb571ca",
   "metadata": {
    "execution": {
     "iopub.execute_input": "2025-05-26T08:37:31.645493Z",
     "iopub.status.busy": "2025-05-26T08:37:31.645143Z",
     "iopub.status.idle": "2025-05-26T08:37:31.650319Z",
     "shell.execute_reply": "2025-05-26T08:37:31.649356Z"
    },
    "papermill": {
     "duration": 0.01457,
     "end_time": "2025-05-26T08:37:31.652129",
     "exception": false,
     "start_time": "2025-05-26T08:37:31.637559",
     "status": "completed"
    },
    "tags": []
   },
   "outputs": [],
   "source": [
    "#q6.hint()\n",
    "#q6.solution()"
   ]
  },
  {
   "cell_type": "markdown",
   "id": "0bf5f8d4",
   "metadata": {
    "papermill": {
     "duration": 0.006959,
     "end_time": "2025-05-26T08:37:31.666310",
     "exception": false,
     "start_time": "2025-05-26T08:37:31.659351",
     "status": "completed"
    },
    "tags": []
   },
   "source": [
    "## 7.\n",
    "\n",
    "Create a variable `df` containing the `country` and `variety` columns of the first 100 records. \n",
    "\n",
    "Hint: you may use `loc` or `iloc`. When working on the answer this question and the several of the ones that follow, keep the following \"gotcha\" described in the tutorial:\n",
    "\n",
    "> `iloc` uses the Python stdlib indexing scheme, where the first element of the range is included and the last one excluded. \n",
    "`loc`, meanwhile, indexes inclusively. \n",
    "\n",
    "> This is particularly confusing when the DataFrame index is a simple numerical list, e.g. `0,...,1000`. In this case `df.iloc[0:1000]` will return 1000 entries, while `df.loc[0:1000]` return 1001 of them! To get 1000 elements using `loc`, you will need to go one lower and ask for `df.iloc[0:999]`. "
   ]
  },
  {
   "cell_type": "code",
   "execution_count": 15,
   "id": "c13fb053",
   "metadata": {
    "execution": {
     "iopub.execute_input": "2025-05-26T08:37:31.682186Z",
     "iopub.status.busy": "2025-05-26T08:37:31.681868Z",
     "iopub.status.idle": "2025-05-26T08:37:31.691984Z",
     "shell.execute_reply": "2025-05-26T08:37:31.690523Z"
    },
    "papermill": {
     "duration": 0.020004,
     "end_time": "2025-05-26T08:37:31.693838",
     "exception": false,
     "start_time": "2025-05-26T08:37:31.673834",
     "status": "completed"
    },
    "tags": []
   },
   "outputs": [
    {
     "data": {
      "application/javascript": [
       "parent.postMessage({\"jupyterEvent\": \"custom.exercise_interaction\", \"data\": {\"outcomeType\": 4, \"interactionType\": 1, \"questionType\": 1, \"questionId\": \"7_RowColSelect2\", \"learnToolsVersion\": \"0.3.5\", \"valueTowardsCompletion\": 0.0, \"failureMessage\": \"\", \"exceptionClass\": \"\", \"trace\": \"\"}}, \"*\")"
      ],
      "text/plain": [
       "<IPython.core.display.Javascript object>"
      ]
     },
     "metadata": {},
     "output_type": "display_data"
    },
    {
     "data": {
      "text/markdown": [
       "<span style=\"color:#ccaa33\">Check:</span> When you've updated the starter code, `check()` will tell you whether your code is correct. You need to update the code that creates variable `df`"
      ],
      "text/plain": [
       "Check: When you've updated the starter code, `check()` will tell you whether your code is correct. You need to update the code that creates variable `df`"
      ]
     },
     "metadata": {},
     "output_type": "display_data"
    },
    {
     "data": {
      "text/markdown": [],
      "text/plain": [
       "<learntools.core.constants.PlaceholderValue at 0x7b1bab0a1110>"
      ]
     },
     "execution_count": 15,
     "metadata": {},
     "output_type": "execute_result"
    }
   ],
   "source": [
    "df = ____\n",
    "\n",
    "# Check your answer\n",
    "q7.check()\n",
    "df"
   ]
  },
  {
   "cell_type": "code",
   "execution_count": 16,
   "id": "da5e7531",
   "metadata": {
    "execution": {
     "iopub.execute_input": "2025-05-26T08:37:31.712974Z",
     "iopub.status.busy": "2025-05-26T08:37:31.712604Z",
     "iopub.status.idle": "2025-05-26T08:37:31.718377Z",
     "shell.execute_reply": "2025-05-26T08:37:31.717262Z"
    },
    "papermill": {
     "duration": 0.017859,
     "end_time": "2025-05-26T08:37:31.720125",
     "exception": false,
     "start_time": "2025-05-26T08:37:31.702266",
     "status": "completed"
    },
    "tags": []
   },
   "outputs": [],
   "source": [
    "#q7.hint()\n",
    "#q7.solution()"
   ]
  },
  {
   "cell_type": "markdown",
   "id": "073b6e84",
   "metadata": {
    "papermill": {
     "duration": 0.008672,
     "end_time": "2025-05-26T08:37:31.737213",
     "exception": false,
     "start_time": "2025-05-26T08:37:31.728541",
     "status": "completed"
    },
    "tags": []
   },
   "source": [
    "## 8.\n",
    "\n",
    "Create a DataFrame `italian_wines` containing reviews of wines made in `Italy`. Hint: `reviews.country` equals what?"
   ]
  },
  {
   "cell_type": "code",
   "execution_count": 17,
   "id": "5cb121bf",
   "metadata": {
    "execution": {
     "iopub.execute_input": "2025-05-26T08:37:31.754574Z",
     "iopub.status.busy": "2025-05-26T08:37:31.754235Z",
     "iopub.status.idle": "2025-05-26T08:37:31.761583Z",
     "shell.execute_reply": "2025-05-26T08:37:31.760817Z"
    },
    "papermill": {
     "duration": 0.018164,
     "end_time": "2025-05-26T08:37:31.762966",
     "exception": false,
     "start_time": "2025-05-26T08:37:31.744802",
     "status": "completed"
    },
    "tags": []
   },
   "outputs": [
    {
     "data": {
      "application/javascript": [
       "parent.postMessage({\"jupyterEvent\": \"custom.exercise_interaction\", \"data\": {\"outcomeType\": 4, \"interactionType\": 1, \"questionType\": 1, \"questionId\": \"8_ItalianWines\", \"learnToolsVersion\": \"0.3.5\", \"valueTowardsCompletion\": 0.0, \"failureMessage\": \"\", \"exceptionClass\": \"\", \"trace\": \"\"}}, \"*\")"
      ],
      "text/plain": [
       "<IPython.core.display.Javascript object>"
      ]
     },
     "metadata": {},
     "output_type": "display_data"
    },
    {
     "data": {
      "text/markdown": [
       "<span style=\"color:#ccaa33\">Check:</span> When you've updated the starter code, `check()` will tell you whether your code is correct. You need to update the code that creates variable `italian_wines`"
      ],
      "text/plain": [
       "Check: When you've updated the starter code, `check()` will tell you whether your code is correct. You need to update the code that creates variable `italian_wines`"
      ]
     },
     "metadata": {},
     "output_type": "display_data"
    }
   ],
   "source": [
    "italian_wines = ____\n",
    "\n",
    "# Check your answer\n",
    "q8.check()"
   ]
  },
  {
   "cell_type": "code",
   "execution_count": 18,
   "id": "c177f660",
   "metadata": {
    "execution": {
     "iopub.execute_input": "2025-05-26T08:37:31.778879Z",
     "iopub.status.busy": "2025-05-26T08:37:31.778569Z",
     "iopub.status.idle": "2025-05-26T08:37:31.782949Z",
     "shell.execute_reply": "2025-05-26T08:37:31.782033Z"
    },
    "papermill": {
     "duration": 0.014347,
     "end_time": "2025-05-26T08:37:31.784694",
     "exception": false,
     "start_time": "2025-05-26T08:37:31.770347",
     "status": "completed"
    },
    "tags": []
   },
   "outputs": [],
   "source": [
    "#q8.hint()\n",
    "#q8.solution()"
   ]
  },
  {
   "cell_type": "markdown",
   "id": "cb0a8f16",
   "metadata": {
    "papermill": {
     "duration": 0.006771,
     "end_time": "2025-05-26T08:37:31.798822",
     "exception": false,
     "start_time": "2025-05-26T08:37:31.792051",
     "status": "completed"
    },
    "tags": []
   },
   "source": [
    "## 9.\n",
    "\n",
    "Create a DataFrame `top_oceania_wines` containing all reviews with at least 95 points (out of 100) for wines from Australia or New Zealand."
   ]
  },
  {
   "cell_type": "code",
   "execution_count": 19,
   "id": "8fd57ff3",
   "metadata": {
    "execution": {
     "iopub.execute_input": "2025-05-26T08:37:31.814260Z",
     "iopub.status.busy": "2025-05-26T08:37:31.813905Z",
     "iopub.status.idle": "2025-05-26T08:37:31.823635Z",
     "shell.execute_reply": "2025-05-26T08:37:31.822725Z"
    },
    "papermill": {
     "duration": 0.019989,
     "end_time": "2025-05-26T08:37:31.825876",
     "exception": false,
     "start_time": "2025-05-26T08:37:31.805887",
     "status": "completed"
    },
    "tags": []
   },
   "outputs": [
    {
     "data": {
      "application/javascript": [
       "parent.postMessage({\"jupyterEvent\": \"custom.exercise_interaction\", \"data\": {\"outcomeType\": 4, \"interactionType\": 1, \"questionType\": 1, \"questionId\": \"9_TopOceanicWines\", \"learnToolsVersion\": \"0.3.5\", \"valueTowardsCompletion\": 0.0, \"failureMessage\": \"\", \"exceptionClass\": \"\", \"trace\": \"\"}}, \"*\")"
      ],
      "text/plain": [
       "<IPython.core.display.Javascript object>"
      ]
     },
     "metadata": {},
     "output_type": "display_data"
    },
    {
     "data": {
      "text/markdown": [
       "<span style=\"color:#ccaa33\">Check:</span> When you've updated the starter code, `check()` will tell you whether your code is correct. You need to update the code that creates variable `top_oceania_wines`"
      ],
      "text/plain": [
       "Check: When you've updated the starter code, `check()` will tell you whether your code is correct. You need to update the code that creates variable `top_oceania_wines`"
      ]
     },
     "metadata": {},
     "output_type": "display_data"
    },
    {
     "data": {
      "text/markdown": [],
      "text/plain": [
       "<learntools.core.constants.PlaceholderValue at 0x7b1bab0a1110>"
      ]
     },
     "execution_count": 19,
     "metadata": {},
     "output_type": "execute_result"
    }
   ],
   "source": [
    "top_oceania_wines = ____\n",
    "\n",
    "# Check your answer\n",
    "q9.check()\n",
    "top_oceania_wines"
   ]
  },
  {
   "cell_type": "code",
   "execution_count": 20,
   "id": "263bb67d",
   "metadata": {
    "execution": {
     "iopub.execute_input": "2025-05-26T08:37:31.843454Z",
     "iopub.status.busy": "2025-05-26T08:37:31.843102Z",
     "iopub.status.idle": "2025-05-26T08:37:31.848119Z",
     "shell.execute_reply": "2025-05-26T08:37:31.846843Z"
    },
    "papermill": {
     "duration": 0.01659,
     "end_time": "2025-05-26T08:37:31.850343",
     "exception": false,
     "start_time": "2025-05-26T08:37:31.833753",
     "status": "completed"
    },
    "tags": []
   },
   "outputs": [],
   "source": [
    "#q9.hint()\n",
    "#q9.solution()"
   ]
  },
  {
   "cell_type": "markdown",
   "id": "b4fa8568",
   "metadata": {
    "papermill": {
     "duration": 0.007484,
     "end_time": "2025-05-26T08:37:31.865776",
     "exception": false,
     "start_time": "2025-05-26T08:37:31.858292",
     "status": "completed"
    },
    "tags": []
   },
   "source": [
    "# Keep going\n",
    "\n",
    "Move on to learn about **[summary functions and maps](https://www.kaggle.com/residentmario/summary-functions-and-maps)**."
   ]
  },
  {
   "cell_type": "markdown",
   "id": "47bb3a40",
   "metadata": {
    "papermill": {
     "duration": 0.073121,
     "end_time": "2025-05-26T08:37:31.946881",
     "exception": false,
     "start_time": "2025-05-26T08:37:31.873760",
     "status": "completed"
    },
    "tags": []
   },
   "source": [
    "---\n",
    "\n",
    "\n",
    "\n",
    "\n",
    "*Have questions or comments? Visit the [course discussion forum](https://www.kaggle.com/learn/pandas/discussion) to chat with other learners.*"
   ]
  }
 ],
 "metadata": {
  "kaggle": {
   "accelerator": "none",
   "dataSources": [
    {
     "datasetId": 655,
     "sourceId": 1252,
     "sourceType": "datasetVersion"
    },
    {
     "datasetId": 2321,
     "sourceId": 3919,
     "sourceType": "datasetVersion"
    },
    {
     "datasetId": 2894,
     "sourceId": 4877,
     "sourceType": "datasetVersion"
    },
    {
     "datasetId": 3491,
     "sourceId": 5624,
     "sourceType": "datasetVersion"
    },
    {
     "datasetId": 1442,
     "sourceId": 8172,
     "sourceType": "datasetVersion"
    },
    {
     "datasetId": 9366,
     "sourceId": 13206,
     "sourceType": "datasetVersion"
    },
    {
     "datasetId": 179555,
     "sourceId": 403916,
     "sourceType": "datasetVersion"
    },
    {
     "datasetId": 4549,
     "sourceId": 466349,
     "sourceType": "datasetVersion"
    },
    {
     "datasetId": 2478,
     "sourceId": 1151655,
     "sourceType": "datasetVersion"
    },
    {
     "datasetId": 10128,
     "sourceId": 5438389,
     "sourceType": "datasetVersion"
    }
   ],
   "isGpuEnabled": false,
   "isInternetEnabled": false,
   "language": "python",
   "sourceType": "notebook"
  },
  "kernelspec": {
   "display_name": "Python 3",
   "language": "python",
   "name": "python3"
  },
  "language_info": {
   "codemirror_mode": {
    "name": "ipython",
    "version": 3
   },
   "file_extension": ".py",
   "mimetype": "text/x-python",
   "name": "python",
   "nbconvert_exporter": "python",
   "pygments_lexer": "ipython3",
   "version": "3.11.11"
  },
  "papermill": {
   "default_parameters": {},
   "duration": 11.814819,
   "end_time": "2025-05-26T08:37:32.574980",
   "environment_variables": {},
   "exception": null,
   "input_path": "__notebook__.ipynb",
   "output_path": "__notebook__.ipynb",
   "parameters": {},
   "start_time": "2025-05-26T08:37:20.760161",
   "version": "2.6.0"
  }
 },
 "nbformat": 4,
 "nbformat_minor": 5
}
